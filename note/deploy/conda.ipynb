{
 "cells": [
  {
   "cell_type": "markdown",
   "metadata": {
    "Collapsed": "false"
   },
   "source": [
    "# Conda Environments"
   ]
  },
  {
   "cell_type": "markdown",
   "metadata": {
    "Collapsed": "false"
   },
   "source": [
    "## Imports"
   ]
  },
  {
   "cell_type": "code",
   "execution_count": 1,
   "metadata": {
    "Collapsed": "false"
   },
   "outputs": [],
   "source": [
    "import os\n",
    "from os.path import dirname"
   ]
  },
  {
   "cell_type": "markdown",
   "metadata": {
    "Collapsed": "false"
   },
   "source": [
    "## Initialization\n",
    "\n",
    "Some important variables to be used afterwards."
   ]
  },
  {
   "cell_type": "code",
   "execution_count": 2,
   "metadata": {
    "Collapsed": "false"
   },
   "outputs": [],
   "source": [
    "name = \"nba-anomaly-generator\"\n",
    "\n",
    "root_dir = dirname(dirname(os.getcwd()))\n",
    "\n",
    "fn_conda_dep = 'dependencies-deploy.yaml'\n",
    "fn_conda_dev = 'dependencies-develop.yaml'"
   ]
  },
  {
   "cell_type": "markdown",
   "metadata": {
    "Collapsed": "false"
   },
   "source": [
    "# Introduction\n",
    "\n",
    "This cookiecutter is set up for optimal use with conda, for local dependency managment. The takeaway is this; for local dependency managment, we rely on conda and nothing else.\n",
    "\n",
    "Note that this has nothing to do with remote dependency managment. This is what you need to take care of when preparing a release of your code which goes via PyPi or alternatives. We treat that as an independent problem. Mixing remote and local dependency managment tends to add complexity instead of removing it."
   ]
  },
  {
   "cell_type": "markdown",
   "metadata": {
    "Collapsed": "false"
   },
   "source": [
    "# Workflow\n",
    "\n",
    "We distinguish between `deployment` and `development` environments. Of course, in research this is not always that useful or clear. We follow this rule of thumb:\n",
    "\n",
    "```\n",
    "Everything that should end up in pip release, goes in deployment\n",
    "```\n",
    "\n",
    "Which still justifies keeping the two separated."
   ]
  },
  {
   "cell_type": "markdown",
   "metadata": {
    "Collapsed": "false"
   },
   "source": [
    "## Deployment Environment\n",
    "\n",
    "This environment is whatever an end user may need in order to use your package.\n"
   ]
  },
  {
   "cell_type": "code",
   "execution_count": 3,
   "metadata": {
    "Collapsed": "false"
   },
   "outputs": [
    {
     "name": "stdout",
     "output_type": "stream",
     "text": [
      "# conda environments:\n",
      "#\n",
      "base                  *  /home/zissou/miniconda3\n",
      "admercs                  /home/zissou/miniconda3/envs/admercs\n",
      "aleph                    /home/zissou/miniconda3/envs/aleph\n",
      "autocompletion           /home/zissou/miniconda3/envs/autocompletion\n",
      "cern                     /home/zissou/miniconda3/envs/cern\n",
      "db-2020                  /home/zissou/miniconda3/envs/db-2020\n",
      "mercs-miss               /home/zissou/miniconda3/envs/mercs-miss\n",
      "rwrf                     /home/zissou/miniconda3/envs/rwrf\n",
      "\n"
     ]
    }
   ],
   "source": [
    "%%bash -s \"$name\" \"$root_dir\" \"$fn_conda_dep\"\n",
    "\n",
    "source ~/.bashrc\n",
    "\n",
    "conda env list"
   ]
  },
  {
   "cell_type": "code",
   "execution_count": 4,
   "metadata": {
    "Collapsed": "false"
   },
   "outputs": [
    {
     "name": "stdout",
     "output_type": "stream",
     "text": [
      "Collecting package metadata (repodata.json): ...working... done\n",
      "Solving environment: ...working... done\n",
      "\n",
      "Downloading and Extracting Packages\n",
      "ncurses-6.2          | 817 KB    | ########## | 100% \n",
      "python-3.8.3         | 49.1 MB   | ########## | 100% \n",
      "pip-20.0.2           | 1.7 MB    | ########## | 100% \n",
      "libffi-3.3           | 50 KB     | ########## | 100% \n",
      "setuptools-46.4.0    | 515 KB    | ########## | 100% \n",
      "Preparing transaction: ...working... done\n",
      "Verifying transaction: ...working... done\n",
      "Executing transaction: ...working... done\n",
      "Ran pip subprocess with arguments:\n",
      "['/home/zissou/miniconda3/envs/nba-anomaly-generator/bin/python', '-m', 'pip', 'install', '-U', '-r', '/home/zissou/repos/nba-anomaly-generator/condaenv.msev0on1.requirements.txt']\n",
      "Pip subprocess output:\n",
      "Collecting ipython\n",
      "  Downloading ipython-7.14.0-py3-none-any.whl (782 kB)\n",
      "Collecting numpy\n",
      "  Downloading numpy-1.18.4-cp38-cp38-manylinux1_x86_64.whl (20.7 MB)\n",
      "Collecting pandas\n",
      "  Downloading pandas-1.0.3-cp38-cp38-manylinux1_x86_64.whl (10.0 MB)\n",
      "Collecting scipy\n",
      "  Downloading scipy-1.4.1-cp38-cp38-manylinux1_x86_64.whl (26.0 MB)\n",
      "Collecting scikit-learn\n",
      "  Downloading scikit_learn-0.23.1-cp38-cp38-manylinux1_x86_64.whl (6.7 MB)\n",
      "Collecting nba_api\n",
      "  Using cached nba_api-1.1.8-py3-none-any.whl (217 kB)\n",
      "Collecting decorator\n",
      "  Downloading decorator-4.4.2-py2.py3-none-any.whl (9.2 kB)\n",
      "Collecting jedi>=0.10\n",
      "  Downloading jedi-0.17.0-py2.py3-none-any.whl (1.1 MB)\n",
      "Collecting pickleshare\n",
      "  Using cached pickleshare-0.7.5-py2.py3-none-any.whl (6.9 kB)\n",
      "Collecting traitlets>=4.2\n",
      "  Using cached traitlets-4.3.3-py2.py3-none-any.whl (75 kB)\n",
      "Collecting prompt-toolkit!=3.0.0,!=3.0.1,<3.1.0,>=2.0.0\n",
      "  Using cached prompt_toolkit-3.0.5-py3-none-any.whl (351 kB)\n",
      "Collecting pygments\n",
      "  Using cached Pygments-2.6.1-py3-none-any.whl (914 kB)\n",
      "Collecting pexpect; sys_platform != \"win32\"\n",
      "  Using cached pexpect-4.8.0-py2.py3-none-any.whl (59 kB)\n",
      "Collecting backcall\n",
      "  Using cached backcall-0.1.0.tar.gz (9.7 kB)\n",
      "Requirement already satisfied, skipping upgrade: setuptools>=18.5 in /home/zissou/miniconda3/envs/nba-anomaly-generator/lib/python3.8/site-packages (from ipython->-r /home/zissou/repos/nba-anomaly-generator/condaenv.msev0on1.requirements.txt (line 1)) (46.4.0.post20200518)\n",
      "Collecting pytz>=2017.2\n",
      "  Downloading pytz-2020.1-py2.py3-none-any.whl (510 kB)\n",
      "Collecting python-dateutil>=2.6.1\n",
      "  Using cached python_dateutil-2.8.1-py2.py3-none-any.whl (227 kB)\n",
      "Collecting joblib>=0.11\n",
      "  Downloading joblib-0.15.1-py3-none-any.whl (298 kB)\n",
      "Collecting threadpoolctl>=2.0.0\n",
      "  Downloading threadpoolctl-2.0.0-py3-none-any.whl (34 kB)\n",
      "Collecting requests\n",
      "  Using cached requests-2.23.0-py2.py3-none-any.whl (58 kB)\n",
      "Collecting parso>=0.7.0\n",
      "  Using cached parso-0.7.0-py2.py3-none-any.whl (100 kB)\n",
      "Collecting ipython-genutils\n",
      "  Using cached ipython_genutils-0.2.0-py2.py3-none-any.whl (26 kB)\n",
      "Collecting six\n",
      "  Downloading six-1.15.0-py2.py3-none-any.whl (10 kB)\n",
      "Collecting wcwidth\n",
      "  Using cached wcwidth-0.1.9-py2.py3-none-any.whl (19 kB)\n",
      "Collecting ptyprocess>=0.5\n",
      "  Using cached ptyprocess-0.6.0-py2.py3-none-any.whl (39 kB)\n",
      "Requirement already satisfied, skipping upgrade: certifi>=2017.4.17 in /home/zissou/miniconda3/envs/nba-anomaly-generator/lib/python3.8/site-packages (from requests->nba_api->-r /home/zissou/repos/nba-anomaly-generator/condaenv.msev0on1.requirements.txt (line 6)) (2020.4.5.1)\n",
      "Collecting urllib3!=1.25.0,!=1.25.1,<1.26,>=1.21.1\n",
      "  Downloading urllib3-1.25.9-py2.py3-none-any.whl (126 kB)\n",
      "Collecting idna<3,>=2.5\n",
      "  Using cached idna-2.9-py2.py3-none-any.whl (58 kB)\n",
      "Collecting chardet<4,>=3.0.2\n",
      "  Using cached chardet-3.0.4-py2.py3-none-any.whl (133 kB)\n",
      "Building wheels for collected packages: backcall\n",
      "  Building wheel for backcall (setup.py): started\n",
      "  Building wheel for backcall (setup.py): finished with status 'done'\n",
      "  Created wheel for backcall: filename=backcall-0.1.0-py3-none-any.whl size=10413 sha256=d435abdf154a6ebf349ceee8a6b38f16c5820bbe43e7a19c50dc99cb9f17e3dd\n",
      "  Stored in directory: /home/zissou/.cache/pip/wheels/19/62/a8/be9667e6ae351443886ae17237f574a2c265d1ad27ec22c7dc\n",
      "Successfully built backcall\n",
      "Installing collected packages: decorator, parso, jedi, pickleshare, ipython-genutils, six, traitlets, wcwidth, prompt-toolkit, pygments, ptyprocess, pexpect, backcall, ipython, numpy, pytz, python-dateutil, pandas, scipy, joblib, threadpoolctl, scikit-learn, urllib3, idna, chardet, requests, nba-api\n",
      "Successfully installed backcall-0.1.0 chardet-3.0.4 decorator-4.4.2 idna-2.9 ipython-7.14.0 ipython-genutils-0.2.0 jedi-0.17.0 joblib-0.15.1 nba-api-1.1.8 numpy-1.18.4 pandas-1.0.3 parso-0.7.0 pexpect-4.8.0 pickleshare-0.7.5 prompt-toolkit-3.0.5 ptyprocess-0.6.0 pygments-2.6.1 python-dateutil-2.8.1 pytz-2020.1 requests-2.23.0 scikit-learn-0.23.1 scipy-1.4.1 six-1.15.0 threadpoolctl-2.0.0 traitlets-4.3.3 urllib3-1.25.9 wcwidth-0.1.9\n",
      "\n",
      "#\n",
      "# To activate this environment, use\n",
      "#\n",
      "#     $ conda activate nba-anomaly-generator\n",
      "#\n",
      "# To deactivate an active environment, use\n",
      "#\n",
      "#     $ conda deactivate\n",
      "\n"
     ]
    }
   ],
   "source": [
    "%%bash -s \"$name\" \"$root_dir\" \"$fn_conda_dep\"\n",
    "\n",
    "source ~/.bashrc\n",
    "\n",
    "cd $2\n",
    "\n",
    "conda env create -f $3 -n $1"
   ]
  },
  {
   "cell_type": "markdown",
   "metadata": {
    "Collapsed": "false"
   },
   "source": [
    "## Development environment\n"
   ]
  },
  {
   "cell_type": "code",
   "execution_count": 5,
   "metadata": {
    "Collapsed": "false"
   },
   "outputs": [
    {
     "name": "stdout",
     "output_type": "stream",
     "text": [
      "Warning: you have pip-installed dependencies in your environment file, but you do not list pip itself as one of your conda dependencies.  Conda may not use the correct pip to install your packages, and they may end up in the wrong place.  Please add an explicit pip dependency.  I'm adding one for you, but still nagging you.\n",
      "Collecting package metadata (repodata.json): ...working... done\n",
      "Solving environment: ...working... done\n",
      "\n",
      "Downloading and Extracting Packages\n",
      "cryptography-2.9.2   | 556 KB    | ########## | 100% \n",
      "more-itertools-8.3.0 | 43 KB     | ########## | 100% \n",
      "pytest-5.4.2         | 389 KB    | ########## | 100% \n",
      "zipp-3.1.0           | 13 KB     | ########## | 100% \n",
      "markdown-3.2.2       | 61 KB     | ########## | 100% \n",
      "nbformat-5.0.6       | 89 KB     | ########## | 100% \n",
      "click-7.1.2          | 71 KB     | ########## | 100% \n",
      "cffi-1.14.0          | 225 KB    | ########## | 100% \n",
      "jupyterlab_server-1. | 28 KB     | ########## | 100% \n",
      "jupyter_client-6.1.3 | 82 KB     | ########## | 100% \n",
      "pymdown-extensions-7 | 128 KB    | ########## | 100% \n",
      "parso-0.7.0          | 72 KB     | ########## | 100% \n",
      "jinja2-2.11.2        | 103 KB    | ########## | 100% \n",
      "jedi-0.17.0          | 780 KB    | ########## | 100% \n",
      "pyparsing-2.4.7      | 65 KB     | ########## | 100% \n",
      "importlib_metadata-1 | 11 KB     | ########## | 100% \n",
      "importlib-metadata-1 | 49 KB     | ########## | 100% \n",
      "mkdocs-material-5.1. | 1.7 MB    | ########## | 100% \n",
      "pyyaml-5.3.1         | 185 KB    | ########## | 100% \n",
      "Preparing transaction: ...working... done\n",
      "Verifying transaction: ...working... done\n",
      "Executing transaction: ...working... done\n",
      "Ran pip subprocess with arguments:\n",
      "['/home/zissou/miniconda3/envs/nba-anomaly-generator/bin/python', '-m', 'pip', 'install', '-U', '-r', '/home/zissou/repos/nba-anomaly-generator/condaenv.wc0l0cyo.requirements.txt']\n",
      "Pip subprocess output:\n",
      "Collecting semantic-version\n",
      "  Downloading semantic_version-2.8.5-py2.py3-none-any.whl (15 kB)\n",
      "Collecting ipykernel\n",
      "  Downloading ipykernel-5.3.0-py3-none-any.whl (119 kB)\n",
      "Collecting mkdocs-minify-plugin\n",
      "  Downloading mkdocs-minify-plugin-0.3.0.tar.gz (3.1 kB)\n",
      "Requirement already up-to-date: pymdown-extensions in /home/zissou/miniconda3/envs/nba-anomaly-generator/lib/python3.8/site-packages (from -r /home/zissou/repos/nba-anomaly-generator/condaenv.wc0l0cyo.requirements.txt (line 4)) (7.1)\n",
      "Processing /home/zissou/.cache/pip/wheels/a6/5e/1e/a15614d6ea220d070043db3b650d73a8b4938aefd520496c11/nb_black-1.0.7-py3-none-any.whl\n",
      "Requirement already satisfied, skipping upgrade: tornado>=4.2 in /home/zissou/miniconda3/envs/nba-anomaly-generator/lib/python3.8/site-packages (from ipykernel->-r /home/zissou/repos/nba-anomaly-generator/condaenv.wc0l0cyo.requirements.txt (line 2)) (6.0.4)\n",
      "Requirement already satisfied, skipping upgrade: traitlets>=4.1.0 in /home/zissou/miniconda3/envs/nba-anomaly-generator/lib/python3.8/site-packages (from ipykernel->-r /home/zissou/repos/nba-anomaly-generator/condaenv.wc0l0cyo.requirements.txt (line 2)) (4.3.3)\n",
      "Requirement already satisfied, skipping upgrade: ipython>=5.0.0 in /home/zissou/miniconda3/envs/nba-anomaly-generator/lib/python3.8/site-packages (from ipykernel->-r /home/zissou/repos/nba-anomaly-generator/condaenv.wc0l0cyo.requirements.txt (line 2)) (7.14.0)\n",
      "Requirement already satisfied, skipping upgrade: jupyter-client in /home/zissou/miniconda3/envs/nba-anomaly-generator/lib/python3.8/site-packages (from ipykernel->-r /home/zissou/repos/nba-anomaly-generator/condaenv.wc0l0cyo.requirements.txt (line 2)) (6.1.3)\n",
      "Requirement already satisfied, skipping upgrade: mkdocs>=1.0.4 in /home/zissou/miniconda3/envs/nba-anomaly-generator/lib/python3.8/site-packages (from mkdocs-minify-plugin->-r /home/zissou/repos/nba-anomaly-generator/condaenv.wc0l0cyo.requirements.txt (line 3)) (1.1)\n",
      "Processing /home/zissou/.cache/pip/wheels/23/14/6e/4be5bfeeb027f4939a01764b48edd5996acf574b0913fe5243/htmlmin-0.1.12-py3-none-any.whl\n",
      "Processing /home/zissou/.cache/pip/wheels/65/b7/04/fc4b059d177fd88f3ca362ad372a15e364b0c5433121c7b135/jsmin-2.2.2-py3-none-any.whl\n",
      "Requirement already satisfied, skipping upgrade: Markdown>=3.2 in /home/zissou/miniconda3/envs/nba-anomaly-generator/lib/python3.8/site-packages (from pymdown-extensions->-r /home/zissou/repos/nba-anomaly-generator/condaenv.wc0l0cyo.requirements.txt (line 4)) (3.2.2)\n",
      "Collecting black>='19.3'; python_version >= \"3.6\"\n",
      "  Using cached black-19.10b0-py36-none-any.whl (97 kB)\n",
      "Requirement already satisfied, skipping upgrade: decorator in /home/zissou/miniconda3/envs/nba-anomaly-generator/lib/python3.8/site-packages (from traitlets>=4.1.0->ipykernel->-r /home/zissou/repos/nba-anomaly-generator/condaenv.wc0l0cyo.requirements.txt (line 2)) (4.4.2)\n",
      "Requirement already satisfied, skipping upgrade: six in /home/zissou/miniconda3/envs/nba-anomaly-generator/lib/python3.8/site-packages (from traitlets>=4.1.0->ipykernel->-r /home/zissou/repos/nba-anomaly-generator/condaenv.wc0l0cyo.requirements.txt (line 2)) (1.15.0)\n",
      "Requirement already satisfied, skipping upgrade: ipython-genutils in /home/zissou/miniconda3/envs/nba-anomaly-generator/lib/python3.8/site-packages (from traitlets>=4.1.0->ipykernel->-r /home/zissou/repos/nba-anomaly-generator/condaenv.wc0l0cyo.requirements.txt (line 2)) (0.2.0)\n",
      "Requirement already satisfied, skipping upgrade: prompt-toolkit!=3.0.0,!=3.0.1,<3.1.0,>=2.0.0 in /home/zissou/miniconda3/envs/nba-anomaly-generator/lib/python3.8/site-packages (from ipython>=5.0.0->ipykernel->-r /home/zissou/repos/nba-anomaly-generator/condaenv.wc0l0cyo.requirements.txt (line 2)) (3.0.5)\n",
      "Requirement already satisfied, skipping upgrade: pygments in /home/zissou/miniconda3/envs/nba-anomaly-generator/lib/python3.8/site-packages (from ipython>=5.0.0->ipykernel->-r /home/zissou/repos/nba-anomaly-generator/condaenv.wc0l0cyo.requirements.txt (line 2)) (2.6.1)\n",
      "Requirement already satisfied, skipping upgrade: jedi>=0.10 in /home/zissou/miniconda3/envs/nba-anomaly-generator/lib/python3.8/site-packages (from ipython>=5.0.0->ipykernel->-r /home/zissou/repos/nba-anomaly-generator/condaenv.wc0l0cyo.requirements.txt (line 2)) (0.17.0)\n",
      "Requirement already satisfied, skipping upgrade: backcall in /home/zissou/miniconda3/envs/nba-anomaly-generator/lib/python3.8/site-packages (from ipython>=5.0.0->ipykernel->-r /home/zissou/repos/nba-anomaly-generator/condaenv.wc0l0cyo.requirements.txt (line 2)) (0.1.0)\n",
      "Requirement already satisfied, skipping upgrade: setuptools>=18.5 in /home/zissou/miniconda3/envs/nba-anomaly-generator/lib/python3.8/site-packages (from ipython>=5.0.0->ipykernel->-r /home/zissou/repos/nba-anomaly-generator/condaenv.wc0l0cyo.requirements.txt (line 2)) (46.4.0.post20200518)\n",
      "Requirement already satisfied, skipping upgrade: pickleshare in /home/zissou/miniconda3/envs/nba-anomaly-generator/lib/python3.8/site-packages (from ipython>=5.0.0->ipykernel->-r /home/zissou/repos/nba-anomaly-generator/condaenv.wc0l0cyo.requirements.txt (line 2)) (0.7.5)\n",
      "Requirement already satisfied, skipping upgrade: pexpect; sys_platform != \"win32\" in /home/zissou/miniconda3/envs/nba-anomaly-generator/lib/python3.8/site-packages (from ipython>=5.0.0->ipykernel->-r /home/zissou/repos/nba-anomaly-generator/condaenv.wc0l0cyo.requirements.txt (line 2)) (4.8.0)\n",
      "Requirement already satisfied, skipping upgrade: jupyter-core>=4.6.0 in /home/zissou/miniconda3/envs/nba-anomaly-generator/lib/python3.8/site-packages (from jupyter-client->ipykernel->-r /home/zissou/repos/nba-anomaly-generator/condaenv.wc0l0cyo.requirements.txt (line 2)) (4.6.3)\n",
      "Requirement already satisfied, skipping upgrade: python-dateutil>=2.1 in /home/zissou/miniconda3/envs/nba-anomaly-generator/lib/python3.8/site-packages (from jupyter-client->ipykernel->-r /home/zissou/repos/nba-anomaly-generator/condaenv.wc0l0cyo.requirements.txt (line 2)) (2.8.1)\n",
      "Requirement already satisfied, skipping upgrade: pyzmq>=13 in /home/zissou/miniconda3/envs/nba-anomaly-generator/lib/python3.8/site-packages (from jupyter-client->ipykernel->-r /home/zissou/repos/nba-anomaly-generator/condaenv.wc0l0cyo.requirements.txt (line 2)) (18.1.1)\n",
      "Requirement already satisfied, skipping upgrade: click>=3.3 in /home/zissou/miniconda3/envs/nba-anomaly-generator/lib/python3.8/site-packages (from mkdocs>=1.0.4->mkdocs-minify-plugin->-r /home/zissou/repos/nba-anomaly-generator/condaenv.wc0l0cyo.requirements.txt (line 3)) (7.1.2)\n",
      "Requirement already satisfied, skipping upgrade: livereload>=2.5.1 in /home/zissou/miniconda3/envs/nba-anomaly-generator/lib/python3.8/site-packages (from mkdocs>=1.0.4->mkdocs-minify-plugin->-r /home/zissou/repos/nba-anomaly-generator/condaenv.wc0l0cyo.requirements.txt (line 3)) (2.6.1)\n",
      "Requirement already satisfied, skipping upgrade: PyYAML>=3.10 in /home/zissou/miniconda3/envs/nba-anomaly-generator/lib/python3.8/site-packages (from mkdocs>=1.0.4->mkdocs-minify-plugin->-r /home/zissou/repos/nba-anomaly-generator/condaenv.wc0l0cyo.requirements.txt (line 3)) (5.3.1)\n",
      "Requirement already satisfied, skipping upgrade: lunr[languages]==0.5.6 in /home/zissou/miniconda3/envs/nba-anomaly-generator/lib/python3.8/site-packages (from mkdocs>=1.0.4->mkdocs-minify-plugin->-r /home/zissou/repos/nba-anomaly-generator/condaenv.wc0l0cyo.requirements.txt (line 3)) (0.5.6)\n",
      "Requirement already satisfied, skipping upgrade: Jinja2>=2.10.1 in /home/zissou/miniconda3/envs/nba-anomaly-generator/lib/python3.8/site-packages (from mkdocs>=1.0.4->mkdocs-minify-plugin->-r /home/zissou/repos/nba-anomaly-generator/condaenv.wc0l0cyo.requirements.txt (line 3)) (2.11.2)\n",
      "Collecting regex\n",
      "  Downloading regex-2020.5.14-cp38-cp38-manylinux2010_x86_64.whl (689 kB)\n",
      "Collecting appdirs\n",
      "  Downloading appdirs-1.4.4-py2.py3-none-any.whl (9.6 kB)\n",
      "Collecting typed-ast>=1.4.0\n",
      "  Using cached typed_ast-1.4.1-cp38-cp38-manylinux1_x86_64.whl (768 kB)\n",
      "Requirement already satisfied, skipping upgrade: attrs>=18.1.0 in /home/zissou/miniconda3/envs/nba-anomaly-generator/lib/python3.8/site-packages (from black>='19.3'; python_version >= \"3.6\"->nb-black->-r /home/zissou/repos/nba-anomaly-generator/condaenv.wc0l0cyo.requirements.txt (line 5)) (19.3.0)\n",
      "Collecting toml>=0.9.4\n",
      "  Downloading toml-0.10.1-py2.py3-none-any.whl (19 kB)\n",
      "Collecting pathspec<1,>=0.6\n",
      "  Downloading pathspec-0.8.0-py2.py3-none-any.whl (28 kB)\n",
      "Requirement already satisfied, skipping upgrade: wcwidth in /home/zissou/miniconda3/envs/nba-anomaly-generator/lib/python3.8/site-packages (from prompt-toolkit!=3.0.0,!=3.0.1,<3.1.0,>=2.0.0->ipython>=5.0.0->ipykernel->-r /home/zissou/repos/nba-anomaly-generator/condaenv.wc0l0cyo.requirements.txt (line 2)) (0.1.9)\n",
      "Requirement already satisfied, skipping upgrade: parso>=0.7.0 in /home/zissou/miniconda3/envs/nba-anomaly-generator/lib/python3.8/site-packages (from jedi>=0.10->ipython>=5.0.0->ipykernel->-r /home/zissou/repos/nba-anomaly-generator/condaenv.wc0l0cyo.requirements.txt (line 2)) (0.7.0)\n",
      "Requirement already satisfied, skipping upgrade: ptyprocess>=0.5 in /home/zissou/miniconda3/envs/nba-anomaly-generator/lib/python3.8/site-packages (from pexpect; sys_platform != \"win32\"->ipython>=5.0.0->ipykernel->-r /home/zissou/repos/nba-anomaly-generator/condaenv.wc0l0cyo.requirements.txt (line 2)) (0.6.0)\n",
      "Requirement already satisfied, skipping upgrade: future>=0.16.0 in /home/zissou/miniconda3/envs/nba-anomaly-generator/lib/python3.8/site-packages (from lunr[languages]==0.5.6->mkdocs>=1.0.4->mkdocs-minify-plugin->-r /home/zissou/repos/nba-anomaly-generator/condaenv.wc0l0cyo.requirements.txt (line 3)) (0.18.2)\n",
      "Requirement already satisfied, skipping upgrade: nltk>=3.2.5; extra == \"languages\" in /home/zissou/miniconda3/envs/nba-anomaly-generator/lib/python3.8/site-packages (from lunr[languages]==0.5.6->mkdocs>=1.0.4->mkdocs-minify-plugin->-r /home/zissou/repos/nba-anomaly-generator/condaenv.wc0l0cyo.requirements.txt (line 3)) (3.4.5)\n",
      "Requirement already satisfied, skipping upgrade: MarkupSafe>=0.23 in /home/zissou/miniconda3/envs/nba-anomaly-generator/lib/python3.8/site-packages (from Jinja2>=2.10.1->mkdocs>=1.0.4->mkdocs-minify-plugin->-r /home/zissou/repos/nba-anomaly-generator/condaenv.wc0l0cyo.requirements.txt (line 3)) (1.1.1)\n",
      "Building wheels for collected packages: mkdocs-minify-plugin\n",
      "  Building wheel for mkdocs-minify-plugin (setup.py): started\n",
      "  Building wheel for mkdocs-minify-plugin (setup.py): finished with status 'done'\n",
      "  Created wheel for mkdocs-minify-plugin: filename=mkdocs_minify_plugin-0.3.0-py3-none-any.whl size=3071 sha256=20d1f64822a9f74e0c69a2e896f6fde5399af3d3b8315f7b1029d51646ca5f18\n",
      "  Stored in directory: /home/zissou/.cache/pip/wheels/89/1a/4a/d3444421bc2e9a97ba55516090c6db2f4eb2c1a9e3e50a5265\n",
      "Successfully built mkdocs-minify-plugin\n",
      "Installing collected packages: semantic-version, ipykernel, htmlmin, jsmin, mkdocs-minify-plugin, regex, appdirs, typed-ast, toml, pathspec, black, nb-black\n",
      "  Attempting uninstall: ipykernel\n",
      "    Found existing installation: ipykernel 5.1.4\n",
      "    Uninstalling ipykernel-5.1.4:\n",
      "      Successfully uninstalled ipykernel-5.1.4\n",
      "Successfully installed appdirs-1.4.4 black-19.10b0 htmlmin-0.1.12 ipykernel-5.3.0 jsmin-2.2.2 mkdocs-minify-plugin-0.3.0 nb-black-1.0.7 pathspec-0.8.0 regex-2020.5.14 semantic-version-2.8.5 toml-0.10.1 typed-ast-1.4.1\n",
      "\n",
      "#\n",
      "# To activate this environment, use\n",
      "#\n",
      "#     $ conda activate nba-anomaly-generator\n",
      "#\n",
      "# To deactivate an active environment, use\n",
      "#\n",
      "#     $ conda deactivate\n",
      "\n"
     ]
    }
   ],
   "source": [
    "%%bash -s \"$name\" \"$root_dir\" \"$fn_conda_dev\"\n",
    "\n",
    "source ~/.bashrc\n",
    "\n",
    "cd $2\n",
    "\n",
    "conda activate $1\n",
    "\n",
    "conda env update -n $1 -f $3"
   ]
  },
  {
   "cell_type": "markdown",
   "metadata": {
    "Collapsed": "false"
   },
   "source": [
    "## Jupyter kernel\n",
    "\n",
    "Expose the environment to your jupyter."
   ]
  },
  {
   "cell_type": "code",
   "execution_count": 6,
   "metadata": {
    "Collapsed": "false"
   },
   "outputs": [
    {
     "name": "stdout",
     "output_type": "stream",
     "text": [
      "Installed kernelspec nba-anomaly-generator in /home/zissou/.local/share/jupyter/kernels/nba-anomaly-generator\n"
     ]
    }
   ],
   "source": [
    "%%bash -s \"$name\" \"$root_dir\" \"$fn_conda_dep\"\n",
    "\n",
    "source ~/.bashrc\n",
    "\n",
    "cd $2\n",
    "\n",
    "conda activate $1\n",
    "python -m ipykernel install --user --name $1 --display-name \"$1\""
   ]
  }
 ],
 "metadata": {
  "kernelspec": {
   "display_name": "Python 3",
   "language": "python",
   "name": "python3"
  },
  "language_info": {
   "codemirror_mode": {
    "name": "ipython",
    "version": 3
   },
   "file_extension": ".py",
   "mimetype": "text/x-python",
   "name": "python",
   "nbconvert_exporter": "python",
   "pygments_lexer": "ipython3",
   "version": "3.8.2"
  },
  "toc-autonumbering": true
 },
 "nbformat": 4,
 "nbformat_minor": 4
}
