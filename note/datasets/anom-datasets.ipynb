{
 "cells": [
  {
   "cell_type": "markdown",
   "metadata": {
    "Collapsed": "false"
   },
   "source": [
    "# Anomaly Toy Datasets\n",
    "\n",
    "Generating toy datasets for ADMERCS with very particular anomalies."
   ]
  },
  {
   "cell_type": "markdown",
   "metadata": {
    "Collapsed": "false"
   },
   "source": [
    "# Preliminaries"
   ]
  },
  {
   "cell_type": "code",
   "execution_count": 1,
   "metadata": {
    "Collapsed": "false"
   },
   "outputs": [],
   "source": [
    "# Black Codeformatter\n",
    "%load_ext lab_black"
   ]
  },
  {
   "cell_type": "markdown",
   "metadata": {
    "Collapsed": "false"
   },
   "source": [
    "## Imports"
   ]
  },
  {
   "cell_type": "code",
   "execution_count": 2,
   "metadata": {
    "Collapsed": "false"
   },
   "outputs": [],
   "source": [
    "import numpy as np\n",
    "import pandas as pd\n",
    "import os\n",
    "\n",
    "from time import sleep\n",
    "from pathlib import Path\n",
    "\n",
    "# Custom imports\n",
    "from nba_api.stats.static import players, teams\n",
    "\n",
    "from nba_anomaly_generator.data import (\n",
    "    get_team_roster_dataframe,\n",
    "    get_plyr_stats_dataframe,\n",
    ")"
   ]
  },
  {
   "cell_type": "code",
   "execution_count": 3,
   "metadata": {},
   "outputs": [],
   "source": [
    "pd.set_option(\"display.max_columns\", None)"
   ]
  },
  {
   "cell_type": "markdown",
   "metadata": {},
   "source": [
    "## Constants"
   ]
  },
  {
   "cell_type": "code",
   "execution_count": 4,
   "metadata": {},
   "outputs": [],
   "source": [
    "DATA_DIR = Path().resolve().parent.parent / \"data\"\n",
    "\n",
    "PLYR_DIR = DATA_DIR / \"players\"\n",
    "TEAM_DIR = DATA_DIR / \"rosters\""
   ]
  },
  {
   "cell_type": "code",
   "execution_count": 5,
   "metadata": {},
   "outputs": [],
   "source": [
    "RANDOM_SEED = 42\n",
    "ANOMALY_FRACTION = 1\n",
    "\n",
    "VERSION = 5"
   ]
  },
  {
   "cell_type": "markdown",
   "metadata": {
    "Collapsed": "false"
   },
   "source": [
    "# Data"
   ]
  },
  {
   "cell_type": "markdown",
   "metadata": {},
   "source": [
    "## Collection"
   ]
  },
  {
   "cell_type": "code",
   "execution_count": 6,
   "metadata": {},
   "outputs": [],
   "source": [
    "dfs = []\n",
    "for idx, fn in enumerate(PLYR_DIR.glob(\"*.csv\")):\n",
    "    df = pd.read_csv(fn, index_col=0)\n",
    "    dfs.append(df)\n",
    "\n",
    "df = pd.concat(dfs)\n",
    "\n",
    "df.reset_index(drop=True, inplace=True)"
   ]
  },
  {
   "cell_type": "code",
   "execution_count": 7,
   "metadata": {},
   "outputs": [
    {
     "data": {
      "text/html": [
       "<div>\n",
       "<style scoped>\n",
       "    .dataframe tbody tr th:only-of-type {\n",
       "        vertical-align: middle;\n",
       "    }\n",
       "\n",
       "    .dataframe tbody tr th {\n",
       "        vertical-align: top;\n",
       "    }\n",
       "\n",
       "    .dataframe thead th {\n",
       "        text-align: right;\n",
       "    }\n",
       "</style>\n",
       "<table border=\"1\" class=\"dataframe\">\n",
       "  <thead>\n",
       "    <tr style=\"text-align: right;\">\n",
       "      <th></th>\n",
       "      <th>PLAYER_ID</th>\n",
       "      <th>SEASON_ID</th>\n",
       "      <th>LEAGUE_ID</th>\n",
       "      <th>TEAM_ID</th>\n",
       "      <th>TEAM_ABBREVIATION</th>\n",
       "      <th>PLAYER_AGE</th>\n",
       "      <th>GP</th>\n",
       "      <th>GS</th>\n",
       "      <th>MIN</th>\n",
       "      <th>FGM</th>\n",
       "      <th>FGA</th>\n",
       "      <th>FG_PCT</th>\n",
       "      <th>FG3M</th>\n",
       "      <th>FG3A</th>\n",
       "      <th>FG3_PCT</th>\n",
       "      <th>FTM</th>\n",
       "      <th>FTA</th>\n",
       "      <th>FT_PCT</th>\n",
       "      <th>OREB</th>\n",
       "      <th>DREB</th>\n",
       "      <th>REB</th>\n",
       "      <th>AST</th>\n",
       "      <th>STL</th>\n",
       "      <th>BLK</th>\n",
       "      <th>TOV</th>\n",
       "      <th>PF</th>\n",
       "      <th>PTS</th>\n",
       "    </tr>\n",
       "  </thead>\n",
       "  <tbody>\n",
       "    <tr>\n",
       "      <th>0</th>\n",
       "      <td>1626170</td>\n",
       "      <td>2015-16</td>\n",
       "      <td>0</td>\n",
       "      <td>1610612752</td>\n",
       "      <td>NYK</td>\n",
       "      <td>23.0</td>\n",
       "      <td>76</td>\n",
       "      <td>6.0</td>\n",
       "      <td>1265.0</td>\n",
       "      <td>154</td>\n",
       "      <td>391</td>\n",
       "      <td>0.394</td>\n",
       "      <td>22.0</td>\n",
       "      <td>100.0</td>\n",
       "      <td>0.220</td>\n",
       "      <td>96</td>\n",
       "      <td>123</td>\n",
       "      <td>0.780</td>\n",
       "      <td>23.0</td>\n",
       "      <td>120.0</td>\n",
       "      <td>143.0</td>\n",
       "      <td>177</td>\n",
       "      <td>50.0</td>\n",
       "      <td>10.0</td>\n",
       "      <td>87.0</td>\n",
       "      <td>97</td>\n",
       "      <td>426</td>\n",
       "    </tr>\n",
       "    <tr>\n",
       "      <th>1</th>\n",
       "      <td>1626170</td>\n",
       "      <td>2016-17</td>\n",
       "      <td>0</td>\n",
       "      <td>1610612741</td>\n",
       "      <td>CHI</td>\n",
       "      <td>24.0</td>\n",
       "      <td>63</td>\n",
       "      <td>28.0</td>\n",
       "      <td>1028.0</td>\n",
       "      <td>128</td>\n",
       "      <td>301</td>\n",
       "      <td>0.425</td>\n",
       "      <td>49.0</td>\n",
       "      <td>134.0</td>\n",
       "      <td>0.366</td>\n",
       "      <td>65</td>\n",
       "      <td>73</td>\n",
       "      <td>0.890</td>\n",
       "      <td>17.0</td>\n",
       "      <td>94.0</td>\n",
       "      <td>111.0</td>\n",
       "      <td>121</td>\n",
       "      <td>47.0</td>\n",
       "      <td>8.0</td>\n",
       "      <td>44.0</td>\n",
       "      <td>93</td>\n",
       "      <td>370</td>\n",
       "    </tr>\n",
       "    <tr>\n",
       "      <th>2</th>\n",
       "      <td>1626170</td>\n",
       "      <td>2017-18</td>\n",
       "      <td>0</td>\n",
       "      <td>1610612741</td>\n",
       "      <td>CHI</td>\n",
       "      <td>25.0</td>\n",
       "      <td>74</td>\n",
       "      <td>26.0</td>\n",
       "      <td>1686.0</td>\n",
       "      <td>209</td>\n",
       "      <td>503</td>\n",
       "      <td>0.416</td>\n",
       "      <td>61.0</td>\n",
       "      <td>187.0</td>\n",
       "      <td>0.326</td>\n",
       "      <td>140</td>\n",
       "      <td>188</td>\n",
       "      <td>0.745</td>\n",
       "      <td>31.0</td>\n",
       "      <td>140.0</td>\n",
       "      <td>171.0</td>\n",
       "      <td>342</td>\n",
       "      <td>63.0</td>\n",
       "      <td>8.0</td>\n",
       "      <td>89.0</td>\n",
       "      <td>132</td>\n",
       "      <td>619</td>\n",
       "    </tr>\n",
       "    <tr>\n",
       "      <th>3</th>\n",
       "      <td>1626170</td>\n",
       "      <td>2018-19</td>\n",
       "      <td>0</td>\n",
       "      <td>1610612753</td>\n",
       "      <td>ORL</td>\n",
       "      <td>26.0</td>\n",
       "      <td>60</td>\n",
       "      <td>1.0</td>\n",
       "      <td>939.0</td>\n",
       "      <td>92</td>\n",
       "      <td>220</td>\n",
       "      <td>0.418</td>\n",
       "      <td>40.0</td>\n",
       "      <td>110.0</td>\n",
       "      <td>0.364</td>\n",
       "      <td>26</td>\n",
       "      <td>40</td>\n",
       "      <td>0.650</td>\n",
       "      <td>19.0</td>\n",
       "      <td>79.0</td>\n",
       "      <td>98.0</td>\n",
       "      <td>156</td>\n",
       "      <td>44.0</td>\n",
       "      <td>6.0</td>\n",
       "      <td>51.0</td>\n",
       "      <td>78</td>\n",
       "      <td>250</td>\n",
       "    </tr>\n",
       "    <tr>\n",
       "      <th>4</th>\n",
       "      <td>202371</td>\n",
       "      <td>2010-11</td>\n",
       "      <td>0</td>\n",
       "      <td>1610612756</td>\n",
       "      <td>PHX</td>\n",
       "      <td>22.0</td>\n",
       "      <td>1</td>\n",
       "      <td>0.0</td>\n",
       "      <td>2.0</td>\n",
       "      <td>0</td>\n",
       "      <td>0</td>\n",
       "      <td>0.000</td>\n",
       "      <td>0.0</td>\n",
       "      <td>0.0</td>\n",
       "      <td>0.000</td>\n",
       "      <td>0</td>\n",
       "      <td>0</td>\n",
       "      <td>0.000</td>\n",
       "      <td>0.0</td>\n",
       "      <td>0.0</td>\n",
       "      <td>0.0</td>\n",
       "      <td>0</td>\n",
       "      <td>0.0</td>\n",
       "      <td>0.0</td>\n",
       "      <td>0.0</td>\n",
       "      <td>1</td>\n",
       "      <td>0</td>\n",
       "    </tr>\n",
       "  </tbody>\n",
       "</table>\n",
       "</div>"
      ],
      "text/plain": [
       "  PLAYER_ID SEASON_ID LEAGUE_ID     TEAM_ID TEAM_ABBREVIATION  PLAYER_AGE  GP  \\\n",
       "0   1626170   2015-16         0  1610612752               NYK        23.0  76   \n",
       "1   1626170   2016-17         0  1610612741               CHI        24.0  63   \n",
       "2   1626170   2017-18         0  1610612741               CHI        25.0  74   \n",
       "3   1626170   2018-19         0  1610612753               ORL        26.0  60   \n",
       "4    202371   2010-11         0  1610612756               PHX        22.0   1   \n",
       "\n",
       "     GS     MIN  FGM  FGA  FG_PCT  FG3M   FG3A  FG3_PCT  FTM  FTA  FT_PCT  \\\n",
       "0   6.0  1265.0  154  391   0.394  22.0  100.0    0.220   96  123   0.780   \n",
       "1  28.0  1028.0  128  301   0.425  49.0  134.0    0.366   65   73   0.890   \n",
       "2  26.0  1686.0  209  503   0.416  61.0  187.0    0.326  140  188   0.745   \n",
       "3   1.0   939.0   92  220   0.418  40.0  110.0    0.364   26   40   0.650   \n",
       "4   0.0     2.0    0    0   0.000   0.0    0.0    0.000    0    0   0.000   \n",
       "\n",
       "   OREB   DREB    REB  AST   STL   BLK   TOV   PF  PTS  \n",
       "0  23.0  120.0  143.0  177  50.0  10.0  87.0   97  426  \n",
       "1  17.0   94.0  111.0  121  47.0   8.0  44.0   93  370  \n",
       "2  31.0  140.0  171.0  342  63.0   8.0  89.0  132  619  \n",
       "3  19.0   79.0   98.0  156  44.0   6.0  51.0   78  250  \n",
       "4   0.0    0.0    0.0    0   0.0   0.0   0.0    1    0  "
      ]
     },
     "execution_count": 7,
     "metadata": {},
     "output_type": "execute_result"
    }
   ],
   "source": [
    "df.head()"
   ]
  },
  {
   "cell_type": "markdown",
   "metadata": {},
   "source": [
    "## Types and Nones"
   ]
  },
  {
   "cell_type": "code",
   "execution_count": 8,
   "metadata": {},
   "outputs": [
    {
     "data": {
      "text/plain": [
       "Index(['PLAYER_ID', 'SEASON_ID', 'LEAGUE_ID', 'TEAM_ID', 'TEAM_ABBREVIATION',\n",
       "       'PLAYER_AGE', 'GP', 'GS', 'MIN', 'FGM', 'FGA', 'FG_PCT', 'FG3M', 'FG3A',\n",
       "       'FG3_PCT', 'FTM', 'FTA', 'FT_PCT', 'OREB', 'DREB', 'REB', 'AST', 'STL',\n",
       "       'BLK', 'TOV', 'PF', 'PTS'],\n",
       "      dtype='object')"
      ]
     },
     "execution_count": 8,
     "metadata": {},
     "output_type": "execute_result"
    }
   ],
   "source": [
    "df.columns"
   ]
  },
  {
   "cell_type": "code",
   "execution_count": 9,
   "metadata": {},
   "outputs": [],
   "source": [
    "nominal_attributes = [\n",
    "    \"PLAYER_ID\",\n",
    "    \"SEASON_ID\",\n",
    "    \"TEAM_ID\",\n",
    "    \"TEAM_ABBREVIATION\",\n",
    "]\n",
    "\n",
    "numeric_attributes = [\n",
    "    \"PLAYER_AGE\",\n",
    "    \"GP\",\n",
    "    \"GS\",\n",
    "    \"MIN\",\n",
    "    \"FGM\",\n",
    "    \"FGA\",\n",
    "    \"FG_PCT\",\n",
    "    \"FG3M\",\n",
    "    \"FG3A\",\n",
    "    \"FG3_PCT\",\n",
    "    \"FTM\",\n",
    "    \"FTA\",\n",
    "    \"FT_PCT\",\n",
    "    \"OREB\",\n",
    "    \"DREB\",\n",
    "    \"REB\",\n",
    "    \"AST\",\n",
    "    \"STL\",\n",
    "    \"BLK\",\n",
    "    \"TOV\",\n",
    "    \"PF\",\n",
    "    \"PTS\",\n",
    "]"
   ]
  },
  {
   "cell_type": "code",
   "execution_count": 10,
   "metadata": {},
   "outputs": [],
   "source": [
    "df = df[nominal_attributes + numeric_attributes]\n",
    "\n",
    "for attribute in nominal_attributes:\n",
    "    df[attribute] = df[attribute].astype(\"category\")\n",
    "\n",
    "for attribute in numeric_attributes:\n",
    "    df[attribute] = df[attribute].astype(float)\n",
    "    df[attribute] = df[attribute].fillna(0)"
   ]
  },
  {
   "cell_type": "code",
   "execution_count": 11,
   "metadata": {},
   "outputs": [
    {
     "data": {
      "text/plain": [
       "(PLAYER_ID            category\n",
       " SEASON_ID            category\n",
       " TEAM_ID              category\n",
       " TEAM_ABBREVIATION    category\n",
       " PLAYER_AGE            float64\n",
       " GP                    float64\n",
       " GS                    float64\n",
       " MIN                   float64\n",
       " FGM                   float64\n",
       " FGA                   float64\n",
       " FG_PCT                float64\n",
       " FG3M                  float64\n",
       " FG3A                  float64\n",
       " FG3_PCT               float64\n",
       " FTM                   float64\n",
       " FTA                   float64\n",
       " FT_PCT                float64\n",
       " OREB                  float64\n",
       " DREB                  float64\n",
       " REB                   float64\n",
       " AST                   float64\n",
       " STL                   float64\n",
       " BLK                   float64\n",
       " TOV                   float64\n",
       " PF                    float64\n",
       " PTS                   float64\n",
       " dtype: object,\n",
       " (26951, 26))"
      ]
     },
     "execution_count": 11,
     "metadata": {},
     "output_type": "execute_result"
    }
   ],
   "source": [
    "df.dtypes, df.shape"
   ]
  },
  {
   "cell_type": "markdown",
   "metadata": {},
   "source": [
    "## Add Columns"
   ]
  },
  {
   "cell_type": "markdown",
   "metadata": {},
   "source": [
    "### Season Column"
   ]
  },
  {
   "cell_type": "code",
   "execution_count": 12,
   "metadata": {},
   "outputs": [],
   "source": [
    "def _season_id_to_season(season_id):\n",
    "    return float(season_id.split(\"-\")[0])"
   ]
  },
  {
   "cell_type": "code",
   "execution_count": 13,
   "metadata": {},
   "outputs": [],
   "source": [
    "df[\"SEASON\"] = df.apply(lambda r: _season_id_to_season(r.SEASON_ID), axis=1)"
   ]
  },
  {
   "cell_type": "code",
   "execution_count": 14,
   "metadata": {},
   "outputs": [
    {
     "data": {
      "text/html": [
       "<div>\n",
       "<style scoped>\n",
       "    .dataframe tbody tr th:only-of-type {\n",
       "        vertical-align: middle;\n",
       "    }\n",
       "\n",
       "    .dataframe tbody tr th {\n",
       "        vertical-align: top;\n",
       "    }\n",
       "\n",
       "    .dataframe thead th {\n",
       "        text-align: right;\n",
       "    }\n",
       "</style>\n",
       "<table border=\"1\" class=\"dataframe\">\n",
       "  <thead>\n",
       "    <tr style=\"text-align: right;\">\n",
       "      <th></th>\n",
       "      <th>PLAYER_ID</th>\n",
       "      <th>SEASON_ID</th>\n",
       "      <th>TEAM_ID</th>\n",
       "      <th>TEAM_ABBREVIATION</th>\n",
       "      <th>PLAYER_AGE</th>\n",
       "      <th>GP</th>\n",
       "      <th>GS</th>\n",
       "      <th>MIN</th>\n",
       "      <th>FGM</th>\n",
       "      <th>FGA</th>\n",
       "      <th>FG_PCT</th>\n",
       "      <th>FG3M</th>\n",
       "      <th>FG3A</th>\n",
       "      <th>FG3_PCT</th>\n",
       "      <th>FTM</th>\n",
       "      <th>FTA</th>\n",
       "      <th>FT_PCT</th>\n",
       "      <th>OREB</th>\n",
       "      <th>DREB</th>\n",
       "      <th>REB</th>\n",
       "      <th>AST</th>\n",
       "      <th>STL</th>\n",
       "      <th>BLK</th>\n",
       "      <th>TOV</th>\n",
       "      <th>PF</th>\n",
       "      <th>PTS</th>\n",
       "      <th>SEASON</th>\n",
       "    </tr>\n",
       "  </thead>\n",
       "  <tbody>\n",
       "    <tr>\n",
       "      <th>0</th>\n",
       "      <td>1626170</td>\n",
       "      <td>2015-16</td>\n",
       "      <td>1610612752</td>\n",
       "      <td>NYK</td>\n",
       "      <td>23.0</td>\n",
       "      <td>76.0</td>\n",
       "      <td>6.0</td>\n",
       "      <td>1265.0</td>\n",
       "      <td>154.0</td>\n",
       "      <td>391.0</td>\n",
       "      <td>0.394</td>\n",
       "      <td>22.0</td>\n",
       "      <td>100.0</td>\n",
       "      <td>0.220</td>\n",
       "      <td>96.0</td>\n",
       "      <td>123.0</td>\n",
       "      <td>0.780</td>\n",
       "      <td>23.0</td>\n",
       "      <td>120.0</td>\n",
       "      <td>143.0</td>\n",
       "      <td>177.0</td>\n",
       "      <td>50.0</td>\n",
       "      <td>10.0</td>\n",
       "      <td>87.0</td>\n",
       "      <td>97.0</td>\n",
       "      <td>426.0</td>\n",
       "      <td>2015.0</td>\n",
       "    </tr>\n",
       "    <tr>\n",
       "      <th>1</th>\n",
       "      <td>1626170</td>\n",
       "      <td>2016-17</td>\n",
       "      <td>1610612741</td>\n",
       "      <td>CHI</td>\n",
       "      <td>24.0</td>\n",
       "      <td>63.0</td>\n",
       "      <td>28.0</td>\n",
       "      <td>1028.0</td>\n",
       "      <td>128.0</td>\n",
       "      <td>301.0</td>\n",
       "      <td>0.425</td>\n",
       "      <td>49.0</td>\n",
       "      <td>134.0</td>\n",
       "      <td>0.366</td>\n",
       "      <td>65.0</td>\n",
       "      <td>73.0</td>\n",
       "      <td>0.890</td>\n",
       "      <td>17.0</td>\n",
       "      <td>94.0</td>\n",
       "      <td>111.0</td>\n",
       "      <td>121.0</td>\n",
       "      <td>47.0</td>\n",
       "      <td>8.0</td>\n",
       "      <td>44.0</td>\n",
       "      <td>93.0</td>\n",
       "      <td>370.0</td>\n",
       "      <td>2016.0</td>\n",
       "    </tr>\n",
       "    <tr>\n",
       "      <th>2</th>\n",
       "      <td>1626170</td>\n",
       "      <td>2017-18</td>\n",
       "      <td>1610612741</td>\n",
       "      <td>CHI</td>\n",
       "      <td>25.0</td>\n",
       "      <td>74.0</td>\n",
       "      <td>26.0</td>\n",
       "      <td>1686.0</td>\n",
       "      <td>209.0</td>\n",
       "      <td>503.0</td>\n",
       "      <td>0.416</td>\n",
       "      <td>61.0</td>\n",
       "      <td>187.0</td>\n",
       "      <td>0.326</td>\n",
       "      <td>140.0</td>\n",
       "      <td>188.0</td>\n",
       "      <td>0.745</td>\n",
       "      <td>31.0</td>\n",
       "      <td>140.0</td>\n",
       "      <td>171.0</td>\n",
       "      <td>342.0</td>\n",
       "      <td>63.0</td>\n",
       "      <td>8.0</td>\n",
       "      <td>89.0</td>\n",
       "      <td>132.0</td>\n",
       "      <td>619.0</td>\n",
       "      <td>2017.0</td>\n",
       "    </tr>\n",
       "    <tr>\n",
       "      <th>3</th>\n",
       "      <td>1626170</td>\n",
       "      <td>2018-19</td>\n",
       "      <td>1610612753</td>\n",
       "      <td>ORL</td>\n",
       "      <td>26.0</td>\n",
       "      <td>60.0</td>\n",
       "      <td>1.0</td>\n",
       "      <td>939.0</td>\n",
       "      <td>92.0</td>\n",
       "      <td>220.0</td>\n",
       "      <td>0.418</td>\n",
       "      <td>40.0</td>\n",
       "      <td>110.0</td>\n",
       "      <td>0.364</td>\n",
       "      <td>26.0</td>\n",
       "      <td>40.0</td>\n",
       "      <td>0.650</td>\n",
       "      <td>19.0</td>\n",
       "      <td>79.0</td>\n",
       "      <td>98.0</td>\n",
       "      <td>156.0</td>\n",
       "      <td>44.0</td>\n",
       "      <td>6.0</td>\n",
       "      <td>51.0</td>\n",
       "      <td>78.0</td>\n",
       "      <td>250.0</td>\n",
       "      <td>2018.0</td>\n",
       "    </tr>\n",
       "    <tr>\n",
       "      <th>4</th>\n",
       "      <td>202371</td>\n",
       "      <td>2010-11</td>\n",
       "      <td>1610612756</td>\n",
       "      <td>PHX</td>\n",
       "      <td>22.0</td>\n",
       "      <td>1.0</td>\n",
       "      <td>0.0</td>\n",
       "      <td>2.0</td>\n",
       "      <td>0.0</td>\n",
       "      <td>0.0</td>\n",
       "      <td>0.000</td>\n",
       "      <td>0.0</td>\n",
       "      <td>0.0</td>\n",
       "      <td>0.000</td>\n",
       "      <td>0.0</td>\n",
       "      <td>0.0</td>\n",
       "      <td>0.000</td>\n",
       "      <td>0.0</td>\n",
       "      <td>0.0</td>\n",
       "      <td>0.0</td>\n",
       "      <td>0.0</td>\n",
       "      <td>0.0</td>\n",
       "      <td>0.0</td>\n",
       "      <td>0.0</td>\n",
       "      <td>1.0</td>\n",
       "      <td>0.0</td>\n",
       "      <td>2010.0</td>\n",
       "    </tr>\n",
       "  </tbody>\n",
       "</table>\n",
       "</div>"
      ],
      "text/plain": [
       "  PLAYER_ID SEASON_ID     TEAM_ID TEAM_ABBREVIATION  PLAYER_AGE    GP    GS  \\\n",
       "0   1626170   2015-16  1610612752               NYK        23.0  76.0   6.0   \n",
       "1   1626170   2016-17  1610612741               CHI        24.0  63.0  28.0   \n",
       "2   1626170   2017-18  1610612741               CHI        25.0  74.0  26.0   \n",
       "3   1626170   2018-19  1610612753               ORL        26.0  60.0   1.0   \n",
       "4    202371   2010-11  1610612756               PHX        22.0   1.0   0.0   \n",
       "\n",
       "      MIN    FGM    FGA  FG_PCT  FG3M   FG3A  FG3_PCT    FTM    FTA  FT_PCT  \\\n",
       "0  1265.0  154.0  391.0   0.394  22.0  100.0    0.220   96.0  123.0   0.780   \n",
       "1  1028.0  128.0  301.0   0.425  49.0  134.0    0.366   65.0   73.0   0.890   \n",
       "2  1686.0  209.0  503.0   0.416  61.0  187.0    0.326  140.0  188.0   0.745   \n",
       "3   939.0   92.0  220.0   0.418  40.0  110.0    0.364   26.0   40.0   0.650   \n",
       "4     2.0    0.0    0.0   0.000   0.0    0.0    0.000    0.0    0.0   0.000   \n",
       "\n",
       "   OREB   DREB    REB    AST   STL   BLK   TOV     PF    PTS  SEASON  \n",
       "0  23.0  120.0  143.0  177.0  50.0  10.0  87.0   97.0  426.0  2015.0  \n",
       "1  17.0   94.0  111.0  121.0  47.0   8.0  44.0   93.0  370.0  2016.0  \n",
       "2  31.0  140.0  171.0  342.0  63.0   8.0  89.0  132.0  619.0  2017.0  \n",
       "3  19.0   79.0   98.0  156.0  44.0   6.0  51.0   78.0  250.0  2018.0  \n",
       "4   0.0    0.0    0.0    0.0   0.0   0.0   0.0    1.0    0.0  2010.0  "
      ]
     },
     "execution_count": 14,
     "metadata": {},
     "output_type": "execute_result"
    }
   ],
   "source": [
    "df.head()"
   ]
  },
  {
   "cell_type": "markdown",
   "metadata": {},
   "source": [
    "## Filter Rows"
   ]
  },
  {
   "cell_type": "markdown",
   "metadata": {},
   "source": [
    "### Key Players\n",
    "\n",
    "Filtering on \"Games Played\" `GP` will help to get comparable data. Players that have none or very little play time will have deviant statistics by default and that is not really what we are interested in.\n",
    "\n",
    "So, a `GP` filter will be an easy way to get this fixed."
   ]
  },
  {
   "cell_type": "code",
   "execution_count": 15,
   "metadata": {},
   "outputs": [
    {
     "data": {
      "text/plain": [
       "(8166, 27)"
      ]
     },
     "execution_count": 15,
     "metadata": {},
     "output_type": "execute_result"
    }
   ],
   "source": [
    "mean_gs = np.mean(df.GS.values)\n",
    "\n",
    "df = df[df.GS > mean_gs]\n",
    "\n",
    "df.shape"
   ]
  },
  {
   "cell_type": "markdown",
   "metadata": {},
   "source": [
    "### Season Filter\n",
    "\n",
    "This is convenient for subsampling"
   ]
  },
  {
   "cell_type": "code",
   "execution_count": 16,
   "metadata": {},
   "outputs": [],
   "source": [
    "df = df[df.SEASON > 2010]"
   ]
  },
  {
   "cell_type": "code",
   "execution_count": 17,
   "metadata": {},
   "outputs": [
    {
     "data": {
      "text/plain": [
       "(2008, 27)"
      ]
     },
     "execution_count": 17,
     "metadata": {},
     "output_type": "execute_result"
    }
   ],
   "source": [
    "df.shape"
   ]
  },
  {
   "cell_type": "markdown",
   "metadata": {},
   "source": [
    " ### Filter - Age Issues\n",
    " \n",
    " Depending on what you do before you do not run into this, but just to be on the safe side here."
   ]
  },
  {
   "cell_type": "code",
   "execution_count": 18,
   "metadata": {},
   "outputs": [
    {
     "data": {
      "text/plain": [
       "41.0"
      ]
     },
     "execution_count": 18,
     "metadata": {},
     "output_type": "execute_result"
    }
   ],
   "source": [
    "df = df[df.PLAYER_AGE < 50]\n",
    "df.PLAYER_AGE.max()"
   ]
  },
  {
   "cell_type": "markdown",
   "metadata": {},
   "source": [
    "### Other Filters"
   ]
  },
  {
   "cell_type": "code",
   "execution_count": null,
   "metadata": {},
   "outputs": [],
   "source": []
  },
  {
   "cell_type": "markdown",
   "metadata": {},
   "source": [
    "## Filter Columns"
   ]
  },
  {
   "cell_type": "code",
   "execution_count": 19,
   "metadata": {},
   "outputs": [
    {
     "data": {
      "text/html": [
       "<div>\n",
       "<style scoped>\n",
       "    .dataframe tbody tr th:only-of-type {\n",
       "        vertical-align: middle;\n",
       "    }\n",
       "\n",
       "    .dataframe tbody tr th {\n",
       "        vertical-align: top;\n",
       "    }\n",
       "\n",
       "    .dataframe thead th {\n",
       "        text-align: right;\n",
       "    }\n",
       "</style>\n",
       "<table border=\"1\" class=\"dataframe\">\n",
       "  <thead>\n",
       "    <tr style=\"text-align: right;\">\n",
       "      <th></th>\n",
       "      <th>PLAYER_AGE</th>\n",
       "      <th>GP</th>\n",
       "      <th>GS</th>\n",
       "      <th>MIN</th>\n",
       "      <th>FGM</th>\n",
       "      <th>FGA</th>\n",
       "      <th>FG_PCT</th>\n",
       "      <th>FG3M</th>\n",
       "      <th>FG3A</th>\n",
       "      <th>FG3_PCT</th>\n",
       "      <th>FTM</th>\n",
       "      <th>FTA</th>\n",
       "      <th>FT_PCT</th>\n",
       "      <th>OREB</th>\n",
       "      <th>DREB</th>\n",
       "      <th>REB</th>\n",
       "      <th>AST</th>\n",
       "      <th>STL</th>\n",
       "      <th>BLK</th>\n",
       "      <th>TOV</th>\n",
       "      <th>PF</th>\n",
       "      <th>PTS</th>\n",
       "    </tr>\n",
       "  </thead>\n",
       "  <tbody>\n",
       "    <tr>\n",
       "      <th>1</th>\n",
       "      <td>24.0</td>\n",
       "      <td>63.0</td>\n",
       "      <td>28.0</td>\n",
       "      <td>1028.0</td>\n",
       "      <td>128.0</td>\n",
       "      <td>301.0</td>\n",
       "      <td>0.425</td>\n",
       "      <td>49.0</td>\n",
       "      <td>134.0</td>\n",
       "      <td>0.366</td>\n",
       "      <td>65.0</td>\n",
       "      <td>73.0</td>\n",
       "      <td>0.890</td>\n",
       "      <td>17.0</td>\n",
       "      <td>94.0</td>\n",
       "      <td>111.0</td>\n",
       "      <td>121.0</td>\n",
       "      <td>47.0</td>\n",
       "      <td>8.0</td>\n",
       "      <td>44.0</td>\n",
       "      <td>93.0</td>\n",
       "      <td>370.0</td>\n",
       "    </tr>\n",
       "    <tr>\n",
       "      <th>2</th>\n",
       "      <td>25.0</td>\n",
       "      <td>74.0</td>\n",
       "      <td>26.0</td>\n",
       "      <td>1686.0</td>\n",
       "      <td>209.0</td>\n",
       "      <td>503.0</td>\n",
       "      <td>0.416</td>\n",
       "      <td>61.0</td>\n",
       "      <td>187.0</td>\n",
       "      <td>0.326</td>\n",
       "      <td>140.0</td>\n",
       "      <td>188.0</td>\n",
       "      <td>0.745</td>\n",
       "      <td>31.0</td>\n",
       "      <td>140.0</td>\n",
       "      <td>171.0</td>\n",
       "      <td>342.0</td>\n",
       "      <td>63.0</td>\n",
       "      <td>8.0</td>\n",
       "      <td>89.0</td>\n",
       "      <td>132.0</td>\n",
       "      <td>619.0</td>\n",
       "    </tr>\n",
       "    <tr>\n",
       "      <th>93</th>\n",
       "      <td>32.0</td>\n",
       "      <td>46.0</td>\n",
       "      <td>32.0</td>\n",
       "      <td>1250.0</td>\n",
       "      <td>141.0</td>\n",
       "      <td>345.0</td>\n",
       "      <td>0.409</td>\n",
       "      <td>33.0</td>\n",
       "      <td>112.0</td>\n",
       "      <td>0.295</td>\n",
       "      <td>29.0</td>\n",
       "      <td>45.0</td>\n",
       "      <td>0.644</td>\n",
       "      <td>20.0</td>\n",
       "      <td>114.0</td>\n",
       "      <td>134.0</td>\n",
       "      <td>93.0</td>\n",
       "      <td>37.0</td>\n",
       "      <td>7.0</td>\n",
       "      <td>45.0</td>\n",
       "      <td>77.0</td>\n",
       "      <td>344.0</td>\n",
       "    </tr>\n",
       "    <tr>\n",
       "      <th>94</th>\n",
       "      <td>33.0</td>\n",
       "      <td>76.0</td>\n",
       "      <td>72.0</td>\n",
       "      <td>2278.0</td>\n",
       "      <td>244.0</td>\n",
       "      <td>612.0</td>\n",
       "      <td>0.399</td>\n",
       "      <td>99.0</td>\n",
       "      <td>267.0</td>\n",
       "      <td>0.371</td>\n",
       "      <td>85.0</td>\n",
       "      <td>110.0</td>\n",
       "      <td>0.773</td>\n",
       "      <td>33.0</td>\n",
       "      <td>174.0</td>\n",
       "      <td>207.0</td>\n",
       "      <td>226.0</td>\n",
       "      <td>51.0</td>\n",
       "      <td>25.0</td>\n",
       "      <td>85.0</td>\n",
       "      <td>143.0</td>\n",
       "      <td>672.0</td>\n",
       "    </tr>\n",
       "    <tr>\n",
       "      <th>133</th>\n",
       "      <td>24.0</td>\n",
       "      <td>52.0</td>\n",
       "      <td>43.0</td>\n",
       "      <td>1525.0</td>\n",
       "      <td>286.0</td>\n",
       "      <td>666.0</td>\n",
       "      <td>0.429</td>\n",
       "      <td>43.0</td>\n",
       "      <td>134.0</td>\n",
       "      <td>0.321</td>\n",
       "      <td>84.0</td>\n",
       "      <td>114.0</td>\n",
       "      <td>0.737</td>\n",
       "      <td>24.0</td>\n",
       "      <td>197.0</td>\n",
       "      <td>221.0</td>\n",
       "      <td>310.0</td>\n",
       "      <td>104.0</td>\n",
       "      <td>27.0</td>\n",
       "      <td>150.0</td>\n",
       "      <td>174.0</td>\n",
       "      <td>699.0</td>\n",
       "    </tr>\n",
       "  </tbody>\n",
       "</table>\n",
       "</div>"
      ],
      "text/plain": [
       "     PLAYER_AGE    GP    GS     MIN    FGM    FGA  FG_PCT  FG3M   FG3A  \\\n",
       "1          24.0  63.0  28.0  1028.0  128.0  301.0   0.425  49.0  134.0   \n",
       "2          25.0  74.0  26.0  1686.0  209.0  503.0   0.416  61.0  187.0   \n",
       "93         32.0  46.0  32.0  1250.0  141.0  345.0   0.409  33.0  112.0   \n",
       "94         33.0  76.0  72.0  2278.0  244.0  612.0   0.399  99.0  267.0   \n",
       "133        24.0  52.0  43.0  1525.0  286.0  666.0   0.429  43.0  134.0   \n",
       "\n",
       "     FG3_PCT    FTM    FTA  FT_PCT  OREB   DREB    REB    AST    STL   BLK  \\\n",
       "1      0.366   65.0   73.0   0.890  17.0   94.0  111.0  121.0   47.0   8.0   \n",
       "2      0.326  140.0  188.0   0.745  31.0  140.0  171.0  342.0   63.0   8.0   \n",
       "93     0.295   29.0   45.0   0.644  20.0  114.0  134.0   93.0   37.0   7.0   \n",
       "94     0.371   85.0  110.0   0.773  33.0  174.0  207.0  226.0   51.0  25.0   \n",
       "133    0.321   84.0  114.0   0.737  24.0  197.0  221.0  310.0  104.0  27.0   \n",
       "\n",
       "       TOV     PF    PTS  \n",
       "1     44.0   93.0  370.0  \n",
       "2     89.0  132.0  619.0  \n",
       "93    45.0   77.0  344.0  \n",
       "94    85.0  143.0  672.0  \n",
       "133  150.0  174.0  699.0  "
      ]
     },
     "execution_count": 19,
     "metadata": {},
     "output_type": "execute_result"
    }
   ],
   "source": [
    "df = df[numeric_attributes]\n",
    "df.head()"
   ]
  },
  {
   "cell_type": "markdown",
   "metadata": {},
   "source": [
    "## Normalize\n",
    "\n",
    "Normalization of the numerical columns. This will screw up some connections that are present in the data!"
   ]
  },
  {
   "cell_type": "code",
   "execution_count": 20,
   "metadata": {},
   "outputs": [
    {
     "data": {
      "text/html": [
       "<div>\n",
       "<style scoped>\n",
       "    .dataframe tbody tr th:only-of-type {\n",
       "        vertical-align: middle;\n",
       "    }\n",
       "\n",
       "    .dataframe tbody tr th {\n",
       "        vertical-align: top;\n",
       "    }\n",
       "\n",
       "    .dataframe thead th {\n",
       "        text-align: right;\n",
       "    }\n",
       "</style>\n",
       "<table border=\"1\" class=\"dataframe\">\n",
       "  <thead>\n",
       "    <tr style=\"text-align: right;\">\n",
       "      <th></th>\n",
       "      <th>PLAYER_AGE</th>\n",
       "      <th>GP</th>\n",
       "      <th>GS</th>\n",
       "      <th>MIN</th>\n",
       "      <th>FGM</th>\n",
       "      <th>FGA</th>\n",
       "      <th>FG_PCT</th>\n",
       "      <th>FG3M</th>\n",
       "      <th>FG3A</th>\n",
       "      <th>FG3_PCT</th>\n",
       "      <th>FTM</th>\n",
       "      <th>FTA</th>\n",
       "      <th>FT_PCT</th>\n",
       "      <th>OREB</th>\n",
       "      <th>DREB</th>\n",
       "      <th>REB</th>\n",
       "      <th>AST</th>\n",
       "      <th>STL</th>\n",
       "      <th>BLK</th>\n",
       "      <th>TOV</th>\n",
       "      <th>PF</th>\n",
       "      <th>PTS</th>\n",
       "    </tr>\n",
       "  </thead>\n",
       "  <tbody>\n",
       "    <tr>\n",
       "      <th>1</th>\n",
       "      <td>0.227273</td>\n",
       "      <td>0.692308</td>\n",
       "      <td>0.156250</td>\n",
       "      <td>0.239872</td>\n",
       "      <td>0.126946</td>\n",
       "      <td>0.133650</td>\n",
       "      <td>0.324826</td>\n",
       "      <td>0.121891</td>\n",
       "      <td>0.130350</td>\n",
       "      <td>0.366</td>\n",
       "      <td>0.084993</td>\n",
       "      <td>0.074456</td>\n",
       "      <td>0.876265</td>\n",
       "      <td>0.038636</td>\n",
       "      <td>0.079365</td>\n",
       "      <td>0.065021</td>\n",
       "      <td>0.127636</td>\n",
       "      <td>0.238095</td>\n",
       "      <td>0.029740</td>\n",
       "      <td>0.072848</td>\n",
       "      <td>0.246377</td>\n",
       "      <td>0.114007</td>\n",
       "    </tr>\n",
       "    <tr>\n",
       "      <th>2</th>\n",
       "      <td>0.272727</td>\n",
       "      <td>0.861538</td>\n",
       "      <td>0.125000</td>\n",
       "      <td>0.473703</td>\n",
       "      <td>0.223952</td>\n",
       "      <td>0.240359</td>\n",
       "      <td>0.303944</td>\n",
       "      <td>0.151741</td>\n",
       "      <td>0.181907</td>\n",
       "      <td>0.326</td>\n",
       "      <td>0.184595</td>\n",
       "      <td>0.206186</td>\n",
       "      <td>0.713161</td>\n",
       "      <td>0.070455</td>\n",
       "      <td>0.135531</td>\n",
       "      <td>0.114403</td>\n",
       "      <td>0.372919</td>\n",
       "      <td>0.322751</td>\n",
       "      <td>0.029740</td>\n",
       "      <td>0.172185</td>\n",
       "      <td>0.387681</td>\n",
       "      <td>0.204126</td>\n",
       "    </tr>\n",
       "    <tr>\n",
       "      <th>93</th>\n",
       "      <td>0.590909</td>\n",
       "      <td>0.430769</td>\n",
       "      <td>0.218750</td>\n",
       "      <td>0.318763</td>\n",
       "      <td>0.142515</td>\n",
       "      <td>0.156894</td>\n",
       "      <td>0.287703</td>\n",
       "      <td>0.082090</td>\n",
       "      <td>0.108949</td>\n",
       "      <td>0.295</td>\n",
       "      <td>0.037185</td>\n",
       "      <td>0.042383</td>\n",
       "      <td>0.599550</td>\n",
       "      <td>0.045455</td>\n",
       "      <td>0.103785</td>\n",
       "      <td>0.083951</td>\n",
       "      <td>0.096559</td>\n",
       "      <td>0.185185</td>\n",
       "      <td>0.026022</td>\n",
       "      <td>0.075055</td>\n",
       "      <td>0.188406</td>\n",
       "      <td>0.104596</td>\n",
       "    </tr>\n",
       "    <tr>\n",
       "      <th>94</th>\n",
       "      <td>0.636364</td>\n",
       "      <td>0.892308</td>\n",
       "      <td>0.843750</td>\n",
       "      <td>0.684080</td>\n",
       "      <td>0.265868</td>\n",
       "      <td>0.297940</td>\n",
       "      <td>0.264501</td>\n",
       "      <td>0.246269</td>\n",
       "      <td>0.259728</td>\n",
       "      <td>0.371</td>\n",
       "      <td>0.111554</td>\n",
       "      <td>0.116838</td>\n",
       "      <td>0.744657</td>\n",
       "      <td>0.075000</td>\n",
       "      <td>0.177045</td>\n",
       "      <td>0.144033</td>\n",
       "      <td>0.244173</td>\n",
       "      <td>0.259259</td>\n",
       "      <td>0.092937</td>\n",
       "      <td>0.163355</td>\n",
       "      <td>0.427536</td>\n",
       "      <td>0.223308</td>\n",
       "    </tr>\n",
       "    <tr>\n",
       "      <th>133</th>\n",
       "      <td>0.227273</td>\n",
       "      <td>0.523077</td>\n",
       "      <td>0.390625</td>\n",
       "      <td>0.416489</td>\n",
       "      <td>0.316168</td>\n",
       "      <td>0.326466</td>\n",
       "      <td>0.334107</td>\n",
       "      <td>0.106965</td>\n",
       "      <td>0.130350</td>\n",
       "      <td>0.321</td>\n",
       "      <td>0.110226</td>\n",
       "      <td>0.121420</td>\n",
       "      <td>0.704162</td>\n",
       "      <td>0.054545</td>\n",
       "      <td>0.205128</td>\n",
       "      <td>0.155556</td>\n",
       "      <td>0.337403</td>\n",
       "      <td>0.539683</td>\n",
       "      <td>0.100372</td>\n",
       "      <td>0.306843</td>\n",
       "      <td>0.539855</td>\n",
       "      <td>0.233080</td>\n",
       "    </tr>\n",
       "  </tbody>\n",
       "</table>\n",
       "</div>"
      ],
      "text/plain": [
       "     PLAYER_AGE        GP        GS       MIN       FGM       FGA    FG_PCT  \\\n",
       "1      0.227273  0.692308  0.156250  0.239872  0.126946  0.133650  0.324826   \n",
       "2      0.272727  0.861538  0.125000  0.473703  0.223952  0.240359  0.303944   \n",
       "93     0.590909  0.430769  0.218750  0.318763  0.142515  0.156894  0.287703   \n",
       "94     0.636364  0.892308  0.843750  0.684080  0.265868  0.297940  0.264501   \n",
       "133    0.227273  0.523077  0.390625  0.416489  0.316168  0.326466  0.334107   \n",
       "\n",
       "         FG3M      FG3A  FG3_PCT       FTM       FTA    FT_PCT      OREB  \\\n",
       "1    0.121891  0.130350    0.366  0.084993  0.074456  0.876265  0.038636   \n",
       "2    0.151741  0.181907    0.326  0.184595  0.206186  0.713161  0.070455   \n",
       "93   0.082090  0.108949    0.295  0.037185  0.042383  0.599550  0.045455   \n",
       "94   0.246269  0.259728    0.371  0.111554  0.116838  0.744657  0.075000   \n",
       "133  0.106965  0.130350    0.321  0.110226  0.121420  0.704162  0.054545   \n",
       "\n",
       "         DREB       REB       AST       STL       BLK       TOV        PF  \\\n",
       "1    0.079365  0.065021  0.127636  0.238095  0.029740  0.072848  0.246377   \n",
       "2    0.135531  0.114403  0.372919  0.322751  0.029740  0.172185  0.387681   \n",
       "93   0.103785  0.083951  0.096559  0.185185  0.026022  0.075055  0.188406   \n",
       "94   0.177045  0.144033  0.244173  0.259259  0.092937  0.163355  0.427536   \n",
       "133  0.205128  0.155556  0.337403  0.539683  0.100372  0.306843  0.539855   \n",
       "\n",
       "          PTS  \n",
       "1    0.114007  \n",
       "2    0.204126  \n",
       "93   0.104596  \n",
       "94   0.223308  \n",
       "133  0.233080  "
      ]
     },
     "execution_count": 20,
     "metadata": {},
     "output_type": "execute_result"
    }
   ],
   "source": [
    "from sklearn.preprocessing import LabelEncoder, StandardScaler, MinMaxScaler\n",
    "\n",
    "for attribute in numeric_attributes:\n",
    "    df[attribute] = MinMaxScaler().fit_transform(df[attribute].values.reshape(-1, 1))\n",
    "\n",
    "df.head()"
   ]
  },
  {
   "cell_type": "code",
   "execution_count": 21,
   "metadata": {},
   "outputs": [],
   "source": [
    "df.to_csv(\"clean.csv\")"
   ]
  },
  {
   "cell_type": "markdown",
   "metadata": {},
   "source": [
    "## Reindex DataFrame\n",
    "\n",
    "Never forget this step. Our index must really be consecutive for our anomaly-generation procedures."
   ]
  },
  {
   "cell_type": "code",
   "execution_count": 22,
   "metadata": {},
   "outputs": [],
   "source": [
    "df.reset_index(drop=True, inplace=True)"
   ]
  },
  {
   "cell_type": "code",
   "execution_count": null,
   "metadata": {},
   "outputs": [],
   "source": []
  },
  {
   "cell_type": "markdown",
   "metadata": {},
   "source": [
    "# Global Anomaly Parameters\n",
    "\n",
    "In the procedure executed below, some things are left constant."
   ]
  },
  {
   "cell_type": "code",
   "execution_count": 23,
   "metadata": {},
   "outputs": [],
   "source": [
    "from nba_anomaly_generator.data import load_lal\n",
    "\n",
    "from nba_anomaly_generator.anom import (\n",
    "    insert_dependency_anomaly,\n",
    "    insert_contextual_anomaly,\n",
    "    insert_swap_anomaly,\n",
    "    insert_transformation_anomaly,\n",
    "    ft_to_m,\n",
    "    lb_to_kg,\n",
    ")"
   ]
  },
  {
   "cell_type": "code",
   "execution_count": 24,
   "metadata": {},
   "outputs": [
    {
     "data": {
      "text/plain": [
       "(2008, 22)"
      ]
     },
     "execution_count": 24,
     "metadata": {},
     "output_type": "execute_result"
    }
   ],
   "source": [
    "df.shape"
   ]
  },
  {
   "cell_type": "code",
   "execution_count": 25,
   "metadata": {},
   "outputs": [],
   "source": [
    "NB_OF_ANOMALIES = int(df.shape[0] * ANOMALY_FRACTION * 0.01)"
   ]
  },
  {
   "cell_type": "markdown",
   "metadata": {
    "Collapsed": "false"
   },
   "source": [
    "# Anomalies of the First Kind: Point Anomaly\n",
    "\n",
    "**Procedure**: Introduce fake values by manually changing its value by means of a transformation.\n",
    "\n",
    "Here we would expect to see any anomaly detection system perform rather well."
   ]
  },
  {
   "cell_type": "code",
   "execution_count": null,
   "metadata": {},
   "outputs": [],
   "source": []
  },
  {
   "cell_type": "code",
   "execution_count": 26,
   "metadata": {},
   "outputs": [],
   "source": [
    "df_01 = df.copy()\n",
    "md_01 = []\n",
    "for anomaly_idx in range(NB_OF_ANOMALIES):\n",
    "    df_01, md = insert_transformation_anomaly(\n",
    "        df_01,\n",
    "        row=None,\n",
    "        col=\"PLAYER_AGE\",\n",
    "        transformation=lambda x: 10 * x,\n",
    "        rng=None,\n",
    "        random_state=RANDOM_SEED * anomaly_idx,\n",
    "        return_anomaly_metadata=True,\n",
    "    )\n",
    "    md_01.append(md)"
   ]
  },
  {
   "cell_type": "code",
   "execution_count": 27,
   "metadata": {},
   "outputs": [
    {
     "data": {
      "text/plain": [
       "20"
      ]
     },
     "execution_count": 27,
     "metadata": {},
     "output_type": "execute_result"
    }
   ],
   "source": [
    "np.sum(df_01.a_lbl)"
   ]
  },
  {
   "cell_type": "code",
   "execution_count": 28,
   "metadata": {},
   "outputs": [],
   "source": [
    "df_01.to_csv(\"anompoint_n01_a{0:02d}_v{1:02d}.csv\".format(ANOMALY_FRACTION, VERSION))"
   ]
  },
  {
   "cell_type": "markdown",
   "metadata": {},
   "source": [
    "# Anomalies of the Second Kind: Dependency Anomaly\n",
    "\n",
    "**Procedure**: Introduce fake values by randomly sampling another value of the same column.\n",
    "\n",
    "Here, we would expect global methods to fail. Local methods should be doing alright in the end."
   ]
  },
  {
   "cell_type": "code",
   "execution_count": 29,
   "metadata": {},
   "outputs": [],
   "source": [
    "df_02 = df.copy()\n",
    "md_02 = []\n",
    "\n",
    "for anomaly_idx in range(NB_OF_ANOMALIES):\n",
    "    df_02, md = insert_dependency_anomaly(\n",
    "        df_02,\n",
    "        row=None,\n",
    "        col=\"FGM\",\n",
    "        val=None,\n",
    "        val_list=None,\n",
    "        val_dist=None,\n",
    "        random_state=RANDOM_SEED * anomaly_idx,\n",
    "        rng=None,\n",
    "    )\n",
    "\n",
    "    md_02.append(md)"
   ]
  },
  {
   "cell_type": "code",
   "execution_count": 30,
   "metadata": {},
   "outputs": [
    {
     "data": {
      "text/plain": [
       "20"
      ]
     },
     "execution_count": 30,
     "metadata": {},
     "output_type": "execute_result"
    }
   ],
   "source": [
    "np.sum(df_02.a_lbl)"
   ]
  },
  {
   "cell_type": "code",
   "execution_count": 31,
   "metadata": {},
   "outputs": [
    {
     "data": {
      "text/plain": [
       "(2008, 23)"
      ]
     },
     "execution_count": 31,
     "metadata": {},
     "output_type": "execute_result"
    }
   ],
   "source": [
    "df_02.shape"
   ]
  },
  {
   "cell_type": "code",
   "execution_count": 32,
   "metadata": {},
   "outputs": [],
   "source": [
    "df_02.to_csv(\"anomdeps_n01_a{0:02d}_v{1:02d}.csv\".format(ANOMALY_FRACTION, VERSION))"
   ]
  },
  {
   "cell_type": "markdown",
   "metadata": {},
   "source": [
    "# Anomalies of the Third Kind: Contextual Anomaly\n",
    "\n",
    "**Procedure**: Introduce fake values by randomly sampling another value of the same column, but that value comes from a different subpopulation.\n",
    "\n",
    "Here we would like to see ADMERCS shine, and everyone else struggle."
   ]
  },
  {
   "cell_type": "markdown",
   "metadata": {},
   "source": [
    "## Context 01: rebounds and threes\n",
    "\n",
    "The big guys in the game are not good in long-distance shooting.\n",
    "\n",
    "So, the context is defined by `REB` and the attribute we modify is `FG3M`"
   ]
  },
  {
   "cell_type": "code",
   "execution_count": 33,
   "metadata": {},
   "outputs": [],
   "source": [
    "df_03 = df.copy()\n",
    "md_03 = []\n",
    "\n",
    "for anomaly_idx in range(NB_OF_ANOMALIES):\n",
    "    df_03, md = insert_contextual_anomaly(\n",
    "        df_03,\n",
    "        row=None,\n",
    "        col=\"FT_PCT\",\n",
    "        src_subpop_filter=lambda r: r.FG3M > 0.8,  # Best shooters\n",
    "        tgt_subpop_filter=lambda r: r.FG3M < 0.2,  # Regular shooters\n",
    "        rng=None,\n",
    "        random_state=RANDOM_SEED + anomaly_idx,\n",
    "        return_anomaly_metadata=True,\n",
    "        swap=False,\n",
    "    )\n",
    "\n",
    "    md_03.append(md)"
   ]
  },
  {
   "cell_type": "code",
   "execution_count": 34,
   "metadata": {},
   "outputs": [],
   "source": [
    "df_03.to_csv(\"anomcontext_n01_a{0:02d}_v{1:02d}.csv\".format(ANOMALY_FRACTION, VERSION))"
   ]
  },
  {
   "cell_type": "markdown",
   "metadata": {},
   "source": [
    "## Context 01: Rebounds and Threes - SWAP version\n",
    "\n",
    "This may be a better implementation of our context-anomaly."
   ]
  },
  {
   "cell_type": "code",
   "execution_count": 35,
   "metadata": {},
   "outputs": [],
   "source": [
    "df_04 = df.copy()\n",
    "md_04 = []\n",
    "\n",
    "for anomaly_idx in range(NB_OF_ANOMALIES):\n",
    "    df_04, md = insert_contextual_anomaly(\n",
    "        df_04,\n",
    "        row=None,\n",
    "        col=\"FT_PCT\",\n",
    "        src_subpop_filter=lambda r: r.FG3M > 0.8,  # Best shooters\n",
    "        tgt_subpop_filter=lambda r: r.FG3M < 0.2,  # Regular shooters\n",
    "        rng=None,\n",
    "        random_state=RANDOM_SEED + anomaly_idx,\n",
    "        return_anomaly_metadata=True,\n",
    "        swap=True,\n",
    "    )\n",
    "\n",
    "    md_04.extend(md)  # You already get a list if swap=True"
   ]
  },
  {
   "cell_type": "code",
   "execution_count": 36,
   "metadata": {},
   "outputs": [],
   "source": [
    "df_04.to_csv(\n",
    "    \"anomswapcontext_n01_a{0:02d}_v{1:02d}.csv\".format(ANOMALY_FRACTION, VERSION)\n",
    ")"
   ]
  },
  {
   "cell_type": "markdown",
   "metadata": {},
   "source": [
    "# More Advanced Contextual Anomalies\n",
    "\n",
    "First I perform some clustering, and then I swap between those clusters."
   ]
  },
  {
   "cell_type": "markdown",
   "metadata": {},
   "source": [
    "## Clustering"
   ]
  },
  {
   "cell_type": "code",
   "execution_count": 37,
   "metadata": {},
   "outputs": [],
   "source": [
    "from sklearn.cluster import KMeans\n",
    "\n",
    "N_CLUSTERS = 10"
   ]
  },
  {
   "cell_type": "code",
   "execution_count": 38,
   "metadata": {},
   "outputs": [],
   "source": [
    "from nba_anomaly_generator.anom.utils import init_rng, init_row_idx"
   ]
  },
  {
   "cell_type": "code",
   "execution_count": 98,
   "metadata": {},
   "outputs": [],
   "source": [
    "def add_cluster_column(df, n_clusters=10, **kmeans_kwargs):\n",
    "    c = KMeans(n_clusters=n_clusters, **kmeans_kwargs)\n",
    "    c.fit(df.values)\n",
    "\n",
    "    print(\"Clustering succesful.\")\n",
    "\n",
    "    df[\"cluster_label\"] = c.labels_\n",
    "    return df\n",
    "\n",
    "\n",
    "def find_an_interesting_switch(df, field=\"FGM\", must_include=None):\n",
    "\n",
    "    # Actual Function\n",
    "    cluster_labels = df[\"cluster_label\"].unique()\n",
    "    cluster_labels.sort()\n",
    "\n",
    "    # Collect Stats\n",
    "    stats = []\n",
    "\n",
    "    lower_bounds = []\n",
    "    upper_bounds = []\n",
    "\n",
    "    for label in cluster_labels:\n",
    "        rdf = df[df.cluster_label == label]\n",
    "        sts = (rdf[field].mean(), rdf[field].std())\n",
    "        stats.append(sts)\n",
    "\n",
    "        lb, ub = (sts[0] - sts[1], sts[0] + sts[1])\n",
    "        lower_bounds.append(lb)\n",
    "        upper_bounds.append(ub)\n",
    "\n",
    "    bounds = list(zip(lower_bounds, upper_bounds, cluster_labels))\n",
    "\n",
    "    # All interesting combos\n",
    "    combos = []\n",
    "    deltas = []\n",
    "    for i, (l1, u1, label_1) in enumerate(bounds[:-1]):\n",
    "        for i2 in range(i + 1, len(bounds)):\n",
    "\n",
    "            # Check the constraint given above\n",
    "            if must_include is not None:\n",
    "                valid_combination = False\n",
    "\n",
    "                assert isinstance(\n",
    "                    must_include, int\n",
    "                ), \"If you have this kind of preference, it must be an integer\"\n",
    "\n",
    "                if i == must_include:\n",
    "                    valid_combination = True\n",
    "                elif i2 == must_include:\n",
    "                    valid_combination = True\n",
    "            else:\n",
    "                valid_combination = True\n",
    "\n",
    "            # If the combination is valid, do your thing\n",
    "            if valid_combination:\n",
    "                l2, u2, label_2 = bounds[i2]\n",
    "\n",
    "                if u1 < l2:\n",
    "                    delta = l2 - u1\n",
    "                    deltas.append(delta)\n",
    "\n",
    "                    combo = (label_1, label_2)\n",
    "                    combos.append(combo)\n",
    "                elif l1 > u2:\n",
    "                    delta = l1 - u2\n",
    "                    deltas.append(delta)\n",
    "\n",
    "                    combo = (label_2, label_1)\n",
    "                    combos.append(combo)\n",
    "                else:\n",
    "                    # Not enough difference: no interesting combo\n",
    "                    pass\n",
    "            else:\n",
    "                # This combination is irrelevant, does not satisfy must_include constraint\n",
    "                pass\n",
    "\n",
    "    # Sort according to the delta associated with each combo.\n",
    "    df_switch = pd.DataFrame()\n",
    "    df_switch[\"delta\"] = deltas\n",
    "    df_switch[\"combo\"] = combos\n",
    "    df_switch[\"field\"] = field\n",
    "    df_switch.sort_values(by=\"delta\", ascending=False, inplace=True, ignore_index=True)\n",
    "\n",
    "    return df_switch\n",
    "\n",
    "\n",
    "def pick_interesting_switch(df_switch, rng=None, random_state=42, k=None):\n",
    "    # Manage inputs\n",
    "    rng = init_rng(rng=rng, random_state=random_state)\n",
    "\n",
    "    if k is not None and k > cdf.shape[0]:\n",
    "        k = None  # That means just take all rows\n",
    "\n",
    "    # Sample\n",
    "    eligible_rows = slice(k)\n",
    "    dfs_row_idx = init_row_idx(rng, df_switch.iloc[eligible_rows, :])\n",
    "\n",
    "    return df_switch.iloc[dfs_row_idx]"
   ]
  },
  {
   "cell_type": "code",
   "execution_count": 76,
   "metadata": {},
   "outputs": [
    {
     "name": "stdout",
     "output_type": "stream",
     "text": [
      "Clustering succesful.\n"
     ]
    },
    {
     "data": {
      "text/html": [
       "<div>\n",
       "<style scoped>\n",
       "    .dataframe tbody tr th:only-of-type {\n",
       "        vertical-align: middle;\n",
       "    }\n",
       "\n",
       "    .dataframe tbody tr th {\n",
       "        vertical-align: top;\n",
       "    }\n",
       "\n",
       "    .dataframe thead th {\n",
       "        text-align: right;\n",
       "    }\n",
       "</style>\n",
       "<table border=\"1\" class=\"dataframe\">\n",
       "  <thead>\n",
       "    <tr style=\"text-align: right;\">\n",
       "      <th></th>\n",
       "      <th>PLAYER_AGE</th>\n",
       "      <th>GP</th>\n",
       "      <th>GS</th>\n",
       "      <th>MIN</th>\n",
       "      <th>FGM</th>\n",
       "      <th>FGA</th>\n",
       "      <th>FG_PCT</th>\n",
       "      <th>FG3M</th>\n",
       "      <th>FG3A</th>\n",
       "      <th>FG3_PCT</th>\n",
       "      <th>FTM</th>\n",
       "      <th>FTA</th>\n",
       "      <th>FT_PCT</th>\n",
       "      <th>OREB</th>\n",
       "      <th>DREB</th>\n",
       "      <th>REB</th>\n",
       "      <th>AST</th>\n",
       "      <th>STL</th>\n",
       "      <th>BLK</th>\n",
       "      <th>TOV</th>\n",
       "      <th>PF</th>\n",
       "      <th>PTS</th>\n",
       "      <th>cluster_label</th>\n",
       "    </tr>\n",
       "  </thead>\n",
       "  <tbody>\n",
       "    <tr>\n",
       "      <th>0</th>\n",
       "      <td>0.227273</td>\n",
       "      <td>0.692308</td>\n",
       "      <td>0.156250</td>\n",
       "      <td>0.239872</td>\n",
       "      <td>0.126946</td>\n",
       "      <td>0.133650</td>\n",
       "      <td>0.324826</td>\n",
       "      <td>0.121891</td>\n",
       "      <td>0.130350</td>\n",
       "      <td>0.366</td>\n",
       "      <td>0.084993</td>\n",
       "      <td>0.074456</td>\n",
       "      <td>0.876265</td>\n",
       "      <td>0.038636</td>\n",
       "      <td>0.079365</td>\n",
       "      <td>0.065021</td>\n",
       "      <td>0.127636</td>\n",
       "      <td>0.238095</td>\n",
       "      <td>0.029740</td>\n",
       "      <td>0.072848</td>\n",
       "      <td>0.246377</td>\n",
       "      <td>0.114007</td>\n",
       "      <td>7</td>\n",
       "    </tr>\n",
       "    <tr>\n",
       "      <th>1</th>\n",
       "      <td>0.272727</td>\n",
       "      <td>0.861538</td>\n",
       "      <td>0.125000</td>\n",
       "      <td>0.473703</td>\n",
       "      <td>0.223952</td>\n",
       "      <td>0.240359</td>\n",
       "      <td>0.303944</td>\n",
       "      <td>0.151741</td>\n",
       "      <td>0.181907</td>\n",
       "      <td>0.326</td>\n",
       "      <td>0.184595</td>\n",
       "      <td>0.206186</td>\n",
       "      <td>0.713161</td>\n",
       "      <td>0.070455</td>\n",
       "      <td>0.135531</td>\n",
       "      <td>0.114403</td>\n",
       "      <td>0.372919</td>\n",
       "      <td>0.322751</td>\n",
       "      <td>0.029740</td>\n",
       "      <td>0.172185</td>\n",
       "      <td>0.387681</td>\n",
       "      <td>0.204126</td>\n",
       "      <td>0</td>\n",
       "    </tr>\n",
       "    <tr>\n",
       "      <th>2</th>\n",
       "      <td>0.590909</td>\n",
       "      <td>0.430769</td>\n",
       "      <td>0.218750</td>\n",
       "      <td>0.318763</td>\n",
       "      <td>0.142515</td>\n",
       "      <td>0.156894</td>\n",
       "      <td>0.287703</td>\n",
       "      <td>0.082090</td>\n",
       "      <td>0.108949</td>\n",
       "      <td>0.295</td>\n",
       "      <td>0.037185</td>\n",
       "      <td>0.042383</td>\n",
       "      <td>0.599550</td>\n",
       "      <td>0.045455</td>\n",
       "      <td>0.103785</td>\n",
       "      <td>0.083951</td>\n",
       "      <td>0.096559</td>\n",
       "      <td>0.185185</td>\n",
       "      <td>0.026022</td>\n",
       "      <td>0.075055</td>\n",
       "      <td>0.188406</td>\n",
       "      <td>0.104596</td>\n",
       "      <td>7</td>\n",
       "    </tr>\n",
       "    <tr>\n",
       "      <th>3</th>\n",
       "      <td>0.636364</td>\n",
       "      <td>0.892308</td>\n",
       "      <td>0.843750</td>\n",
       "      <td>0.684080</td>\n",
       "      <td>0.265868</td>\n",
       "      <td>0.297940</td>\n",
       "      <td>0.264501</td>\n",
       "      <td>0.246269</td>\n",
       "      <td>0.259728</td>\n",
       "      <td>0.371</td>\n",
       "      <td>0.111554</td>\n",
       "      <td>0.116838</td>\n",
       "      <td>0.744657</td>\n",
       "      <td>0.075000</td>\n",
       "      <td>0.177045</td>\n",
       "      <td>0.144033</td>\n",
       "      <td>0.244173</td>\n",
       "      <td>0.259259</td>\n",
       "      <td>0.092937</td>\n",
       "      <td>0.163355</td>\n",
       "      <td>0.427536</td>\n",
       "      <td>0.223308</td>\n",
       "      <td>5</td>\n",
       "    </tr>\n",
       "    <tr>\n",
       "      <th>4</th>\n",
       "      <td>0.227273</td>\n",
       "      <td>0.523077</td>\n",
       "      <td>0.390625</td>\n",
       "      <td>0.416489</td>\n",
       "      <td>0.316168</td>\n",
       "      <td>0.326466</td>\n",
       "      <td>0.334107</td>\n",
       "      <td>0.106965</td>\n",
       "      <td>0.130350</td>\n",
       "      <td>0.321</td>\n",
       "      <td>0.110226</td>\n",
       "      <td>0.121420</td>\n",
       "      <td>0.704162</td>\n",
       "      <td>0.054545</td>\n",
       "      <td>0.205128</td>\n",
       "      <td>0.155556</td>\n",
       "      <td>0.337403</td>\n",
       "      <td>0.539683</td>\n",
       "      <td>0.100372</td>\n",
       "      <td>0.306843</td>\n",
       "      <td>0.539855</td>\n",
       "      <td>0.233080</td>\n",
       "      <td>2</td>\n",
       "    </tr>\n",
       "  </tbody>\n",
       "</table>\n",
       "</div>"
      ],
      "text/plain": [
       "   PLAYER_AGE        GP        GS       MIN       FGM       FGA    FG_PCT  \\\n",
       "0    0.227273  0.692308  0.156250  0.239872  0.126946  0.133650  0.324826   \n",
       "1    0.272727  0.861538  0.125000  0.473703  0.223952  0.240359  0.303944   \n",
       "2    0.590909  0.430769  0.218750  0.318763  0.142515  0.156894  0.287703   \n",
       "3    0.636364  0.892308  0.843750  0.684080  0.265868  0.297940  0.264501   \n",
       "4    0.227273  0.523077  0.390625  0.416489  0.316168  0.326466  0.334107   \n",
       "\n",
       "       FG3M      FG3A  FG3_PCT       FTM       FTA    FT_PCT      OREB  \\\n",
       "0  0.121891  0.130350    0.366  0.084993  0.074456  0.876265  0.038636   \n",
       "1  0.151741  0.181907    0.326  0.184595  0.206186  0.713161  0.070455   \n",
       "2  0.082090  0.108949    0.295  0.037185  0.042383  0.599550  0.045455   \n",
       "3  0.246269  0.259728    0.371  0.111554  0.116838  0.744657  0.075000   \n",
       "4  0.106965  0.130350    0.321  0.110226  0.121420  0.704162  0.054545   \n",
       "\n",
       "       DREB       REB       AST       STL       BLK       TOV        PF  \\\n",
       "0  0.079365  0.065021  0.127636  0.238095  0.029740  0.072848  0.246377   \n",
       "1  0.135531  0.114403  0.372919  0.322751  0.029740  0.172185  0.387681   \n",
       "2  0.103785  0.083951  0.096559  0.185185  0.026022  0.075055  0.188406   \n",
       "3  0.177045  0.144033  0.244173  0.259259  0.092937  0.163355  0.427536   \n",
       "4  0.205128  0.155556  0.337403  0.539683  0.100372  0.306843  0.539855   \n",
       "\n",
       "        PTS  cluster_label  \n",
       "0  0.114007              7  \n",
       "1  0.204126              0  \n",
       "2  0.104596              7  \n",
       "3  0.223308              5  \n",
       "4  0.233080              2  "
      ]
     },
     "execution_count": 76,
     "metadata": {},
     "output_type": "execute_result"
    }
   ],
   "source": [
    "df = add_cluster_column(df, n_clusters=10)\n",
    "df.head()"
   ]
  },
  {
   "cell_type": "code",
   "execution_count": 82,
   "metadata": {},
   "outputs": [
    {
     "data": {
      "text/html": [
       "<div>\n",
       "<style scoped>\n",
       "    .dataframe tbody tr th:only-of-type {\n",
       "        vertical-align: middle;\n",
       "    }\n",
       "\n",
       "    .dataframe tbody tr th {\n",
       "        vertical-align: top;\n",
       "    }\n",
       "\n",
       "    .dataframe thead th {\n",
       "        text-align: right;\n",
       "    }\n",
       "</style>\n",
       "<table border=\"1\" class=\"dataframe\">\n",
       "  <thead>\n",
       "    <tr style=\"text-align: right;\">\n",
       "      <th></th>\n",
       "      <th>delta</th>\n",
       "      <th>combo</th>\n",
       "    </tr>\n",
       "  </thead>\n",
       "  <tbody>\n",
       "    <tr>\n",
       "      <th>0</th>\n",
       "      <td>0.486128</td>\n",
       "      <td>(6, 4)</td>\n",
       "    </tr>\n",
       "    <tr>\n",
       "      <th>1</th>\n",
       "      <td>0.408232</td>\n",
       "      <td>(7, 4)</td>\n",
       "    </tr>\n",
       "    <tr>\n",
       "      <th>2</th>\n",
       "      <td>0.377267</td>\n",
       "      <td>(3, 4)</td>\n",
       "    </tr>\n",
       "    <tr>\n",
       "      <th>3</th>\n",
       "      <td>0.277654</td>\n",
       "      <td>(0, 4)</td>\n",
       "    </tr>\n",
       "    <tr>\n",
       "      <th>4</th>\n",
       "      <td>0.263226</td>\n",
       "      <td>(6, 8)</td>\n",
       "    </tr>\n",
       "  </tbody>\n",
       "</table>\n",
       "</div>"
      ],
      "text/plain": [
       "      delta   combo\n",
       "0  0.486128  (6, 4)\n",
       "1  0.408232  (7, 4)\n",
       "2  0.377267  (3, 4)\n",
       "3  0.277654  (0, 4)\n",
       "4  0.263226  (6, 8)"
      ]
     },
     "execution_count": 82,
     "metadata": {},
     "output_type": "execute_result"
    }
   ],
   "source": [
    "df_switch = find_an_interesting_switch(df, field=\"FGM\")\n",
    "df_switch.head()"
   ]
  },
  {
   "cell_type": "code",
   "execution_count": 45,
   "metadata": {},
   "outputs": [
    {
     "data": {
      "text/plain": [
       "delta    0.377267\n",
       "combo      (0, 9)\n",
       "Name: 2, dtype: object"
      ]
     },
     "execution_count": 45,
     "metadata": {},
     "output_type": "execute_result"
    }
   ],
   "source": [
    "switch = pick_interesting_switch(df_switch, rng=None, random_state=42, k=None)\n",
    "switch"
   ]
  },
  {
   "cell_type": "code",
   "execution_count": 46,
   "metadata": {},
   "outputs": [
    {
     "data": {
      "text/plain": [
       "(0, 9)"
      ]
     },
     "execution_count": 46,
     "metadata": {},
     "output_type": "execute_result"
    }
   ],
   "source": [
    "switch.combo"
   ]
  },
  {
   "cell_type": "markdown",
   "metadata": {},
   "source": [
    "## Swapping between Clusters"
   ]
  },
  {
   "cell_type": "markdown",
   "metadata": {},
   "source": [
    "Make 10 versions. Do it in a single dimensions or in multiple ones.\n",
    "\n",
    "Run the algorithms and observe whether you can see the patterns. If you switch things around in more dimensions, you should be able to witness some stuff happening.\n",
    "\n",
    "It really cannot be too hard now. Start writing the entire thing down. Go at it with fury, and you will have yet another paper for your phd. That brings the grand total to 3. \n",
    "\n",
    "And then this summer you can spend with Gust on ddw, with Sam on clean autocomplete and with yourself on the CERN data for reals. So that would mean 2 or 3 submissions to AAAI, which would be a pretty insane total. Add to that Koralp's work _and_ maybe a paper with Jannes. Then, no-one can argue that you deserve a PhD."
   ]
  },
  {
   "cell_type": "code",
   "execution_count": 43,
   "metadata": {},
   "outputs": [
    {
     "data": {
      "text/plain": [
       "True"
      ]
     },
     "execution_count": 43,
     "metadata": {},
     "output_type": "execute_result"
    }
   ],
   "source": [
    "\"cluster_label\" in df.columns"
   ]
  },
  {
   "cell_type": "code",
   "execution_count": 60,
   "metadata": {},
   "outputs": [],
   "source": [
    "def insert_switch_anomaly(\n",
    "    df, field=\"FGM\", n_clusters=10, rng=None, random_state=42, k=None, n_anomalies=10\n",
    "):\n",
    "\n",
    "    # Determine subpopulations and sensible swaps\n",
    "    if \"cluster_label\" not in df.columns:\n",
    "        df = add_cluster_column(df, n_clusters=n_clusters)\n",
    "\n",
    "    df_switch = find_an_interesting_switch(df, field=field)\n",
    "    switch = pick_interesting_switch(df_switch, rng=rng, random_state=random_state, k=k)\n",
    "\n",
    "    src_label, tgt_label = switch.combo\n",
    "\n",
    "    # Insert anomalies\n",
    "    ndf = df.copy()  # New DataFrame\n",
    "    amd = []  # All MetaData\n",
    "\n",
    "    for anomaly_idx in range(n_anomalies):\n",
    "        ndf, md = insert_contextual_anomaly(\n",
    "            ndf,\n",
    "            row=None,\n",
    "            col=field,\n",
    "            src_subpop_filter=lambda r: r.cluster_label == src_label,  # Source Cluster\n",
    "            tgt_subpop_filter=lambda r: r.cluster_label == tgt_label,  # Target Cluster\n",
    "            rng=rng,\n",
    "            random_state=random_state + anomaly_idx,\n",
    "            return_anomaly_metadata=True,\n",
    "            swap=False,\n",
    "        )\n",
    "\n",
    "        amd.append(md)\n",
    "\n",
    "    return ndf, amd"
   ]
  },
  {
   "cell_type": "code",
   "execution_count": 61,
   "metadata": {},
   "outputs": [],
   "source": [
    "df_05, amd = insert_switch_anomaly(\n",
    "    df, field=\"FGM\", n_clusters=10, rng=None, random_state=42, k=None, n_anomalies=10\n",
    ")"
   ]
  },
  {
   "cell_type": "code",
   "execution_count": 83,
   "metadata": {},
   "outputs": [
    {
     "data": {
      "text/plain": [
       "[{'iloc': (67, 4),\n",
       "  'loc': (67, 'FGM'),\n",
       "  'old': 0.6275449101796406,\n",
       "  'new': 0.14131736526946106},\n",
       " {'iloc': (882, 4),\n",
       "  'loc': (882, 'FGM'),\n",
       "  'old': 0.8239520958083832,\n",
       "  'new': 0.3856287425149701}]"
      ]
     },
     "execution_count": 83,
     "metadata": {},
     "output_type": "execute_result"
    }
   ],
   "source": [
    "amd[:2]"
   ]
  },
  {
   "cell_type": "code",
   "execution_count": 93,
   "metadata": {},
   "outputs": [],
   "source": [
    "def _get_rows_with_anoms(amd):\n",
    "    return [md[\"loc\"][0] for md in amd]\n",
    "\n",
    "\n",
    "def _get_cols_with_anoms(amd):\n",
    "    return [md[\"loc\"][1] for md in amd]\n",
    "\n",
    "\n",
    "def _get_clus_with_anoms(df):\n",
    "    return df[df.a_lbl == 1].cluster_label.unique().tolist()"
   ]
  },
  {
   "cell_type": "code",
   "execution_count": 109,
   "metadata": {},
   "outputs": [],
   "source": [
    "rows_with_anoms = _get_rows_with_anoms(amd)\n",
    "cols_with_anoms = _get_cols_with_anoms(amd)\n",
    "clus_with_anoms = _get_clus_with_anoms(df_05)\n",
    "\n",
    "\n",
    "cols_without_anoms = [c for c in df.columns if c not in cols_with_anoms + ['cluster_label', 'a_lbl']]\n",
    "\n",
    "dfs = []\n",
    "for field in cols_without_anoms:\n",
    "    s = find_an_interesting_switch(df_05, field=field, must_include=clus_with_anoms[0])\n",
    "\n",
    "    dfs.append(s)\n",
    "\n",
    "df_switch = pd.concat(dfs)\n",
    "df_switch.sort_values(by=\"delta\", ascending=False, inplace=True, ignore_index=True)"
   ]
  },
  {
   "cell_type": "code",
   "execution_count": 110,
   "metadata": {},
   "outputs": [
    {
     "data": {
      "text/html": [
       "<div>\n",
       "<style scoped>\n",
       "    .dataframe tbody tr th:only-of-type {\n",
       "        vertical-align: middle;\n",
       "    }\n",
       "\n",
       "    .dataframe tbody tr th {\n",
       "        vertical-align: top;\n",
       "    }\n",
       "\n",
       "    .dataframe thead th {\n",
       "        text-align: right;\n",
       "    }\n",
       "</style>\n",
       "<table border=\"1\" class=\"dataframe\">\n",
       "  <thead>\n",
       "    <tr style=\"text-align: right;\">\n",
       "      <th></th>\n",
       "      <th>delta</th>\n",
       "      <th>combo</th>\n",
       "      <th>field</th>\n",
       "    </tr>\n",
       "  </thead>\n",
       "  <tbody>\n",
       "    <tr>\n",
       "      <th>0</th>\n",
       "      <td>0.665838</td>\n",
       "      <td>(3, 9)</td>\n",
       "      <td>GS</td>\n",
       "    </tr>\n",
       "    <tr>\n",
       "      <th>1</th>\n",
       "      <td>0.570758</td>\n",
       "      <td>(3, 9)</td>\n",
       "      <td>MIN</td>\n",
       "    </tr>\n",
       "    <tr>\n",
       "      <th>2</th>\n",
       "      <td>0.506643</td>\n",
       "      <td>(3, 9)</td>\n",
       "      <td>GP</td>\n",
       "    </tr>\n",
       "    <tr>\n",
       "      <th>3</th>\n",
       "      <td>0.501873</td>\n",
       "      <td>(7, 9)</td>\n",
       "      <td>GS</td>\n",
       "    </tr>\n",
       "    <tr>\n",
       "      <th>4</th>\n",
       "      <td>0.478202</td>\n",
       "      <td>(3, 9)</td>\n",
       "      <td>FGA</td>\n",
       "    </tr>\n",
       "    <tr>\n",
       "      <th>...</th>\n",
       "      <td>...</td>\n",
       "      <td>...</td>\n",
       "      <td>...</td>\n",
       "    </tr>\n",
       "    <tr>\n",
       "      <th>79</th>\n",
       "      <td>0.024691</td>\n",
       "      <td>(0, 9)</td>\n",
       "      <td>GP</td>\n",
       "    </tr>\n",
       "    <tr>\n",
       "      <th>80</th>\n",
       "      <td>0.023428</td>\n",
       "      <td>(9, 2)</td>\n",
       "      <td>OREB</td>\n",
       "    </tr>\n",
       "    <tr>\n",
       "      <th>81</th>\n",
       "      <td>0.022341</td>\n",
       "      <td>(7, 9)</td>\n",
       "      <td>AST</td>\n",
       "    </tr>\n",
       "    <tr>\n",
       "      <th>82</th>\n",
       "      <td>0.015842</td>\n",
       "      <td>(0, 9)</td>\n",
       "      <td>FT_PCT</td>\n",
       "    </tr>\n",
       "    <tr>\n",
       "      <th>83</th>\n",
       "      <td>0.014404</td>\n",
       "      <td>(9, 8)</td>\n",
       "      <td>REB</td>\n",
       "    </tr>\n",
       "  </tbody>\n",
       "</table>\n",
       "<p>84 rows × 3 columns</p>\n",
       "</div>"
      ],
      "text/plain": [
       "       delta   combo   field\n",
       "0   0.665838  (3, 9)      GS\n",
       "1   0.570758  (3, 9)     MIN\n",
       "2   0.506643  (3, 9)      GP\n",
       "3   0.501873  (7, 9)      GS\n",
       "4   0.478202  (3, 9)     FGA\n",
       "..       ...     ...     ...\n",
       "79  0.024691  (0, 9)      GP\n",
       "80  0.023428  (9, 2)    OREB\n",
       "81  0.022341  (7, 9)     AST\n",
       "82  0.015842  (0, 9)  FT_PCT\n",
       "83  0.014404  (9, 8)     REB\n",
       "\n",
       "[84 rows x 3 columns]"
      ]
     },
     "execution_count": 110,
     "metadata": {},
     "output_type": "execute_result"
    }
   ],
   "source": [
    "df_switch"
   ]
  },
  {
   "cell_type": "code",
   "execution_count": 96,
   "metadata": {},
   "outputs": [
    {
     "data": {
      "text/plain": [
       "[9]"
      ]
     },
     "execution_count": 96,
     "metadata": {},
     "output_type": "execute_result"
    }
   ],
   "source": [
    "clus_with_anoms"
   ]
  },
  {
   "cell_type": "code",
   "execution_count": 100,
   "metadata": {},
   "outputs": [
    {
     "data": {
      "text/plain": [
       "['PLAYER_AGE',\n",
       " 'GP',\n",
       " 'GS',\n",
       " 'MIN',\n",
       " 'FGA',\n",
       " 'FG_PCT',\n",
       " 'FG3M',\n",
       " 'FG3A',\n",
       " 'FG3_PCT',\n",
       " 'FTM',\n",
       " 'FTA',\n",
       " 'FT_PCT',\n",
       " 'OREB',\n",
       " 'DREB',\n",
       " 'REB',\n",
       " 'AST',\n",
       " 'STL',\n",
       " 'BLK',\n",
       " 'TOV',\n",
       " 'PF',\n",
       " 'PTS']"
      ]
     },
     "execution_count": 100,
     "metadata": {},
     "output_type": "execute_result"
    }
   ],
   "source": [
    "cols_without_anoms = [c for c in df.columns if c not in cols_with_anoms + ['cluster_label', 'a_lbl']]\n",
    "cols_without_anoms"
   ]
  },
  {
   "cell_type": "code",
   "execution_count": 106,
   "metadata": {},
   "outputs": [],
   "source": []
  },
  {
   "cell_type": "code",
   "execution_count": 107,
   "metadata": {},
   "outputs": [
    {
     "data": {
      "text/html": [
       "<div>\n",
       "<style scoped>\n",
       "    .dataframe tbody tr th:only-of-type {\n",
       "        vertical-align: middle;\n",
       "    }\n",
       "\n",
       "    .dataframe tbody tr th {\n",
       "        vertical-align: top;\n",
       "    }\n",
       "\n",
       "    .dataframe thead th {\n",
       "        text-align: right;\n",
       "    }\n",
       "</style>\n",
       "<table border=\"1\" class=\"dataframe\">\n",
       "  <thead>\n",
       "    <tr style=\"text-align: right;\">\n",
       "      <th></th>\n",
       "      <th>delta</th>\n",
       "      <th>combo</th>\n",
       "      <th>field</th>\n",
       "    </tr>\n",
       "  </thead>\n",
       "  <tbody>\n",
       "    <tr>\n",
       "      <th>0</th>\n",
       "      <td>0.506643</td>\n",
       "      <td>(3, 9)</td>\n",
       "      <td>GP</td>\n",
       "    </tr>\n",
       "    <tr>\n",
       "      <th>1</th>\n",
       "      <td>0.133475</td>\n",
       "      <td>(5, 9)</td>\n",
       "      <td>GP</td>\n",
       "    </tr>\n",
       "    <tr>\n",
       "      <th>2</th>\n",
       "      <td>0.077789</td>\n",
       "      <td>(4, 9)</td>\n",
       "      <td>GP</td>\n",
       "    </tr>\n",
       "    <tr>\n",
       "      <th>3</th>\n",
       "      <td>0.024691</td>\n",
       "      <td>(0, 9)</td>\n",
       "      <td>GP</td>\n",
       "    </tr>\n",
       "    <tr>\n",
       "      <th>0</th>\n",
       "      <td>0.665838</td>\n",
       "      <td>(3, 9)</td>\n",
       "      <td>GS</td>\n",
       "    </tr>\n",
       "    <tr>\n",
       "      <th>...</th>\n",
       "      <td>...</td>\n",
       "      <td>...</td>\n",
       "      <td>...</td>\n",
       "    </tr>\n",
       "    <tr>\n",
       "      <th>4</th>\n",
       "      <td>0.234392</td>\n",
       "      <td>(2, 9)</td>\n",
       "      <td>PTS</td>\n",
       "    </tr>\n",
       "    <tr>\n",
       "      <th>5</th>\n",
       "      <td>0.232965</td>\n",
       "      <td>(4, 9)</td>\n",
       "      <td>PTS</td>\n",
       "    </tr>\n",
       "    <tr>\n",
       "      <th>6</th>\n",
       "      <td>0.154858</td>\n",
       "      <td>(6, 9)</td>\n",
       "      <td>PTS</td>\n",
       "    </tr>\n",
       "    <tr>\n",
       "      <th>7</th>\n",
       "      <td>0.046864</td>\n",
       "      <td>(1, 9)</td>\n",
       "      <td>PTS</td>\n",
       "    </tr>\n",
       "    <tr>\n",
       "      <th>8</th>\n",
       "      <td>0.039643</td>\n",
       "      <td>(8, 9)</td>\n",
       "      <td>PTS</td>\n",
       "    </tr>\n",
       "  </tbody>\n",
       "</table>\n",
       "<p>84 rows × 3 columns</p>\n",
       "</div>"
      ],
      "text/plain": [
       "       delta   combo field\n",
       "0   0.506643  (3, 9)    GP\n",
       "1   0.133475  (5, 9)    GP\n",
       "2   0.077789  (4, 9)    GP\n",
       "3   0.024691  (0, 9)    GP\n",
       "0   0.665838  (3, 9)    GS\n",
       "..       ...     ...   ...\n",
       "4   0.234392  (2, 9)   PTS\n",
       "5   0.232965  (4, 9)   PTS\n",
       "6   0.154858  (6, 9)   PTS\n",
       "7   0.046864  (1, 9)   PTS\n",
       "8   0.039643  (8, 9)   PTS\n",
       "\n",
       "[84 rows x 3 columns]"
      ]
     },
     "execution_count": 107,
     "metadata": {},
     "output_type": "execute_result"
    }
   ],
   "source": [
    "df_switch"
   ]
  },
  {
   "cell_type": "code",
   "execution_count": 103,
   "metadata": {},
   "outputs": [
    {
     "data": {
      "text/plain": [
       "[Empty DataFrame\n",
       " Columns: [delta, combo, field]\n",
       " Index: [],\n",
       " Empty DataFrame\n",
       " Columns: [delta, combo, field]\n",
       " Index: [],\n",
       " Empty DataFrame\n",
       " Columns: [delta, combo, field]\n",
       " Index: [],\n",
       " Empty DataFrame\n",
       " Columns: [delta, combo, field]\n",
       " Index: [],\n",
       " Empty DataFrame\n",
       " Columns: [delta, combo, field]\n",
       " Index: [],\n",
       " Empty DataFrame\n",
       " Columns: [delta, combo, field]\n",
       " Index: [],\n",
       " Empty DataFrame\n",
       " Columns: [delta, combo, field]\n",
       " Index: [],\n",
       " Empty DataFrame\n",
       " Columns: [delta, combo, field]\n",
       " Index: [],\n",
       " Empty DataFrame\n",
       " Columns: [delta, combo, field]\n",
       " Index: [],\n",
       " Empty DataFrame\n",
       " Columns: [delta, combo, field]\n",
       " Index: [],\n",
       " Empty DataFrame\n",
       " Columns: [delta, combo, field]\n",
       " Index: [],\n",
       " Empty DataFrame\n",
       " Columns: [delta, combo, field]\n",
       " Index: [],\n",
       " Empty DataFrame\n",
       " Columns: [delta, combo, field]\n",
       " Index: [],\n",
       " Empty DataFrame\n",
       " Columns: [delta, combo, field]\n",
       " Index: [],\n",
       " Empty DataFrame\n",
       " Columns: [delta, combo, field]\n",
       " Index: [],\n",
       " Empty DataFrame\n",
       " Columns: [delta, combo, field]\n",
       " Index: [],\n",
       " Empty DataFrame\n",
       " Columns: [delta, combo, field]\n",
       " Index: [],\n",
       " Empty DataFrame\n",
       " Columns: [delta, combo, field]\n",
       " Index: [],\n",
       " Empty DataFrame\n",
       " Columns: [delta, combo, field]\n",
       " Index: [],\n",
       " Empty DataFrame\n",
       " Columns: [delta, combo, field]\n",
       " Index: [],\n",
       " Empty DataFrame\n",
       " Columns: [delta, combo, field]\n",
       " Index: []]"
      ]
     },
     "execution_count": 103,
     "metadata": {},
     "output_type": "execute_result"
    }
   ],
   "source": [
    "dfs"
   ]
  },
  {
   "cell_type": "code",
   "execution_count": 91,
   "metadata": {},
   "outputs": [],
   "source": []
  },
  {
   "cell_type": "code",
   "execution_count": 90,
   "metadata": {},
   "outputs": [
    {
     "data": {
      "text/plain": [
       "[9]"
      ]
     },
     "execution_count": 90,
     "metadata": {},
     "output_type": "execute_result"
    }
   ],
   "source": [
    "df_05[df_05.a_lbl == 1].cluster_label.unique().tolist()"
   ]
  },
  {
   "cell_type": "code",
   "execution_count": 69,
   "metadata": {},
   "outputs": [
    {
     "data": {
      "text/plain": [
       "[67, 882, 1002, 1682, 881, 86, 183, 19, 1356, 481]"
      ]
     },
     "execution_count": 69,
     "metadata": {},
     "output_type": "execute_result"
    }
   ],
   "source": [
    "rows_with_anoms"
   ]
  },
  {
   "cell_type": "code",
   "execution_count": null,
   "metadata": {},
   "outputs": [],
   "source": [
    "for md in amd:\n",
    "    md.loc[0]"
   ]
  }
 ],
 "metadata": {
  "kernelspec": {
   "display_name": "nba-anomaly-generator",
   "language": "python",
   "name": "nba-anomaly-generator"
  },
  "language_info": {
   "codemirror_mode": {
    "name": "ipython",
    "version": 3
   },
   "file_extension": ".py",
   "mimetype": "text/x-python",
   "name": "python",
   "nbconvert_exporter": "python",
   "pygments_lexer": "ipython3",
   "version": "3.8.3"
  },
  "toc-autonumbering": true
 },
 "nbformat": 4,
 "nbformat_minor": 4
}
