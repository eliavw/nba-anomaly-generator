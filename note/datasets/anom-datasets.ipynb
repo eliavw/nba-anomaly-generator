{
 "cells": [
  {
   "cell_type": "markdown",
   "metadata": {},
   "source": [
    "# Anomaly Toy Datasets\n",
    "\n",
    "Generating toy datasets for ADMERCS with very particular anomalies."
   ]
  },
  {
   "cell_type": "markdown",
   "metadata": {},
   "source": [
    "# Preliminaries"
   ]
  },
  {
   "cell_type": "code",
   "execution_count": 1,
   "metadata": {
    "collapsed": true,
    "jupyter": {
     "outputs_hidden": true
    }
   },
   "outputs": [],
   "source": [
    "# Black Codeformatter\n",
    "%load_ext lab_black"
   ]
  },
  {
   "cell_type": "markdown",
   "metadata": {
    "collapsed": "false"
   },
   "source": [
    "## Imports"
   ]
  },
  {
   "cell_type": "code",
   "execution_count": 2,
   "metadata": {
    "collapsed": true,
    "jupyter": {
     "outputs_hidden": true
    }
   },
   "outputs": [],
   "source": [
    "import numpy as np\n",
    "import pandas as pd\n",
    "import os\n",
    "\n",
    "from time import sleep\n",
    "from pathlib import Path\n",
    "\n",
    "# Custom imports\n",
    "from nba_api.stats.static import players, teams\n",
    "\n",
    "from nba_anomaly_generator.data import (\n",
    "    get_team_roster_dataframe,\n",
    "    get_plyr_stats_dataframe,\n",
    ")"
   ]
  },
  {
   "cell_type": "code",
   "execution_count": 3,
   "metadata": {},
   "outputs": [],
   "source": [
    "pd.set_option(\"display.max_columns\", None)"
   ]
  },
  {
   "cell_type": "markdown",
   "metadata": {},
   "source": [
    "## Constants"
   ]
  },
  {
   "cell_type": "code",
   "execution_count": 4,
   "metadata": {},
   "outputs": [],
   "source": [
    "DATA_DIR = Path().resolve().parent.parent / \"data\"\n",
    "\n",
    "PLYR_DIR = DATA_DIR / \"players\"\n",
    "TEAM_DIR = DATA_DIR / \"rosters\""
   ]
  },
  {
   "cell_type": "code",
   "execution_count": 5,
   "metadata": {},
   "outputs": [],
   "source": [
    "RANDOM_SEED = 42\n",
    "ANOMALY_FRACTION = 5\n",
    "\n",
    "VERSION = 0\n",
    "NORMALIZE = 1"
   ]
  },
  {
   "cell_type": "markdown",
   "metadata": {},
   "source": [
    "# Data"
   ]
  },
  {
   "cell_type": "markdown",
   "metadata": {},
   "source": [
    "## Collection"
   ]
  },
  {
   "cell_type": "code",
   "execution_count": 6,
   "metadata": {},
   "outputs": [],
   "source": [
    "dfs = []\n",
    "for idx, fn in enumerate(PLYR_DIR.glob(\"*.csv\")):\n",
    "    df = pd.read_csv(fn, index_col=0)\n",
    "    dfs.append(df)\n",
    "\n",
    "df = pd.concat(dfs)\n",
    "\n",
    "df.reset_index(drop=True, inplace=True)"
   ]
  },
  {
   "cell_type": "code",
   "execution_count": 7,
   "metadata": {},
   "outputs": [
    {
     "data": {
      "text/html": [
       "<div>\n",
       "<style scoped>\n",
       "    .dataframe tbody tr th:only-of-type {\n",
       "        vertical-align: middle;\n",
       "    }\n",
       "\n",
       "    .dataframe tbody tr th {\n",
       "        vertical-align: top;\n",
       "    }\n",
       "\n",
       "    .dataframe thead th {\n",
       "        text-align: right;\n",
       "    }\n",
       "</style>\n",
       "<table border=\"1\" class=\"dataframe\">\n",
       "  <thead>\n",
       "    <tr style=\"text-align: right;\">\n",
       "      <th></th>\n",
       "      <th>PLAYER_ID</th>\n",
       "      <th>SEASON_ID</th>\n",
       "      <th>LEAGUE_ID</th>\n",
       "      <th>TEAM_ID</th>\n",
       "      <th>TEAM_ABBREVIATION</th>\n",
       "      <th>PLAYER_AGE</th>\n",
       "      <th>GP</th>\n",
       "      <th>GS</th>\n",
       "      <th>MIN</th>\n",
       "      <th>FGM</th>\n",
       "      <th>FGA</th>\n",
       "      <th>FG_PCT</th>\n",
       "      <th>FG3M</th>\n",
       "      <th>FG3A</th>\n",
       "      <th>FG3_PCT</th>\n",
       "      <th>FTM</th>\n",
       "      <th>FTA</th>\n",
       "      <th>FT_PCT</th>\n",
       "      <th>OREB</th>\n",
       "      <th>DREB</th>\n",
       "      <th>REB</th>\n",
       "      <th>AST</th>\n",
       "      <th>STL</th>\n",
       "      <th>BLK</th>\n",
       "      <th>TOV</th>\n",
       "      <th>PF</th>\n",
       "      <th>PTS</th>\n",
       "    </tr>\n",
       "  </thead>\n",
       "  <tbody>\n",
       "    <tr>\n",
       "      <th>0</th>\n",
       "      <td>1626170</td>\n",
       "      <td>2015-16</td>\n",
       "      <td>0</td>\n",
       "      <td>1610612752</td>\n",
       "      <td>NYK</td>\n",
       "      <td>23.0</td>\n",
       "      <td>76</td>\n",
       "      <td>6.0</td>\n",
       "      <td>1265.0</td>\n",
       "      <td>154</td>\n",
       "      <td>391</td>\n",
       "      <td>0.394</td>\n",
       "      <td>22.0</td>\n",
       "      <td>100.0</td>\n",
       "      <td>0.220</td>\n",
       "      <td>96</td>\n",
       "      <td>123</td>\n",
       "      <td>0.780</td>\n",
       "      <td>23.0</td>\n",
       "      <td>120.0</td>\n",
       "      <td>143.0</td>\n",
       "      <td>177</td>\n",
       "      <td>50.0</td>\n",
       "      <td>10.0</td>\n",
       "      <td>87.0</td>\n",
       "      <td>97</td>\n",
       "      <td>426</td>\n",
       "    </tr>\n",
       "    <tr>\n",
       "      <th>1</th>\n",
       "      <td>1626170</td>\n",
       "      <td>2016-17</td>\n",
       "      <td>0</td>\n",
       "      <td>1610612741</td>\n",
       "      <td>CHI</td>\n",
       "      <td>24.0</td>\n",
       "      <td>63</td>\n",
       "      <td>28.0</td>\n",
       "      <td>1028.0</td>\n",
       "      <td>128</td>\n",
       "      <td>301</td>\n",
       "      <td>0.425</td>\n",
       "      <td>49.0</td>\n",
       "      <td>134.0</td>\n",
       "      <td>0.366</td>\n",
       "      <td>65</td>\n",
       "      <td>73</td>\n",
       "      <td>0.890</td>\n",
       "      <td>17.0</td>\n",
       "      <td>94.0</td>\n",
       "      <td>111.0</td>\n",
       "      <td>121</td>\n",
       "      <td>47.0</td>\n",
       "      <td>8.0</td>\n",
       "      <td>44.0</td>\n",
       "      <td>93</td>\n",
       "      <td>370</td>\n",
       "    </tr>\n",
       "    <tr>\n",
       "      <th>2</th>\n",
       "      <td>1626170</td>\n",
       "      <td>2017-18</td>\n",
       "      <td>0</td>\n",
       "      <td>1610612741</td>\n",
       "      <td>CHI</td>\n",
       "      <td>25.0</td>\n",
       "      <td>74</td>\n",
       "      <td>26.0</td>\n",
       "      <td>1686.0</td>\n",
       "      <td>209</td>\n",
       "      <td>503</td>\n",
       "      <td>0.416</td>\n",
       "      <td>61.0</td>\n",
       "      <td>187.0</td>\n",
       "      <td>0.326</td>\n",
       "      <td>140</td>\n",
       "      <td>188</td>\n",
       "      <td>0.745</td>\n",
       "      <td>31.0</td>\n",
       "      <td>140.0</td>\n",
       "      <td>171.0</td>\n",
       "      <td>342</td>\n",
       "      <td>63.0</td>\n",
       "      <td>8.0</td>\n",
       "      <td>89.0</td>\n",
       "      <td>132</td>\n",
       "      <td>619</td>\n",
       "    </tr>\n",
       "    <tr>\n",
       "      <th>3</th>\n",
       "      <td>1626170</td>\n",
       "      <td>2018-19</td>\n",
       "      <td>0</td>\n",
       "      <td>1610612753</td>\n",
       "      <td>ORL</td>\n",
       "      <td>26.0</td>\n",
       "      <td>60</td>\n",
       "      <td>1.0</td>\n",
       "      <td>939.0</td>\n",
       "      <td>92</td>\n",
       "      <td>220</td>\n",
       "      <td>0.418</td>\n",
       "      <td>40.0</td>\n",
       "      <td>110.0</td>\n",
       "      <td>0.364</td>\n",
       "      <td>26</td>\n",
       "      <td>40</td>\n",
       "      <td>0.650</td>\n",
       "      <td>19.0</td>\n",
       "      <td>79.0</td>\n",
       "      <td>98.0</td>\n",
       "      <td>156</td>\n",
       "      <td>44.0</td>\n",
       "      <td>6.0</td>\n",
       "      <td>51.0</td>\n",
       "      <td>78</td>\n",
       "      <td>250</td>\n",
       "    </tr>\n",
       "    <tr>\n",
       "      <th>4</th>\n",
       "      <td>202371</td>\n",
       "      <td>2010-11</td>\n",
       "      <td>0</td>\n",
       "      <td>1610612756</td>\n",
       "      <td>PHX</td>\n",
       "      <td>22.0</td>\n",
       "      <td>1</td>\n",
       "      <td>0.0</td>\n",
       "      <td>2.0</td>\n",
       "      <td>0</td>\n",
       "      <td>0</td>\n",
       "      <td>0.000</td>\n",
       "      <td>0.0</td>\n",
       "      <td>0.0</td>\n",
       "      <td>0.000</td>\n",
       "      <td>0</td>\n",
       "      <td>0</td>\n",
       "      <td>0.000</td>\n",
       "      <td>0.0</td>\n",
       "      <td>0.0</td>\n",
       "      <td>0.0</td>\n",
       "      <td>0</td>\n",
       "      <td>0.0</td>\n",
       "      <td>0.0</td>\n",
       "      <td>0.0</td>\n",
       "      <td>1</td>\n",
       "      <td>0</td>\n",
       "    </tr>\n",
       "  </tbody>\n",
       "</table>\n",
       "</div>"
      ],
      "text/plain": [
       "  PLAYER_ID SEASON_ID LEAGUE_ID     TEAM_ID TEAM_ABBREVIATION  PLAYER_AGE  GP  \\\n",
       "0   1626170   2015-16         0  1610612752               NYK        23.0  76   \n",
       "1   1626170   2016-17         0  1610612741               CHI        24.0  63   \n",
       "2   1626170   2017-18         0  1610612741               CHI        25.0  74   \n",
       "3   1626170   2018-19         0  1610612753               ORL        26.0  60   \n",
       "4    202371   2010-11         0  1610612756               PHX        22.0   1   \n",
       "\n",
       "     GS     MIN  FGM  FGA  FG_PCT  FG3M   FG3A  FG3_PCT  FTM  FTA  FT_PCT  \\\n",
       "0   6.0  1265.0  154  391   0.394  22.0  100.0    0.220   96  123   0.780   \n",
       "1  28.0  1028.0  128  301   0.425  49.0  134.0    0.366   65   73   0.890   \n",
       "2  26.0  1686.0  209  503   0.416  61.0  187.0    0.326  140  188   0.745   \n",
       "3   1.0   939.0   92  220   0.418  40.0  110.0    0.364   26   40   0.650   \n",
       "4   0.0     2.0    0    0   0.000   0.0    0.0    0.000    0    0   0.000   \n",
       "\n",
       "   OREB   DREB    REB  AST   STL   BLK   TOV   PF  PTS  \n",
       "0  23.0  120.0  143.0  177  50.0  10.0  87.0   97  426  \n",
       "1  17.0   94.0  111.0  121  47.0   8.0  44.0   93  370  \n",
       "2  31.0  140.0  171.0  342  63.0   8.0  89.0  132  619  \n",
       "3  19.0   79.0   98.0  156  44.0   6.0  51.0   78  250  \n",
       "4   0.0    0.0    0.0    0   0.0   0.0   0.0    1    0  "
      ]
     },
     "execution_count": 7,
     "metadata": {},
     "output_type": "execute_result"
    }
   ],
   "source": [
    "df.head()"
   ]
  },
  {
   "cell_type": "markdown",
   "metadata": {},
   "source": [
    "## Types and Nones"
   ]
  },
  {
   "cell_type": "code",
   "execution_count": 8,
   "metadata": {},
   "outputs": [
    {
     "data": {
      "text/plain": [
       "Index(['PLAYER_ID', 'SEASON_ID', 'LEAGUE_ID', 'TEAM_ID', 'TEAM_ABBREVIATION',\n",
       "       'PLAYER_AGE', 'GP', 'GS', 'MIN', 'FGM', 'FGA', 'FG_PCT', 'FG3M', 'FG3A',\n",
       "       'FG3_PCT', 'FTM', 'FTA', 'FT_PCT', 'OREB', 'DREB', 'REB', 'AST', 'STL',\n",
       "       'BLK', 'TOV', 'PF', 'PTS'],\n",
       "      dtype='object')"
      ]
     },
     "execution_count": 8,
     "metadata": {},
     "output_type": "execute_result"
    }
   ],
   "source": [
    "df.columns"
   ]
  },
  {
   "cell_type": "code",
   "execution_count": 9,
   "metadata": {},
   "outputs": [],
   "source": [
    "nominal_attributes = [\n",
    "    \"PLAYER_ID\",\n",
    "    \"SEASON_ID\",\n",
    "    \"TEAM_ID\",\n",
    "    \"TEAM_ABBREVIATION\",\n",
    "]\n",
    "\n",
    "numeric_attributes = [\n",
    "    \"PLAYER_AGE\",\n",
    "    \"GP\",\n",
    "    \"GS\",\n",
    "    \"MIN\",\n",
    "    \"FGM\",\n",
    "    \"FGA\",\n",
    "    \"FG_PCT\",\n",
    "    \"FG3M\",\n",
    "    \"FG3A\",\n",
    "    \"FG3_PCT\",\n",
    "    \"FTM\",\n",
    "    \"FTA\",\n",
    "    \"FT_PCT\",\n",
    "    \"OREB\",\n",
    "    \"DREB\",\n",
    "    \"REB\",\n",
    "    \"AST\",\n",
    "    \"STL\",\n",
    "    \"BLK\",\n",
    "    \"TOV\",\n",
    "    \"PF\",\n",
    "    \"PTS\",\n",
    "]"
   ]
  },
  {
   "cell_type": "code",
   "execution_count": 10,
   "metadata": {},
   "outputs": [],
   "source": [
    "df = df[nominal_attributes + numeric_attributes]\n",
    "\n",
    "for attribute in nominal_attributes:\n",
    "    df[attribute] = df[attribute].astype(\"category\")\n",
    "\n",
    "for attribute in numeric_attributes:\n",
    "    df[attribute] = df[attribute].astype(float)\n",
    "    df[attribute] = df[attribute].fillna(0)"
   ]
  },
  {
   "cell_type": "code",
   "execution_count": 11,
   "metadata": {},
   "outputs": [
    {
     "data": {
      "text/plain": [
       "(PLAYER_ID            category\n",
       " SEASON_ID            category\n",
       " TEAM_ID              category\n",
       " TEAM_ABBREVIATION    category\n",
       " PLAYER_AGE            float64\n",
       " GP                    float64\n",
       " GS                    float64\n",
       " MIN                   float64\n",
       " FGM                   float64\n",
       " FGA                   float64\n",
       " FG_PCT                float64\n",
       " FG3M                  float64\n",
       " FG3A                  float64\n",
       " FG3_PCT               float64\n",
       " FTM                   float64\n",
       " FTA                   float64\n",
       " FT_PCT                float64\n",
       " OREB                  float64\n",
       " DREB                  float64\n",
       " REB                   float64\n",
       " AST                   float64\n",
       " STL                   float64\n",
       " BLK                   float64\n",
       " TOV                   float64\n",
       " PF                    float64\n",
       " PTS                   float64\n",
       " dtype: object,\n",
       " (26951, 26))"
      ]
     },
     "execution_count": 11,
     "metadata": {},
     "output_type": "execute_result"
    }
   ],
   "source": [
    "df.dtypes, df.shape"
   ]
  },
  {
   "cell_type": "markdown",
   "metadata": {},
   "source": [
    "## Add Columns"
   ]
  },
  {
   "cell_type": "markdown",
   "metadata": {},
   "source": [
    "### Season Column"
   ]
  },
  {
   "cell_type": "code",
   "execution_count": 12,
   "metadata": {},
   "outputs": [],
   "source": [
    "def _season_id_to_season(season_id):\n",
    "    return float(season_id.split(\"-\")[0])"
   ]
  },
  {
   "cell_type": "code",
   "execution_count": 13,
   "metadata": {},
   "outputs": [],
   "source": [
    "df[\"SEASON\"] = df.apply(lambda r: _season_id_to_season(r.SEASON_ID), axis=1)"
   ]
  },
  {
   "cell_type": "code",
   "execution_count": 14,
   "metadata": {},
   "outputs": [
    {
     "data": {
      "text/html": [
       "<div>\n",
       "<style scoped>\n",
       "    .dataframe tbody tr th:only-of-type {\n",
       "        vertical-align: middle;\n",
       "    }\n",
       "\n",
       "    .dataframe tbody tr th {\n",
       "        vertical-align: top;\n",
       "    }\n",
       "\n",
       "    .dataframe thead th {\n",
       "        text-align: right;\n",
       "    }\n",
       "</style>\n",
       "<table border=\"1\" class=\"dataframe\">\n",
       "  <thead>\n",
       "    <tr style=\"text-align: right;\">\n",
       "      <th></th>\n",
       "      <th>PLAYER_ID</th>\n",
       "      <th>SEASON_ID</th>\n",
       "      <th>TEAM_ID</th>\n",
       "      <th>TEAM_ABBREVIATION</th>\n",
       "      <th>PLAYER_AGE</th>\n",
       "      <th>GP</th>\n",
       "      <th>GS</th>\n",
       "      <th>MIN</th>\n",
       "      <th>FGM</th>\n",
       "      <th>FGA</th>\n",
       "      <th>FG_PCT</th>\n",
       "      <th>FG3M</th>\n",
       "      <th>FG3A</th>\n",
       "      <th>FG3_PCT</th>\n",
       "      <th>FTM</th>\n",
       "      <th>FTA</th>\n",
       "      <th>FT_PCT</th>\n",
       "      <th>OREB</th>\n",
       "      <th>DREB</th>\n",
       "      <th>REB</th>\n",
       "      <th>AST</th>\n",
       "      <th>STL</th>\n",
       "      <th>BLK</th>\n",
       "      <th>TOV</th>\n",
       "      <th>PF</th>\n",
       "      <th>PTS</th>\n",
       "      <th>SEASON</th>\n",
       "    </tr>\n",
       "  </thead>\n",
       "  <tbody>\n",
       "    <tr>\n",
       "      <th>0</th>\n",
       "      <td>1626170</td>\n",
       "      <td>2015-16</td>\n",
       "      <td>1610612752</td>\n",
       "      <td>NYK</td>\n",
       "      <td>23.0</td>\n",
       "      <td>76.0</td>\n",
       "      <td>6.0</td>\n",
       "      <td>1265.0</td>\n",
       "      <td>154.0</td>\n",
       "      <td>391.0</td>\n",
       "      <td>0.394</td>\n",
       "      <td>22.0</td>\n",
       "      <td>100.0</td>\n",
       "      <td>0.220</td>\n",
       "      <td>96.0</td>\n",
       "      <td>123.0</td>\n",
       "      <td>0.780</td>\n",
       "      <td>23.0</td>\n",
       "      <td>120.0</td>\n",
       "      <td>143.0</td>\n",
       "      <td>177.0</td>\n",
       "      <td>50.0</td>\n",
       "      <td>10.0</td>\n",
       "      <td>87.0</td>\n",
       "      <td>97.0</td>\n",
       "      <td>426.0</td>\n",
       "      <td>2015.0</td>\n",
       "    </tr>\n",
       "    <tr>\n",
       "      <th>1</th>\n",
       "      <td>1626170</td>\n",
       "      <td>2016-17</td>\n",
       "      <td>1610612741</td>\n",
       "      <td>CHI</td>\n",
       "      <td>24.0</td>\n",
       "      <td>63.0</td>\n",
       "      <td>28.0</td>\n",
       "      <td>1028.0</td>\n",
       "      <td>128.0</td>\n",
       "      <td>301.0</td>\n",
       "      <td>0.425</td>\n",
       "      <td>49.0</td>\n",
       "      <td>134.0</td>\n",
       "      <td>0.366</td>\n",
       "      <td>65.0</td>\n",
       "      <td>73.0</td>\n",
       "      <td>0.890</td>\n",
       "      <td>17.0</td>\n",
       "      <td>94.0</td>\n",
       "      <td>111.0</td>\n",
       "      <td>121.0</td>\n",
       "      <td>47.0</td>\n",
       "      <td>8.0</td>\n",
       "      <td>44.0</td>\n",
       "      <td>93.0</td>\n",
       "      <td>370.0</td>\n",
       "      <td>2016.0</td>\n",
       "    </tr>\n",
       "    <tr>\n",
       "      <th>2</th>\n",
       "      <td>1626170</td>\n",
       "      <td>2017-18</td>\n",
       "      <td>1610612741</td>\n",
       "      <td>CHI</td>\n",
       "      <td>25.0</td>\n",
       "      <td>74.0</td>\n",
       "      <td>26.0</td>\n",
       "      <td>1686.0</td>\n",
       "      <td>209.0</td>\n",
       "      <td>503.0</td>\n",
       "      <td>0.416</td>\n",
       "      <td>61.0</td>\n",
       "      <td>187.0</td>\n",
       "      <td>0.326</td>\n",
       "      <td>140.0</td>\n",
       "      <td>188.0</td>\n",
       "      <td>0.745</td>\n",
       "      <td>31.0</td>\n",
       "      <td>140.0</td>\n",
       "      <td>171.0</td>\n",
       "      <td>342.0</td>\n",
       "      <td>63.0</td>\n",
       "      <td>8.0</td>\n",
       "      <td>89.0</td>\n",
       "      <td>132.0</td>\n",
       "      <td>619.0</td>\n",
       "      <td>2017.0</td>\n",
       "    </tr>\n",
       "    <tr>\n",
       "      <th>3</th>\n",
       "      <td>1626170</td>\n",
       "      <td>2018-19</td>\n",
       "      <td>1610612753</td>\n",
       "      <td>ORL</td>\n",
       "      <td>26.0</td>\n",
       "      <td>60.0</td>\n",
       "      <td>1.0</td>\n",
       "      <td>939.0</td>\n",
       "      <td>92.0</td>\n",
       "      <td>220.0</td>\n",
       "      <td>0.418</td>\n",
       "      <td>40.0</td>\n",
       "      <td>110.0</td>\n",
       "      <td>0.364</td>\n",
       "      <td>26.0</td>\n",
       "      <td>40.0</td>\n",
       "      <td>0.650</td>\n",
       "      <td>19.0</td>\n",
       "      <td>79.0</td>\n",
       "      <td>98.0</td>\n",
       "      <td>156.0</td>\n",
       "      <td>44.0</td>\n",
       "      <td>6.0</td>\n",
       "      <td>51.0</td>\n",
       "      <td>78.0</td>\n",
       "      <td>250.0</td>\n",
       "      <td>2018.0</td>\n",
       "    </tr>\n",
       "    <tr>\n",
       "      <th>4</th>\n",
       "      <td>202371</td>\n",
       "      <td>2010-11</td>\n",
       "      <td>1610612756</td>\n",
       "      <td>PHX</td>\n",
       "      <td>22.0</td>\n",
       "      <td>1.0</td>\n",
       "      <td>0.0</td>\n",
       "      <td>2.0</td>\n",
       "      <td>0.0</td>\n",
       "      <td>0.0</td>\n",
       "      <td>0.000</td>\n",
       "      <td>0.0</td>\n",
       "      <td>0.0</td>\n",
       "      <td>0.000</td>\n",
       "      <td>0.0</td>\n",
       "      <td>0.0</td>\n",
       "      <td>0.000</td>\n",
       "      <td>0.0</td>\n",
       "      <td>0.0</td>\n",
       "      <td>0.0</td>\n",
       "      <td>0.0</td>\n",
       "      <td>0.0</td>\n",
       "      <td>0.0</td>\n",
       "      <td>0.0</td>\n",
       "      <td>1.0</td>\n",
       "      <td>0.0</td>\n",
       "      <td>2010.0</td>\n",
       "    </tr>\n",
       "  </tbody>\n",
       "</table>\n",
       "</div>"
      ],
      "text/plain": [
       "  PLAYER_ID SEASON_ID     TEAM_ID TEAM_ABBREVIATION  PLAYER_AGE    GP    GS  \\\n",
       "0   1626170   2015-16  1610612752               NYK        23.0  76.0   6.0   \n",
       "1   1626170   2016-17  1610612741               CHI        24.0  63.0  28.0   \n",
       "2   1626170   2017-18  1610612741               CHI        25.0  74.0  26.0   \n",
       "3   1626170   2018-19  1610612753               ORL        26.0  60.0   1.0   \n",
       "4    202371   2010-11  1610612756               PHX        22.0   1.0   0.0   \n",
       "\n",
       "      MIN    FGM    FGA  FG_PCT  FG3M   FG3A  FG3_PCT    FTM    FTA  FT_PCT  \\\n",
       "0  1265.0  154.0  391.0   0.394  22.0  100.0    0.220   96.0  123.0   0.780   \n",
       "1  1028.0  128.0  301.0   0.425  49.0  134.0    0.366   65.0   73.0   0.890   \n",
       "2  1686.0  209.0  503.0   0.416  61.0  187.0    0.326  140.0  188.0   0.745   \n",
       "3   939.0   92.0  220.0   0.418  40.0  110.0    0.364   26.0   40.0   0.650   \n",
       "4     2.0    0.0    0.0   0.000   0.0    0.0    0.000    0.0    0.0   0.000   \n",
       "\n",
       "   OREB   DREB    REB    AST   STL   BLK   TOV     PF    PTS  SEASON  \n",
       "0  23.0  120.0  143.0  177.0  50.0  10.0  87.0   97.0  426.0  2015.0  \n",
       "1  17.0   94.0  111.0  121.0  47.0   8.0  44.0   93.0  370.0  2016.0  \n",
       "2  31.0  140.0  171.0  342.0  63.0   8.0  89.0  132.0  619.0  2017.0  \n",
       "3  19.0   79.0   98.0  156.0  44.0   6.0  51.0   78.0  250.0  2018.0  \n",
       "4   0.0    0.0    0.0    0.0   0.0   0.0   0.0    1.0    0.0  2010.0  "
      ]
     },
     "execution_count": 14,
     "metadata": {},
     "output_type": "execute_result"
    }
   ],
   "source": [
    "df.head()"
   ]
  },
  {
   "cell_type": "markdown",
   "metadata": {},
   "source": [
    "## Filter Rows"
   ]
  },
  {
   "cell_type": "markdown",
   "metadata": {},
   "source": [
    "### Key Players\n",
    "\n",
    "Filtering on \"Games Played\" `GP` will help to get comparable data. Players that have none or very little play time will have deviant statistics by default and that is not really what we are interested in.\n",
    "\n",
    "So, a `GP` filter will be an easy way to get this fixed."
   ]
  },
  {
   "cell_type": "code",
   "execution_count": 15,
   "metadata": {},
   "outputs": [
    {
     "data": {
      "text/plain": [
       "(8166, 27)"
      ]
     },
     "execution_count": 15,
     "metadata": {},
     "output_type": "execute_result"
    }
   ],
   "source": [
    "mean_gs = np.mean(df.GS.values)\n",
    "\n",
    "df = df[df.GS > mean_gs]\n",
    "\n",
    "df.shape"
   ]
  },
  {
   "cell_type": "markdown",
   "metadata": {},
   "source": [
    "### Season Filter\n",
    "\n",
    "This is convenient for subsampling"
   ]
  },
  {
   "cell_type": "code",
   "execution_count": 16,
   "metadata": {},
   "outputs": [],
   "source": [
    "df = df[df.SEASON > 2010]"
   ]
  },
  {
   "cell_type": "code",
   "execution_count": 17,
   "metadata": {},
   "outputs": [
    {
     "data": {
      "text/plain": [
       "(2008, 27)"
      ]
     },
     "execution_count": 17,
     "metadata": {},
     "output_type": "execute_result"
    }
   ],
   "source": [
    "df.shape"
   ]
  },
  {
   "cell_type": "markdown",
   "metadata": {},
   "source": [
    " ### Filter - Age Issues\n",
    " \n",
    " Depending on what you do before you do not run into this, but just to be on the safe side here."
   ]
  },
  {
   "cell_type": "code",
   "execution_count": 18,
   "metadata": {},
   "outputs": [
    {
     "data": {
      "text/plain": [
       "41.0"
      ]
     },
     "execution_count": 18,
     "metadata": {},
     "output_type": "execute_result"
    }
   ],
   "source": [
    "df = df[df.PLAYER_AGE < 50]\n",
    "df.PLAYER_AGE.max()"
   ]
  },
  {
   "cell_type": "markdown",
   "metadata": {},
   "source": [
    "### Other Filters"
   ]
  },
  {
   "cell_type": "code",
   "execution_count": null,
   "metadata": {},
   "outputs": [],
   "source": []
  },
  {
   "cell_type": "markdown",
   "metadata": {},
   "source": [
    "## Filter Columns"
   ]
  },
  {
   "cell_type": "code",
   "execution_count": 19,
   "metadata": {},
   "outputs": [
    {
     "data": {
      "text/html": [
       "<div>\n",
       "<style scoped>\n",
       "    .dataframe tbody tr th:only-of-type {\n",
       "        vertical-align: middle;\n",
       "    }\n",
       "\n",
       "    .dataframe tbody tr th {\n",
       "        vertical-align: top;\n",
       "    }\n",
       "\n",
       "    .dataframe thead th {\n",
       "        text-align: right;\n",
       "    }\n",
       "</style>\n",
       "<table border=\"1\" class=\"dataframe\">\n",
       "  <thead>\n",
       "    <tr style=\"text-align: right;\">\n",
       "      <th></th>\n",
       "      <th>PLAYER_AGE</th>\n",
       "      <th>GP</th>\n",
       "      <th>GS</th>\n",
       "      <th>MIN</th>\n",
       "      <th>FGM</th>\n",
       "      <th>FGA</th>\n",
       "      <th>FG_PCT</th>\n",
       "      <th>FG3M</th>\n",
       "      <th>FG3A</th>\n",
       "      <th>FG3_PCT</th>\n",
       "      <th>FTM</th>\n",
       "      <th>FTA</th>\n",
       "      <th>FT_PCT</th>\n",
       "      <th>OREB</th>\n",
       "      <th>DREB</th>\n",
       "      <th>REB</th>\n",
       "      <th>AST</th>\n",
       "      <th>STL</th>\n",
       "      <th>BLK</th>\n",
       "      <th>TOV</th>\n",
       "      <th>PF</th>\n",
       "      <th>PTS</th>\n",
       "    </tr>\n",
       "  </thead>\n",
       "  <tbody>\n",
       "    <tr>\n",
       "      <th>1</th>\n",
       "      <td>24.0</td>\n",
       "      <td>63.0</td>\n",
       "      <td>28.0</td>\n",
       "      <td>1028.0</td>\n",
       "      <td>128.0</td>\n",
       "      <td>301.0</td>\n",
       "      <td>0.425</td>\n",
       "      <td>49.0</td>\n",
       "      <td>134.0</td>\n",
       "      <td>0.366</td>\n",
       "      <td>65.0</td>\n",
       "      <td>73.0</td>\n",
       "      <td>0.890</td>\n",
       "      <td>17.0</td>\n",
       "      <td>94.0</td>\n",
       "      <td>111.0</td>\n",
       "      <td>121.0</td>\n",
       "      <td>47.0</td>\n",
       "      <td>8.0</td>\n",
       "      <td>44.0</td>\n",
       "      <td>93.0</td>\n",
       "      <td>370.0</td>\n",
       "    </tr>\n",
       "    <tr>\n",
       "      <th>2</th>\n",
       "      <td>25.0</td>\n",
       "      <td>74.0</td>\n",
       "      <td>26.0</td>\n",
       "      <td>1686.0</td>\n",
       "      <td>209.0</td>\n",
       "      <td>503.0</td>\n",
       "      <td>0.416</td>\n",
       "      <td>61.0</td>\n",
       "      <td>187.0</td>\n",
       "      <td>0.326</td>\n",
       "      <td>140.0</td>\n",
       "      <td>188.0</td>\n",
       "      <td>0.745</td>\n",
       "      <td>31.0</td>\n",
       "      <td>140.0</td>\n",
       "      <td>171.0</td>\n",
       "      <td>342.0</td>\n",
       "      <td>63.0</td>\n",
       "      <td>8.0</td>\n",
       "      <td>89.0</td>\n",
       "      <td>132.0</td>\n",
       "      <td>619.0</td>\n",
       "    </tr>\n",
       "    <tr>\n",
       "      <th>93</th>\n",
       "      <td>32.0</td>\n",
       "      <td>46.0</td>\n",
       "      <td>32.0</td>\n",
       "      <td>1250.0</td>\n",
       "      <td>141.0</td>\n",
       "      <td>345.0</td>\n",
       "      <td>0.409</td>\n",
       "      <td>33.0</td>\n",
       "      <td>112.0</td>\n",
       "      <td>0.295</td>\n",
       "      <td>29.0</td>\n",
       "      <td>45.0</td>\n",
       "      <td>0.644</td>\n",
       "      <td>20.0</td>\n",
       "      <td>114.0</td>\n",
       "      <td>134.0</td>\n",
       "      <td>93.0</td>\n",
       "      <td>37.0</td>\n",
       "      <td>7.0</td>\n",
       "      <td>45.0</td>\n",
       "      <td>77.0</td>\n",
       "      <td>344.0</td>\n",
       "    </tr>\n",
       "    <tr>\n",
       "      <th>94</th>\n",
       "      <td>33.0</td>\n",
       "      <td>76.0</td>\n",
       "      <td>72.0</td>\n",
       "      <td>2278.0</td>\n",
       "      <td>244.0</td>\n",
       "      <td>612.0</td>\n",
       "      <td>0.399</td>\n",
       "      <td>99.0</td>\n",
       "      <td>267.0</td>\n",
       "      <td>0.371</td>\n",
       "      <td>85.0</td>\n",
       "      <td>110.0</td>\n",
       "      <td>0.773</td>\n",
       "      <td>33.0</td>\n",
       "      <td>174.0</td>\n",
       "      <td>207.0</td>\n",
       "      <td>226.0</td>\n",
       "      <td>51.0</td>\n",
       "      <td>25.0</td>\n",
       "      <td>85.0</td>\n",
       "      <td>143.0</td>\n",
       "      <td>672.0</td>\n",
       "    </tr>\n",
       "    <tr>\n",
       "      <th>133</th>\n",
       "      <td>24.0</td>\n",
       "      <td>52.0</td>\n",
       "      <td>43.0</td>\n",
       "      <td>1525.0</td>\n",
       "      <td>286.0</td>\n",
       "      <td>666.0</td>\n",
       "      <td>0.429</td>\n",
       "      <td>43.0</td>\n",
       "      <td>134.0</td>\n",
       "      <td>0.321</td>\n",
       "      <td>84.0</td>\n",
       "      <td>114.0</td>\n",
       "      <td>0.737</td>\n",
       "      <td>24.0</td>\n",
       "      <td>197.0</td>\n",
       "      <td>221.0</td>\n",
       "      <td>310.0</td>\n",
       "      <td>104.0</td>\n",
       "      <td>27.0</td>\n",
       "      <td>150.0</td>\n",
       "      <td>174.0</td>\n",
       "      <td>699.0</td>\n",
       "    </tr>\n",
       "  </tbody>\n",
       "</table>\n",
       "</div>"
      ],
      "text/plain": [
       "     PLAYER_AGE    GP    GS     MIN    FGM    FGA  FG_PCT  FG3M   FG3A  \\\n",
       "1          24.0  63.0  28.0  1028.0  128.0  301.0   0.425  49.0  134.0   \n",
       "2          25.0  74.0  26.0  1686.0  209.0  503.0   0.416  61.0  187.0   \n",
       "93         32.0  46.0  32.0  1250.0  141.0  345.0   0.409  33.0  112.0   \n",
       "94         33.0  76.0  72.0  2278.0  244.0  612.0   0.399  99.0  267.0   \n",
       "133        24.0  52.0  43.0  1525.0  286.0  666.0   0.429  43.0  134.0   \n",
       "\n",
       "     FG3_PCT    FTM    FTA  FT_PCT  OREB   DREB    REB    AST    STL   BLK  \\\n",
       "1      0.366   65.0   73.0   0.890  17.0   94.0  111.0  121.0   47.0   8.0   \n",
       "2      0.326  140.0  188.0   0.745  31.0  140.0  171.0  342.0   63.0   8.0   \n",
       "93     0.295   29.0   45.0   0.644  20.0  114.0  134.0   93.0   37.0   7.0   \n",
       "94     0.371   85.0  110.0   0.773  33.0  174.0  207.0  226.0   51.0  25.0   \n",
       "133    0.321   84.0  114.0   0.737  24.0  197.0  221.0  310.0  104.0  27.0   \n",
       "\n",
       "       TOV     PF    PTS  \n",
       "1     44.0   93.0  370.0  \n",
       "2     89.0  132.0  619.0  \n",
       "93    45.0   77.0  344.0  \n",
       "94    85.0  143.0  672.0  \n",
       "133  150.0  174.0  699.0  "
      ]
     },
     "execution_count": 19,
     "metadata": {},
     "output_type": "execute_result"
    }
   ],
   "source": [
    "df = df[numeric_attributes]\n",
    "df.head()"
   ]
  },
  {
   "cell_type": "markdown",
   "metadata": {},
   "source": [
    "## Normalize\n",
    "\n",
    "Normalization of the numerical columns. This will screw up some connections that are present in the data!"
   ]
  },
  {
   "cell_type": "code",
   "execution_count": 20,
   "metadata": {},
   "outputs": [],
   "source": [
    "from sklearn.preprocessing import LabelEncoder, StandardScaler, MinMaxScaler\n",
    "\n",
    "\n",
    "def normalize(df):\n",
    "    for c in df.columns:\n",
    "        if \"label\" not in c:\n",
    "            df[c] = MinMaxScaler().fit_transform(df[c].values.reshape(-1, 1))\n",
    "    return df"
   ]
  },
  {
   "cell_type": "code",
   "execution_count": null,
   "metadata": {},
   "outputs": [],
   "source": []
  },
  {
   "cell_type": "code",
   "execution_count": 21,
   "metadata": {},
   "outputs": [],
   "source": [
    "df.to_csv(\"clean.csv\")"
   ]
  },
  {
   "cell_type": "markdown",
   "metadata": {},
   "source": [
    "## Reindex DataFrame\n",
    "\n",
    "Never forget this step. Our index must really be consecutive for our anomaly-generation procedures."
   ]
  },
  {
   "cell_type": "code",
   "execution_count": 22,
   "metadata": {},
   "outputs": [],
   "source": [
    "df.reset_index(drop=True, inplace=True)"
   ]
  },
  {
   "cell_type": "code",
   "execution_count": null,
   "metadata": {},
   "outputs": [],
   "source": []
  },
  {
   "cell_type": "markdown",
   "metadata": {},
   "source": [
    "# Global Anomaly Parameters\n",
    "\n",
    "In the procedure executed below, some things are left constant."
   ]
  },
  {
   "cell_type": "code",
   "execution_count": 23,
   "metadata": {},
   "outputs": [],
   "source": [
    "from nba_anomaly_generator.data import load_lal\n",
    "\n",
    "from nba_anomaly_generator.anom import (\n",
    "    insert_dependency_anomaly,\n",
    "    insert_contextual_anomaly,\n",
    "    insert_swap_anomaly,\n",
    "    insert_transformation_anomaly,\n",
    "    ft_to_m,\n",
    "    lb_to_kg,\n",
    ")"
   ]
  },
  {
   "cell_type": "code",
   "execution_count": 24,
   "metadata": {},
   "outputs": [
    {
     "data": {
      "text/plain": [
       "(2008, 22)"
      ]
     },
     "execution_count": 24,
     "metadata": {},
     "output_type": "execute_result"
    }
   ],
   "source": [
    "df.shape"
   ]
  },
  {
   "cell_type": "code",
   "execution_count": 25,
   "metadata": {},
   "outputs": [],
   "source": [
    "NB_OF_ANOMALIES = int(df.shape[0] * ANOMALY_FRACTION * 0.01)"
   ]
  },
  {
   "cell_type": "markdown",
   "metadata": {},
   "source": [
    "# Anomalies of the First Kind: Point Anomaly\n",
    "\n",
    "**Procedure**: Introduce fake values by manually changing its value by means of a transformation.\n",
    "\n",
    "Here we would expect to see any anomaly detection system perform rather well."
   ]
  },
  {
   "cell_type": "code",
   "execution_count": null,
   "metadata": {},
   "outputs": [],
   "source": []
  },
  {
   "cell_type": "code",
   "execution_count": 26,
   "metadata": {},
   "outputs": [],
   "source": [
    "df_01 = df.copy()\n",
    "md_01 = []\n",
    "for anomaly_idx in range(NB_OF_ANOMALIES):\n",
    "    df_01, md = insert_transformation_anomaly(\n",
    "        df_01,\n",
    "        row=None,\n",
    "        col=\"PLAYER_AGE\",\n",
    "        transformation=lambda x: 10 * x,\n",
    "        rng=None,\n",
    "        random_state=RANDOM_SEED * anomaly_idx,\n",
    "        return_anomaly_metadata=True,\n",
    "    )\n",
    "    md_01.append(md)"
   ]
  },
  {
   "cell_type": "code",
   "execution_count": 27,
   "metadata": {},
   "outputs": [
    {
     "data": {
      "text/plain": [
       "390.0"
      ]
     },
     "execution_count": 27,
     "metadata": {},
     "output_type": "execute_result"
    }
   ],
   "source": [
    "df_01.PLAYER_AGE.max()"
   ]
  },
  {
   "cell_type": "code",
   "execution_count": 28,
   "metadata": {},
   "outputs": [
    {
     "data": {
      "text/plain": [
       "100"
      ]
     },
     "execution_count": 28,
     "metadata": {},
     "output_type": "execute_result"
    }
   ],
   "source": [
    "np.sum(df_01.a_lbl)"
   ]
  },
  {
   "cell_type": "code",
   "execution_count": null,
   "metadata": {},
   "outputs": [],
   "source": []
  },
  {
   "cell_type": "code",
   "execution_count": 29,
   "metadata": {},
   "outputs": [],
   "source": [
    "if NORMALIZE:\n",
    "    df_01 = normalize(df_01)\n",
    "\n",
    "df_01.to_csv(\"anompoint_n01_a{0:02d}_v{1:02d}.csv\".format(ANOMALY_FRACTION, VERSION))"
   ]
  },
  {
   "cell_type": "markdown",
   "metadata": {},
   "source": [
    "# Anomalies of the Second Kind: Dependency Anomaly\n",
    "\n",
    "**Procedure**: Introduce fake values by randomly sampling another value of the same column.\n",
    "\n",
    "Here, we would expect global methods to fail. Local methods should be doing alright in the end."
   ]
  },
  {
   "cell_type": "code",
   "execution_count": 30,
   "metadata": {},
   "outputs": [],
   "source": [
    "df_02 = df.copy()\n",
    "md_02 = []\n",
    "\n",
    "for anomaly_idx in range(NB_OF_ANOMALIES):\n",
    "    df_02, md = insert_dependency_anomaly(\n",
    "        df_02,\n",
    "        row=None,\n",
    "        col=\"FGM\",\n",
    "        val=None,\n",
    "        val_list=None,\n",
    "        val_dist=None,\n",
    "        random_state=RANDOM_SEED * anomaly_idx,\n",
    "        rng=None,\n",
    "    )\n",
    "\n",
    "    md_02.append(md)"
   ]
  },
  {
   "cell_type": "code",
   "execution_count": 31,
   "metadata": {},
   "outputs": [
    {
     "data": {
      "text/plain": [
       "100"
      ]
     },
     "execution_count": 31,
     "metadata": {},
     "output_type": "execute_result"
    }
   ],
   "source": [
    "np.sum(df_02.a_lbl)"
   ]
  },
  {
   "cell_type": "code",
   "execution_count": 32,
   "metadata": {},
   "outputs": [
    {
     "data": {
      "text/plain": [
       "(2008, 23)"
      ]
     },
     "execution_count": 32,
     "metadata": {},
     "output_type": "execute_result"
    }
   ],
   "source": [
    "df_02.shape"
   ]
  },
  {
   "cell_type": "code",
   "execution_count": 33,
   "metadata": {},
   "outputs": [],
   "source": [
    "if NORMALIZE:\n",
    "    df_02 = normalize(df_02)\n",
    "\n",
    "\n",
    "df_02.to_csv(\"anomdeps_n01_a{0:02d}_v{1:02d}.csv\".format(ANOMALY_FRACTION, VERSION))"
   ]
  },
  {
   "cell_type": "markdown",
   "metadata": {},
   "source": [
    "# Anomalies of the Third Kind: Contextual Anomaly\n",
    "\n",
    "**Procedure**: Introduce fake values by randomly sampling another value of the same column, but that value comes from a different subpopulation.\n",
    "\n",
    "Here we would like to see ADMERCS shine, and everyone else struggle."
   ]
  },
  {
   "cell_type": "markdown",
   "metadata": {},
   "source": [
    "## Context 01: rebounds and threes\n",
    "\n",
    "The big guys in the game are not good in long-distance shooting.\n",
    "\n",
    "So, the context is defined by `REB` and the attribute we modify is `FG3M`"
   ]
  },
  {
   "cell_type": "code",
   "execution_count": 34,
   "metadata": {},
   "outputs": [],
   "source": [
    "df_03 = df.copy()\n",
    "md_03 = []\n",
    "\n",
    "for anomaly_idx in range(NB_OF_ANOMALIES):\n",
    "    df_03, md = insert_contextual_anomaly(\n",
    "        df_03,\n",
    "        row=None,\n",
    "        col=\"FT_PCT\",\n",
    "        src_subpop_filter=lambda r: r.FG3M > 0.8,  # Best shooters\n",
    "        tgt_subpop_filter=lambda r: r.FG3M < 0.2,  # Regular shooters\n",
    "        rng=None,\n",
    "        random_state=RANDOM_SEED + anomaly_idx,\n",
    "        return_anomaly_metadata=True,\n",
    "        swap=False,\n",
    "    )\n",
    "\n",
    "    md_03.append(md)"
   ]
  },
  {
   "cell_type": "code",
   "execution_count": 35,
   "metadata": {},
   "outputs": [],
   "source": [
    "if NORMALIZE:\n",
    "    df_03 = normalize(df_03)\n",
    "\n",
    "df_03.to_csv(\"anomcontext_n01_a{0:02d}_v{1:02d}.csv\".format(ANOMALY_FRACTION, VERSION))"
   ]
  },
  {
   "cell_type": "markdown",
   "metadata": {},
   "source": [
    "## Context 01: Rebounds and Threes - SWAP version\n",
    "\n",
    "This may be a better implementation of our context-anomaly."
   ]
  },
  {
   "cell_type": "code",
   "execution_count": 36,
   "metadata": {},
   "outputs": [],
   "source": [
    "df_04 = df.copy()\n",
    "md_04 = []\n",
    "\n",
    "for anomaly_idx in range(NB_OF_ANOMALIES):\n",
    "    df_04, md = insert_contextual_anomaly(\n",
    "        df_04,\n",
    "        row=None,\n",
    "        col=\"FT_PCT\",\n",
    "        src_subpop_filter=lambda r: r.FG3M > 0.8,  # Best shooters\n",
    "        tgt_subpop_filter=lambda r: r.FG3M < 0.2,  # Regular shooters\n",
    "        rng=None,\n",
    "        random_state=RANDOM_SEED + anomaly_idx,\n",
    "        return_anomaly_metadata=True,\n",
    "        swap=True,\n",
    "    )\n",
    "\n",
    "    md_04.extend(md)  # You already get a list if swap=True"
   ]
  },
  {
   "cell_type": "code",
   "execution_count": 37,
   "metadata": {},
   "outputs": [],
   "source": [
    "if NORMALIZE:\n",
    "    df_04 = normalize(df_04)\n",
    "\n",
    "df_04.to_csv(\n",
    "    \"anomswapcontext_n01_a{0:02d}_v{1:02d}.csv\".format(ANOMALY_FRACTION, VERSION)\n",
    ")"
   ]
  },
  {
   "cell_type": "markdown",
   "metadata": {},
   "source": [
    "# More Advanced Contextual Anomalies\n",
    "\n",
    "First I perform some clustering, and then I swap between those clusters."
   ]
  },
  {
   "cell_type": "markdown",
   "metadata": {},
   "source": [
    "## Clustering"
   ]
  },
  {
   "cell_type": "code",
   "execution_count": 38,
   "metadata": {},
   "outputs": [],
   "source": [
    "from sklearn.cluster import KMeans\n",
    "\n",
    "N_CLUSTERS = 10"
   ]
  },
  {
   "cell_type": "code",
   "execution_count": 39,
   "metadata": {},
   "outputs": [],
   "source": [
    "from nba_anomaly_generator.anom.utils import init_rng, init_row_idx"
   ]
  },
  {
   "cell_type": "code",
   "execution_count": 40,
   "metadata": {},
   "outputs": [],
   "source": [
    "def add_cluster_column(df, n_clusters=10, **kmeans_kwargs):\n",
    "    c = KMeans(n_clusters=n_clusters, **kmeans_kwargs)\n",
    "    c.fit(df.values)\n",
    "\n",
    "    print(\"Clustering succesful.\")\n",
    "\n",
    "    df[\"cluster_label\"] = c.labels_\n",
    "    return df\n",
    "\n",
    "\n",
    "def find_an_interesting_switch(df, field=\"FGM\", must_include=None):\n",
    "\n",
    "    # Actual Function\n",
    "    cluster_labels = df[\"cluster_label\"].unique()\n",
    "    cluster_labels.sort()\n",
    "\n",
    "    # Collect Stats\n",
    "    stats = []\n",
    "\n",
    "    lower_bounds = []\n",
    "    upper_bounds = []\n",
    "\n",
    "    for label in cluster_labels:\n",
    "        rdf = df[df.cluster_label == label]\n",
    "        sts = (rdf[field].mean(), rdf[field].std())\n",
    "        stats.append(sts)\n",
    "\n",
    "        lb, ub = (sts[0] - sts[1], sts[0] + sts[1])\n",
    "        lower_bounds.append(lb)\n",
    "        upper_bounds.append(ub)\n",
    "\n",
    "    bounds = list(zip(lower_bounds, upper_bounds, cluster_labels))\n",
    "\n",
    "    # All interesting combos\n",
    "    combos = []\n",
    "    deltas = []\n",
    "    for i, (l1, u1, label_1) in enumerate(bounds[:-1]):\n",
    "        for i2 in range(i + 1, len(bounds)):\n",
    "\n",
    "            # Check the constraint given above\n",
    "            if must_include is not None:\n",
    "                valid_combination = False\n",
    "\n",
    "                assert isinstance(\n",
    "                    must_include, int\n",
    "                ), \"If you have this kind of preference, it must be an integer\"\n",
    "\n",
    "                if i == must_include:\n",
    "                    valid_combination = True\n",
    "                elif i2 == must_include:\n",
    "                    valid_combination = True\n",
    "            else:\n",
    "                valid_combination = True\n",
    "\n",
    "            # If the combination is valid, do your thing\n",
    "            if valid_combination:\n",
    "                l2, u2, label_2 = bounds[i2]\n",
    "\n",
    "                if u1 < l2:\n",
    "                    delta = l2 - u1\n",
    "                    deltas.append(delta)\n",
    "\n",
    "                    combo = (label_1, label_2)\n",
    "                    combos.append(combo)\n",
    "                elif l1 > u2:\n",
    "                    delta = l1 - u2\n",
    "                    deltas.append(delta)\n",
    "\n",
    "                    combo = (label_2, label_1)\n",
    "                    combos.append(combo)\n",
    "                else:\n",
    "                    # Not enough difference: no interesting combo\n",
    "                    pass\n",
    "            else:\n",
    "                # This combination is irrelevant, does not satisfy must_include constraint\n",
    "                pass\n",
    "\n",
    "    # Sort according to the delta associated with each combo.\n",
    "    df_switch = pd.DataFrame()\n",
    "    df_switch[\"delta\"] = deltas\n",
    "    df_switch[\"combo\"] = combos\n",
    "    df_switch[\"field\"] = field\n",
    "    df_switch.sort_values(by=\"delta\", ascending=False, inplace=True, ignore_index=True)\n",
    "\n",
    "    return df_switch\n",
    "\n",
    "\n",
    "def pick_interesting_switch(df_switch, rng=None, random_state=42, k=None):\n",
    "    # Manage inputs\n",
    "    rng = init_rng(rng=rng, random_state=random_state)\n",
    "\n",
    "    if k is not None and k > df_switch.shape[0]:\n",
    "        k = None  # That means just take all rows\n",
    "\n",
    "    # Sample\n",
    "    eligible_rows = slice(k)\n",
    "    dfs_row_idx = init_row_idx(rng, df_switch.iloc[eligible_rows, :])\n",
    "\n",
    "    return df_switch.iloc[dfs_row_idx]"
   ]
  },
  {
   "cell_type": "code",
   "execution_count": 41,
   "metadata": {},
   "outputs": [
    {
     "name": "stdout",
     "output_type": "stream",
     "text": [
      "Clustering succesful.\n"
     ]
    },
    {
     "data": {
      "text/html": [
       "<div>\n",
       "<style scoped>\n",
       "    .dataframe tbody tr th:only-of-type {\n",
       "        vertical-align: middle;\n",
       "    }\n",
       "\n",
       "    .dataframe tbody tr th {\n",
       "        vertical-align: top;\n",
       "    }\n",
       "\n",
       "    .dataframe thead th {\n",
       "        text-align: right;\n",
       "    }\n",
       "</style>\n",
       "<table border=\"1\" class=\"dataframe\">\n",
       "  <thead>\n",
       "    <tr style=\"text-align: right;\">\n",
       "      <th></th>\n",
       "      <th>PLAYER_AGE</th>\n",
       "      <th>GP</th>\n",
       "      <th>GS</th>\n",
       "      <th>MIN</th>\n",
       "      <th>FGM</th>\n",
       "      <th>FGA</th>\n",
       "      <th>FG_PCT</th>\n",
       "      <th>FG3M</th>\n",
       "      <th>FG3A</th>\n",
       "      <th>FG3_PCT</th>\n",
       "      <th>FTM</th>\n",
       "      <th>FTA</th>\n",
       "      <th>FT_PCT</th>\n",
       "      <th>OREB</th>\n",
       "      <th>DREB</th>\n",
       "      <th>REB</th>\n",
       "      <th>AST</th>\n",
       "      <th>STL</th>\n",
       "      <th>BLK</th>\n",
       "      <th>TOV</th>\n",
       "      <th>PF</th>\n",
       "      <th>PTS</th>\n",
       "      <th>cluster_label</th>\n",
       "    </tr>\n",
       "  </thead>\n",
       "  <tbody>\n",
       "    <tr>\n",
       "      <th>0</th>\n",
       "      <td>24.0</td>\n",
       "      <td>63.0</td>\n",
       "      <td>28.0</td>\n",
       "      <td>1028.0</td>\n",
       "      <td>128.0</td>\n",
       "      <td>301.0</td>\n",
       "      <td>0.425</td>\n",
       "      <td>49.0</td>\n",
       "      <td>134.0</td>\n",
       "      <td>0.366</td>\n",
       "      <td>65.0</td>\n",
       "      <td>73.0</td>\n",
       "      <td>0.890</td>\n",
       "      <td>17.0</td>\n",
       "      <td>94.0</td>\n",
       "      <td>111.0</td>\n",
       "      <td>121.0</td>\n",
       "      <td>47.0</td>\n",
       "      <td>8.0</td>\n",
       "      <td>44.0</td>\n",
       "      <td>93.0</td>\n",
       "      <td>370.0</td>\n",
       "      <td>5</td>\n",
       "    </tr>\n",
       "    <tr>\n",
       "      <th>1</th>\n",
       "      <td>25.0</td>\n",
       "      <td>74.0</td>\n",
       "      <td>26.0</td>\n",
       "      <td>1686.0</td>\n",
       "      <td>209.0</td>\n",
       "      <td>503.0</td>\n",
       "      <td>0.416</td>\n",
       "      <td>61.0</td>\n",
       "      <td>187.0</td>\n",
       "      <td>0.326</td>\n",
       "      <td>140.0</td>\n",
       "      <td>188.0</td>\n",
       "      <td>0.745</td>\n",
       "      <td>31.0</td>\n",
       "      <td>140.0</td>\n",
       "      <td>171.0</td>\n",
       "      <td>342.0</td>\n",
       "      <td>63.0</td>\n",
       "      <td>8.0</td>\n",
       "      <td>89.0</td>\n",
       "      <td>132.0</td>\n",
       "      <td>619.0</td>\n",
       "      <td>7</td>\n",
       "    </tr>\n",
       "    <tr>\n",
       "      <th>2</th>\n",
       "      <td>32.0</td>\n",
       "      <td>46.0</td>\n",
       "      <td>32.0</td>\n",
       "      <td>1250.0</td>\n",
       "      <td>141.0</td>\n",
       "      <td>345.0</td>\n",
       "      <td>0.409</td>\n",
       "      <td>33.0</td>\n",
       "      <td>112.0</td>\n",
       "      <td>0.295</td>\n",
       "      <td>29.0</td>\n",
       "      <td>45.0</td>\n",
       "      <td>0.644</td>\n",
       "      <td>20.0</td>\n",
       "      <td>114.0</td>\n",
       "      <td>134.0</td>\n",
       "      <td>93.0</td>\n",
       "      <td>37.0</td>\n",
       "      <td>7.0</td>\n",
       "      <td>45.0</td>\n",
       "      <td>77.0</td>\n",
       "      <td>344.0</td>\n",
       "      <td>0</td>\n",
       "    </tr>\n",
       "    <tr>\n",
       "      <th>3</th>\n",
       "      <td>33.0</td>\n",
       "      <td>76.0</td>\n",
       "      <td>72.0</td>\n",
       "      <td>2278.0</td>\n",
       "      <td>244.0</td>\n",
       "      <td>612.0</td>\n",
       "      <td>0.399</td>\n",
       "      <td>99.0</td>\n",
       "      <td>267.0</td>\n",
       "      <td>0.371</td>\n",
       "      <td>85.0</td>\n",
       "      <td>110.0</td>\n",
       "      <td>0.773</td>\n",
       "      <td>33.0</td>\n",
       "      <td>174.0</td>\n",
       "      <td>207.0</td>\n",
       "      <td>226.0</td>\n",
       "      <td>51.0</td>\n",
       "      <td>25.0</td>\n",
       "      <td>85.0</td>\n",
       "      <td>143.0</td>\n",
       "      <td>672.0</td>\n",
       "      <td>3</td>\n",
       "    </tr>\n",
       "    <tr>\n",
       "      <th>4</th>\n",
       "      <td>24.0</td>\n",
       "      <td>52.0</td>\n",
       "      <td>43.0</td>\n",
       "      <td>1525.0</td>\n",
       "      <td>286.0</td>\n",
       "      <td>666.0</td>\n",
       "      <td>0.429</td>\n",
       "      <td>43.0</td>\n",
       "      <td>134.0</td>\n",
       "      <td>0.321</td>\n",
       "      <td>84.0</td>\n",
       "      <td>114.0</td>\n",
       "      <td>0.737</td>\n",
       "      <td>24.0</td>\n",
       "      <td>197.0</td>\n",
       "      <td>221.0</td>\n",
       "      <td>310.0</td>\n",
       "      <td>104.0</td>\n",
       "      <td>27.0</td>\n",
       "      <td>150.0</td>\n",
       "      <td>174.0</td>\n",
       "      <td>699.0</td>\n",
       "      <td>7</td>\n",
       "    </tr>\n",
       "  </tbody>\n",
       "</table>\n",
       "</div>"
      ],
      "text/plain": [
       "   PLAYER_AGE    GP    GS     MIN    FGM    FGA  FG_PCT  FG3M   FG3A  FG3_PCT  \\\n",
       "0        24.0  63.0  28.0  1028.0  128.0  301.0   0.425  49.0  134.0    0.366   \n",
       "1        25.0  74.0  26.0  1686.0  209.0  503.0   0.416  61.0  187.0    0.326   \n",
       "2        32.0  46.0  32.0  1250.0  141.0  345.0   0.409  33.0  112.0    0.295   \n",
       "3        33.0  76.0  72.0  2278.0  244.0  612.0   0.399  99.0  267.0    0.371   \n",
       "4        24.0  52.0  43.0  1525.0  286.0  666.0   0.429  43.0  134.0    0.321   \n",
       "\n",
       "     FTM    FTA  FT_PCT  OREB   DREB    REB    AST    STL   BLK    TOV     PF  \\\n",
       "0   65.0   73.0   0.890  17.0   94.0  111.0  121.0   47.0   8.0   44.0   93.0   \n",
       "1  140.0  188.0   0.745  31.0  140.0  171.0  342.0   63.0   8.0   89.0  132.0   \n",
       "2   29.0   45.0   0.644  20.0  114.0  134.0   93.0   37.0   7.0   45.0   77.0   \n",
       "3   85.0  110.0   0.773  33.0  174.0  207.0  226.0   51.0  25.0   85.0  143.0   \n",
       "4   84.0  114.0   0.737  24.0  197.0  221.0  310.0  104.0  27.0  150.0  174.0   \n",
       "\n",
       "     PTS  cluster_label  \n",
       "0  370.0              5  \n",
       "1  619.0              7  \n",
       "2  344.0              0  \n",
       "3  672.0              3  \n",
       "4  699.0              7  "
      ]
     },
     "execution_count": 41,
     "metadata": {},
     "output_type": "execute_result"
    }
   ],
   "source": [
    "df = add_cluster_column(df, n_clusters=10)\n",
    "df.head()"
   ]
  },
  {
   "cell_type": "code",
   "execution_count": 42,
   "metadata": {},
   "outputs": [
    {
     "data": {
      "text/html": [
       "<div>\n",
       "<style scoped>\n",
       "    .dataframe tbody tr th:only-of-type {\n",
       "        vertical-align: middle;\n",
       "    }\n",
       "\n",
       "    .dataframe tbody tr th {\n",
       "        vertical-align: top;\n",
       "    }\n",
       "\n",
       "    .dataframe thead th {\n",
       "        text-align: right;\n",
       "    }\n",
       "</style>\n",
       "<table border=\"1\" class=\"dataframe\">\n",
       "  <thead>\n",
       "    <tr style=\"text-align: right;\">\n",
       "      <th></th>\n",
       "      <th>delta</th>\n",
       "      <th>combo</th>\n",
       "      <th>field</th>\n",
       "    </tr>\n",
       "  </thead>\n",
       "  <tbody>\n",
       "    <tr>\n",
       "      <th>0</th>\n",
       "      <td>468.141445</td>\n",
       "      <td>(5, 6)</td>\n",
       "      <td>FGM</td>\n",
       "    </tr>\n",
       "    <tr>\n",
       "      <th>1</th>\n",
       "      <td>396.764834</td>\n",
       "      <td>(0, 6)</td>\n",
       "      <td>FGM</td>\n",
       "    </tr>\n",
       "    <tr>\n",
       "      <th>2</th>\n",
       "      <td>359.632090</td>\n",
       "      <td>(5, 4)</td>\n",
       "      <td>FGM</td>\n",
       "    </tr>\n",
       "    <tr>\n",
       "      <th>3</th>\n",
       "      <td>322.976897</td>\n",
       "      <td>(7, 6)</td>\n",
       "      <td>FGM</td>\n",
       "    </tr>\n",
       "    <tr>\n",
       "      <th>4</th>\n",
       "      <td>288.255478</td>\n",
       "      <td>(0, 4)</td>\n",
       "      <td>FGM</td>\n",
       "    </tr>\n",
       "  </tbody>\n",
       "</table>\n",
       "</div>"
      ],
      "text/plain": [
       "        delta   combo field\n",
       "0  468.141445  (5, 6)   FGM\n",
       "1  396.764834  (0, 6)   FGM\n",
       "2  359.632090  (5, 4)   FGM\n",
       "3  322.976897  (7, 6)   FGM\n",
       "4  288.255478  (0, 4)   FGM"
      ]
     },
     "execution_count": 42,
     "metadata": {},
     "output_type": "execute_result"
    }
   ],
   "source": [
    "df_switch = find_an_interesting_switch(df, field=\"FGM\")\n",
    "df_switch.head()"
   ]
  },
  {
   "cell_type": "code",
   "execution_count": 43,
   "metadata": {},
   "outputs": [
    {
     "data": {
      "text/plain": [
       "delta    359.632\n",
       "combo     (5, 4)\n",
       "field        FGM\n",
       "Name: 2, dtype: object"
      ]
     },
     "execution_count": 43,
     "metadata": {},
     "output_type": "execute_result"
    }
   ],
   "source": [
    "switch = pick_interesting_switch(df_switch, rng=None, random_state=42, k=None)\n",
    "switch"
   ]
  },
  {
   "cell_type": "markdown",
   "metadata": {},
   "source": [
    "## Swapping between Clusters"
   ]
  },
  {
   "cell_type": "markdown",
   "metadata": {},
   "source": [
    "Make 10 versions. Do it in a single dimensions or in multiple ones.\n",
    "\n",
    "Run the algorithms and observe whether you can see the patterns. If you switch things around in more dimensions, you should be able to witness some stuff happening.\n",
    "\n",
    "It really cannot be too hard now. Start writing the entire thing down. Go at it with fury, and you will have yet another paper for your phd. That brings the grand total to 3. \n",
    "\n",
    "And then this summer you can spend with Gust on ddw, with Sam on clean autocomplete and with yourself on the CERN data for reals. So that would mean 2 or 3 submissions to AAAI, which would be a pretty insane total. Add to that Koralp's work _and_ maybe a paper with Jannes. Then, no-one can argue that you deserve a PhD."
   ]
  },
  {
   "cell_type": "code",
   "execution_count": 44,
   "metadata": {},
   "outputs": [],
   "source": [
    "def insert_switch_anomaly(\n",
    "    df,\n",
    "    field=\"FGM\",\n",
    "    n_clusters=10,\n",
    "    rng=None,\n",
    "    random_state=42,\n",
    "    k=None,\n",
    "    n_anomalies=10,\n",
    "    normalize_df=NORMALIZE,\n",
    "):\n",
    "\n",
    "    # Determine subpopulations and sensible swaps\n",
    "    if \"cluster_label\" not in df.columns:\n",
    "        df = add_cluster_column(df, n_clusters=n_clusters)\n",
    "\n",
    "    df_switch = find_an_interesting_switch(df, field=field)\n",
    "    switch = pick_interesting_switch(df_switch, rng=rng, random_state=random_state, k=k)\n",
    "\n",
    "    src_label, tgt_label = switch.combo\n",
    "\n",
    "    # Insert anomalies\n",
    "    ndf = df.copy()  # New DataFrame\n",
    "    amd = []  # All MetaData\n",
    "\n",
    "    for anomaly_idx in range(n_anomalies):\n",
    "        ndf, md = insert_contextual_anomaly(\n",
    "            ndf,\n",
    "            row=None,\n",
    "            col=field,\n",
    "            src_subpop_filter=lambda r: r.cluster_label == src_label,  # Source Cluster\n",
    "            tgt_subpop_filter=lambda r: r.cluster_label == tgt_label,  # Target Cluster\n",
    "            rng=rng,\n",
    "            random_state=random_state + anomaly_idx,\n",
    "            return_anomaly_metadata=True,\n",
    "            swap=False,\n",
    "        )\n",
    "\n",
    "        amd.append(md)\n",
    "\n",
    "    if normalize_df:\n",
    "        ndf = normalize(ndf)\n",
    "\n",
    "    return ndf, amd"
   ]
  },
  {
   "cell_type": "code",
   "execution_count": 45,
   "metadata": {},
   "outputs": [],
   "source": [
    "def _get_rows_with_anoms(amd):\n",
    "    return [md[\"loc\"][0] for md in amd]\n",
    "\n",
    "\n",
    "def _get_cols_with_anoms(amd):\n",
    "    return [md[\"loc\"][1] for md in amd]\n",
    "\n",
    "\n",
    "def _get_clus_with_anoms(df):\n",
    "    return df[df.a_lbl == 1].cluster_label.unique().tolist()\n",
    "\n",
    "\n",
    "def add_switch_anomaly(\n",
    "    df,\n",
    "    amd,\n",
    "    rng=None,\n",
    "    random_state=42,\n",
    "    k=None,\n",
    "    fields_to_include=[\"GS\"],\n",
    "    fields_to_exclude=[\"PTS\"],\n",
    "    normalize_df=NORMALIZE,\n",
    "):\n",
    "\n",
    "    rows_with_anoms = _get_rows_with_anoms(amd)\n",
    "    cols_with_anoms = _get_cols_with_anoms(amd)\n",
    "    clus_with_anoms = _get_clus_with_anoms(df)\n",
    "\n",
    "    # Determine relevant fields\n",
    "    cols_without_anoms = [\n",
    "        c\n",
    "        for c in df.columns\n",
    "        if c not in cols_with_anoms\n",
    "        if c not in [\"cluster_label\", \"a_lbl\"]\n",
    "    ]\n",
    "    relevant_fields = set(cols_without_anoms + fields_to_include)\n",
    "    relevant_fields = relevant_fields - set(fields_to_exclude)\n",
    "    relevant_fields = list(relevant_fields)\n",
    "\n",
    "    # Determine all possible switches\n",
    "    dfs = []\n",
    "    for field in relevant_fields:\n",
    "        s = find_an_interesting_switch(df, field=field, must_include=clus_with_anoms[0])\n",
    "\n",
    "        dfs.append(s)\n",
    "\n",
    "    df_switch = pd.concat(dfs)\n",
    "    df_switch.sort_values(by=\"delta\", ascending=False, inplace=True, ignore_index=True)\n",
    "\n",
    "    # Pick Switch - Insert Anomaly\n",
    "    switch = pick_interesting_switch(df_switch, rng=rng, random_state=random_state, k=k)\n",
    "\n",
    "    labels = list(switch.combo)\n",
    "    field = switch.field\n",
    "    tgt_label = clus_with_anoms[0]\n",
    "    src_label = [l for l in labels if l != tgt_label][0]\n",
    "\n",
    "    # Insert anomalies\n",
    "    ndf = df.copy()  # New DataFrame\n",
    "    amd = amd.copy()\n",
    "\n",
    "    for anomaly_idx, row_idx in enumerate(rows_with_anoms):\n",
    "        ndf, md = insert_contextual_anomaly(\n",
    "            ndf,\n",
    "            row=row_idx,\n",
    "            col=field,\n",
    "            src_subpop_filter=lambda r: r.cluster_label == src_label,  # Source Cluster\n",
    "            tgt_subpop_filter=lambda r: r.cluster_label == tgt_label,  # Target Cluster\n",
    "            rng=rng,\n",
    "            random_state=random_state + anomaly_idx,\n",
    "            return_anomaly_metadata=True,\n",
    "            swap=False,\n",
    "        )\n",
    "\n",
    "        amd.append(md)\n",
    "\n",
    "    if normalize_df:\n",
    "        ndf = normalize(ndf)\n",
    "\n",
    "    return ndf, amd"
   ]
  },
  {
   "cell_type": "code",
   "execution_count": 46,
   "metadata": {},
   "outputs": [],
   "source": [
    "def make_trio_of_switch_anomalies(\n",
    "    df,\n",
    "    first_field=\"FGM\",\n",
    "    n_clusters=10,\n",
    "    rng=None,\n",
    "    random_state=42,\n",
    "    k=None,\n",
    "    n_anomalies=10,\n",
    "    basename=\"anomswitch\",\n",
    "    fields_to_include=[\"GS\"],\n",
    "    fields_to_exclude=[\"PTS\"],\n",
    "    version_start=VERSION,\n",
    "    normalize_df=NORMALIZE,\n",
    "):\n",
    "    df_01, md_01 = insert_switch_anomaly(\n",
    "        df,\n",
    "        field=first_field,\n",
    "        n_clusters=n_clusters,\n",
    "        rng=rng,\n",
    "        random_state=random_state,\n",
    "        k=k,\n",
    "        n_anomalies=n_anomalies,\n",
    "        normalize_df=normalize_df,\n",
    "    )\n",
    "\n",
    "    columns_to_write = [c for c in df_01.columns if c != \"cluster_label\"]\n",
    "    # Save it\n",
    "    df_01.to_csv(\n",
    "        \"{0}_n01_a{1:02d}_v{2:02d}.csv\".format(\n",
    "            basename, ANOMALY_FRACTION, version_start\n",
    "        ),\n",
    "        columns=columns_to_write,\n",
    "    )\n",
    "\n",
    "    df_02, md_02 = add_switch_anomaly(\n",
    "        df_01,\n",
    "        md_01,\n",
    "        rng=rng,\n",
    "        random_state=random_state,\n",
    "        k=k,\n",
    "        fields_to_include=fields_to_include,\n",
    "        fields_to_exclude=fields_to_exclude,\n",
    "        normalize_df=normalize_df,\n",
    "    )\n",
    "    df_02.to_csv(\n",
    "        \"{0}_n01_a{1:02d}_v{2:02d}.csv\".format(\n",
    "            basename, ANOMALY_FRACTION, version_start + 1\n",
    "        ),\n",
    "        columns=columns_to_write,\n",
    "    )\n",
    "\n",
    "    # Save it\n",
    "    df_03, md_03 = add_switch_anomaly(\n",
    "        df_02,\n",
    "        md_02,\n",
    "        rng=rng,\n",
    "        random_state=random_state,\n",
    "        k=k,\n",
    "        fields_to_include=fields_to_include,\n",
    "        fields_to_exclude=fields_to_exclude,\n",
    "        normalize_df=normalize_df,\n",
    "    )\n",
    "\n",
    "    df_03.to_csv(\n",
    "        \"{0}_n01_a{1:02d}_v{2:02d}.csv\".format(\n",
    "            basename, ANOMALY_FRACTION, version_start + 2\n",
    "        ),\n",
    "        columns=columns_to_write,\n",
    "    )\n",
    "\n",
    "    return"
   ]
  },
  {
   "cell_type": "code",
   "execution_count": 47,
   "metadata": {},
   "outputs": [
    {
     "data": {
      "text/plain": [
       "Index(['PLAYER_AGE', 'GP', 'GS', 'MIN', 'FGM', 'FGA', 'FG_PCT', 'FG3M', 'FG3A',\n",
       "       'FG3_PCT', 'FTM', 'FTA', 'FT_PCT', 'OREB', 'DREB', 'REB', 'AST', 'STL',\n",
       "       'BLK', 'TOV', 'PF', 'PTS', 'cluster_label'],\n",
       "      dtype='object')"
      ]
     },
     "execution_count": 47,
     "metadata": {},
     "output_type": "execute_result"
    }
   ],
   "source": [
    "df.columns"
   ]
  },
  {
   "cell_type": "markdown",
   "metadata": {},
   "source": [
    "## Generate Trios"
   ]
  },
  {
   "cell_type": "code",
   "execution_count": 48,
   "metadata": {},
   "outputs": [],
   "source": [
    "# The most different ones\n",
    "make_trio_of_switch_anomalies(\n",
    "    df,\n",
    "    first_field=\"FGM\",\n",
    "    n_clusters=10,\n",
    "    rng=None,\n",
    "    random_state=RANDOM_SEED,\n",
    "    k=1,\n",
    "    basename=\"anomswitchbig\",\n",
    "    n_anomalies=NB_OF_ANOMALIES,\n",
    "    fields_to_include=[\"GS\"],\n",
    "    fields_to_exclude=[\"PTS\"],\n",
    "    version_start=0,\n",
    ")"
   ]
  },
  {
   "cell_type": "code",
   "execution_count": 49,
   "metadata": {},
   "outputs": [],
   "source": [
    "# The completely random ones\n",
    "make_trio_of_switch_anomalies(\n",
    "    df,\n",
    "    first_field=\"FGM\",\n",
    "    n_clusters=10,\n",
    "    rng=None,\n",
    "    random_state=RANDOM_SEED,\n",
    "    k=None,\n",
    "    basename=\"anomswitchrnd\",\n",
    "    n_anomalies=NB_OF_ANOMALIES,\n",
    "    fields_to_include=[\"GS\"],\n",
    "    fields_to_exclude=[\"PTS\"],\n",
    "    version_start=0,\n",
    ")"
   ]
  },
  {
   "cell_type": "code",
   "execution_count": 50,
   "metadata": {},
   "outputs": [],
   "source": [
    "# In between\n",
    "make_trio_of_switch_anomalies(\n",
    "    df,\n",
    "    first_field=\"FGM\",\n",
    "    n_clusters=10,\n",
    "    rng=None,\n",
    "    random_state=RANDOM_SEED,\n",
    "    k=15,\n",
    "    basename=\"anomswitchmid\",\n",
    "    n_anomalies=NB_OF_ANOMALIES,\n",
    "    fields_to_include=[\"GS\"],\n",
    "    fields_to_exclude=[\"PTS\"],\n",
    "    version_start=0,\n",
    ")"
   ]
  }
 ],
 "metadata": {
  "kernelspec": {
   "display_name": "admercs",
   "language": "python",
   "name": "admercs"
  },
  "language_info": {
   "codemirror_mode": {
    "name": "ipython",
    "version": 3
   },
   "file_extension": ".py",
   "mimetype": "text/x-python",
   "name": "python",
   "nbconvert_exporter": "python",
   "pygments_lexer": "ipython3",
   "version": "3.8.3"
  },
  "toc-autonumbering": true
 },
 "nbformat": 4,
 "nbformat_minor": 4
}
